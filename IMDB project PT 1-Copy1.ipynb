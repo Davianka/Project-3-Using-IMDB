{
 "cells": [
  {
   "cell_type": "code",
   "execution_count": 104,
   "id": "53548cfc",
   "metadata": {},
   "outputs": [
    {
     "data": {
      "text/plain": [
       "'1.8.1'"
      ]
     },
     "execution_count": 104,
     "metadata": {},
     "output_type": "execute_result"
    }
   ],
   "source": [
    "import pandas as pd\n",
    "import numpy as np\n",
    "import json\n",
    "from tqdm.notebook import tqdm_notebook\n",
    "import tmdbsimple as tmdb\n",
    "import matplotlib.pyplot as plt\n",
    "\n",
    "from scipy import stats\n",
    "import scipy\n",
    "scipy.__version__\n"
   ]
  },
  {
   "cell_type": "code",
   "execution_count": 9,
   "id": "a4d3f367",
   "metadata": {},
   "outputs": [],
   "source": [
    "import seaborn as sns\n",
    "import plotly.express as px"
   ]
  },
  {
   "cell_type": "markdown",
   "id": "c19f9ce9",
   "metadata": {
    "heading_collapsed": true
   },
   "source": [
    "# Title Basics DF"
   ]
  },
  {
   "cell_type": "code",
   "execution_count": 10,
   "id": "5ccf6042",
   "metadata": {
    "hidden": true
   },
   "outputs": [],
   "source": [
    "basics_url='https://datasets.imdbws.com/title.basics.tsv.gz'\n",
    "basics_df = pd.read_csv(basics_url,sep='\\t', low_memory=False)"
   ]
  },
  {
   "cell_type": "code",
   "execution_count": 11,
   "id": "45df4901",
   "metadata": {
    "hidden": true
   },
   "outputs": [
    {
     "data": {
      "text/html": [
       "<div>\n",
       "<style scoped>\n",
       "    .dataframe tbody tr th:only-of-type {\n",
       "        vertical-align: middle;\n",
       "    }\n",
       "\n",
       "    .dataframe tbody tr th {\n",
       "        vertical-align: top;\n",
       "    }\n",
       "\n",
       "    .dataframe thead th {\n",
       "        text-align: right;\n",
       "    }\n",
       "</style>\n",
       "<table border=\"1\" class=\"dataframe\">\n",
       "  <thead>\n",
       "    <tr style=\"text-align: right;\">\n",
       "      <th></th>\n",
       "      <th>tconst</th>\n",
       "      <th>titleType</th>\n",
       "      <th>primaryTitle</th>\n",
       "      <th>originalTitle</th>\n",
       "      <th>isAdult</th>\n",
       "      <th>startYear</th>\n",
       "      <th>endYear</th>\n",
       "      <th>runtimeMinutes</th>\n",
       "      <th>genres</th>\n",
       "    </tr>\n",
       "  </thead>\n",
       "  <tbody>\n",
       "    <tr>\n",
       "      <th>0</th>\n",
       "      <td>tt0000001</td>\n",
       "      <td>short</td>\n",
       "      <td>Carmencita</td>\n",
       "      <td>Carmencita</td>\n",
       "      <td>0</td>\n",
       "      <td>1894</td>\n",
       "      <td>\\N</td>\n",
       "      <td>1</td>\n",
       "      <td>Documentary,Short</td>\n",
       "    </tr>\n",
       "    <tr>\n",
       "      <th>1</th>\n",
       "      <td>tt0000002</td>\n",
       "      <td>short</td>\n",
       "      <td>Le clown et ses chiens</td>\n",
       "      <td>Le clown et ses chiens</td>\n",
       "      <td>0</td>\n",
       "      <td>1892</td>\n",
       "      <td>\\N</td>\n",
       "      <td>5</td>\n",
       "      <td>Animation,Short</td>\n",
       "    </tr>\n",
       "    <tr>\n",
       "      <th>2</th>\n",
       "      <td>tt0000003</td>\n",
       "      <td>short</td>\n",
       "      <td>Pauvre Pierrot</td>\n",
       "      <td>Pauvre Pierrot</td>\n",
       "      <td>0</td>\n",
       "      <td>1892</td>\n",
       "      <td>\\N</td>\n",
       "      <td>4</td>\n",
       "      <td>Animation,Comedy,Romance</td>\n",
       "    </tr>\n",
       "    <tr>\n",
       "      <th>3</th>\n",
       "      <td>tt0000004</td>\n",
       "      <td>short</td>\n",
       "      <td>Un bon bock</td>\n",
       "      <td>Un bon bock</td>\n",
       "      <td>0</td>\n",
       "      <td>1892</td>\n",
       "      <td>\\N</td>\n",
       "      <td>12</td>\n",
       "      <td>Animation,Short</td>\n",
       "    </tr>\n",
       "    <tr>\n",
       "      <th>4</th>\n",
       "      <td>tt0000005</td>\n",
       "      <td>short</td>\n",
       "      <td>Blacksmith Scene</td>\n",
       "      <td>Blacksmith Scene</td>\n",
       "      <td>0</td>\n",
       "      <td>1893</td>\n",
       "      <td>\\N</td>\n",
       "      <td>1</td>\n",
       "      <td>Comedy,Short</td>\n",
       "    </tr>\n",
       "  </tbody>\n",
       "</table>\n",
       "</div>"
      ],
      "text/plain": [
       "      tconst titleType            primaryTitle           originalTitle  \\\n",
       "0  tt0000001     short              Carmencita              Carmencita   \n",
       "1  tt0000002     short  Le clown et ses chiens  Le clown et ses chiens   \n",
       "2  tt0000003     short          Pauvre Pierrot          Pauvre Pierrot   \n",
       "3  tt0000004     short             Un bon bock             Un bon bock   \n",
       "4  tt0000005     short        Blacksmith Scene        Blacksmith Scene   \n",
       "\n",
       "  isAdult startYear endYear runtimeMinutes                    genres  \n",
       "0       0      1894      \\N              1         Documentary,Short  \n",
       "1       0      1892      \\N              5           Animation,Short  \n",
       "2       0      1892      \\N              4  Animation,Comedy,Romance  \n",
       "3       0      1892      \\N             12           Animation,Short  \n",
       "4       0      1893      \\N              1              Comedy,Short  "
      ]
     },
     "execution_count": 11,
     "metadata": {},
     "output_type": "execute_result"
    }
   ],
   "source": [
    "basics_df.head()"
   ]
  },
  {
   "cell_type": "markdown",
   "id": "e6609fdb",
   "metadata": {
    "hidden": true
   },
   "source": [
    "## Replace \"\\N\" with nan\n",
    "- keep only title type 'Movie'"
   ]
  },
  {
   "cell_type": "code",
   "execution_count": 12,
   "id": "02f9f3ec",
   "metadata": {
    "hidden": true
   },
   "outputs": [
    {
     "data": {
      "text/plain": [
       "2017    5894\n",
       "2018    5830\n",
       "2019    5715\n",
       "2020    5250\n",
       "2016    4634\n",
       "        ... \n",
       "1906       1\n",
       "2028       1\n",
       "1944       1\n",
       "1925       1\n",
       "1935       1\n",
       "Name: endYear, Length: 97, dtype: int64"
      ]
     },
     "execution_count": 12,
     "metadata": {},
     "output_type": "execute_result"
    }
   ],
   "source": [
    "basics_df = basics_df.replace({'\\\\N':np.nan})\n",
    "basics_df['endYear'].value_counts()"
   ]
  },
  {
   "cell_type": "code",
   "execution_count": 13,
   "id": "3169d8b8",
   "metadata": {
    "hidden": true
   },
   "outputs": [
    {
     "data": {
      "text/html": [
       "<div>\n",
       "<style scoped>\n",
       "    .dataframe tbody tr th:only-of-type {\n",
       "        vertical-align: middle;\n",
       "    }\n",
       "\n",
       "    .dataframe tbody tr th {\n",
       "        vertical-align: top;\n",
       "    }\n",
       "\n",
       "    .dataframe thead th {\n",
       "        text-align: right;\n",
       "    }\n",
       "</style>\n",
       "<table border=\"1\" class=\"dataframe\">\n",
       "  <thead>\n",
       "    <tr style=\"text-align: right;\">\n",
       "      <th></th>\n",
       "      <th>tconst</th>\n",
       "      <th>titleType</th>\n",
       "      <th>primaryTitle</th>\n",
       "      <th>originalTitle</th>\n",
       "      <th>isAdult</th>\n",
       "      <th>startYear</th>\n",
       "      <th>endYear</th>\n",
       "      <th>runtimeMinutes</th>\n",
       "      <th>genres</th>\n",
       "    </tr>\n",
       "  </thead>\n",
       "  <tbody>\n",
       "    <tr>\n",
       "      <th>0</th>\n",
       "      <td>tt0000001</td>\n",
       "      <td>short</td>\n",
       "      <td>Carmencita</td>\n",
       "      <td>Carmencita</td>\n",
       "      <td>0</td>\n",
       "      <td>1894</td>\n",
       "      <td>NaN</td>\n",
       "      <td>1</td>\n",
       "      <td>Documentary,Short</td>\n",
       "    </tr>\n",
       "    <tr>\n",
       "      <th>1</th>\n",
       "      <td>tt0000002</td>\n",
       "      <td>short</td>\n",
       "      <td>Le clown et ses chiens</td>\n",
       "      <td>Le clown et ses chiens</td>\n",
       "      <td>0</td>\n",
       "      <td>1892</td>\n",
       "      <td>NaN</td>\n",
       "      <td>5</td>\n",
       "      <td>Animation,Short</td>\n",
       "    </tr>\n",
       "    <tr>\n",
       "      <th>2</th>\n",
       "      <td>tt0000003</td>\n",
       "      <td>short</td>\n",
       "      <td>Pauvre Pierrot</td>\n",
       "      <td>Pauvre Pierrot</td>\n",
       "      <td>0</td>\n",
       "      <td>1892</td>\n",
       "      <td>NaN</td>\n",
       "      <td>4</td>\n",
       "      <td>Animation,Comedy,Romance</td>\n",
       "    </tr>\n",
       "    <tr>\n",
       "      <th>3</th>\n",
       "      <td>tt0000004</td>\n",
       "      <td>short</td>\n",
       "      <td>Un bon bock</td>\n",
       "      <td>Un bon bock</td>\n",
       "      <td>0</td>\n",
       "      <td>1892</td>\n",
       "      <td>NaN</td>\n",
       "      <td>12</td>\n",
       "      <td>Animation,Short</td>\n",
       "    </tr>\n",
       "    <tr>\n",
       "      <th>4</th>\n",
       "      <td>tt0000005</td>\n",
       "      <td>short</td>\n",
       "      <td>Blacksmith Scene</td>\n",
       "      <td>Blacksmith Scene</td>\n",
       "      <td>0</td>\n",
       "      <td>1893</td>\n",
       "      <td>NaN</td>\n",
       "      <td>1</td>\n",
       "      <td>Comedy,Short</td>\n",
       "    </tr>\n",
       "  </tbody>\n",
       "</table>\n",
       "</div>"
      ],
      "text/plain": [
       "      tconst titleType            primaryTitle           originalTitle  \\\n",
       "0  tt0000001     short              Carmencita              Carmencita   \n",
       "1  tt0000002     short  Le clown et ses chiens  Le clown et ses chiens   \n",
       "2  tt0000003     short          Pauvre Pierrot          Pauvre Pierrot   \n",
       "3  tt0000004     short             Un bon bock             Un bon bock   \n",
       "4  tt0000005     short        Blacksmith Scene        Blacksmith Scene   \n",
       "\n",
       "  isAdult startYear endYear runtimeMinutes                    genres  \n",
       "0       0      1894     NaN              1         Documentary,Short  \n",
       "1       0      1892     NaN              5           Animation,Short  \n",
       "2       0      1892     NaN              4  Animation,Comedy,Romance  \n",
       "3       0      1892     NaN             12           Animation,Short  \n",
       "4       0      1893     NaN              1              Comedy,Short  "
      ]
     },
     "execution_count": 13,
     "metadata": {},
     "output_type": "execute_result"
    }
   ],
   "source": [
    "basics_df.head()"
   ]
  },
  {
   "cell_type": "code",
   "execution_count": 14,
   "id": "c7f7ce82",
   "metadata": {
    "hidden": true
   },
   "outputs": [
    {
     "name": "stdout",
     "output_type": "stream",
     "text": [
      "<class 'pandas.core.frame.DataFrame'>\n",
      "RangeIndex: 9211717 entries, 0 to 9211716\n",
      "Data columns (total 9 columns):\n",
      " #   Column          Dtype \n",
      "---  ------          ----- \n",
      " 0   tconst          object\n",
      " 1   titleType       object\n",
      " 2   primaryTitle    object\n",
      " 3   originalTitle   object\n",
      " 4   isAdult         object\n",
      " 5   startYear       object\n",
      " 6   endYear         object\n",
      " 7   runtimeMinutes  object\n",
      " 8   genres          object\n",
      "dtypes: object(9)\n",
      "memory usage: 632.5+ MB\n"
     ]
    }
   ],
   "source": [
    "basics_df.info()"
   ]
  },
  {
   "cell_type": "code",
   "execution_count": 15,
   "id": "d31707d1",
   "metadata": {
    "hidden": true
   },
   "outputs": [
    {
     "data": {
      "text/plain": [
       "0"
      ]
     },
     "execution_count": 15,
     "metadata": {},
     "output_type": "execute_result"
    }
   ],
   "source": [
    "basics_df.duplicated().sum()"
   ]
  },
  {
   "cell_type": "code",
   "execution_count": 16,
   "id": "b2222c59",
   "metadata": {
    "hidden": true
   },
   "outputs": [
    {
     "data": {
      "text/plain": [
       "tconst                  0\n",
       "titleType               0\n",
       "primaryTitle           11\n",
       "originalTitle          11\n",
       "isAdult                 1\n",
       "startYear         1227268\n",
       "endYear           9115846\n",
       "runtimeMinutes    6741582\n",
       "genres             427035\n",
       "dtype: int64"
      ]
     },
     "execution_count": 16,
     "metadata": {},
     "output_type": "execute_result"
    }
   ],
   "source": [
    "basics_df.isna().sum()"
   ]
  },
  {
   "cell_type": "code",
   "execution_count": 17,
   "id": "45bfe009",
   "metadata": {
    "hidden": true
   },
   "outputs": [
    {
     "data": {
      "text/plain": [
       "0          False\n",
       "1          False\n",
       "2          False\n",
       "3          False\n",
       "4          False\n",
       "           ...  \n",
       "9211712    False\n",
       "9211713    False\n",
       "9211714    False\n",
       "9211715    False\n",
       "9211716    False\n",
       "Name: titleType, Length: 9211717, dtype: bool"
      ]
     },
     "execution_count": 17,
     "metadata": {},
     "output_type": "execute_result"
    }
   ],
   "source": [
    "movie_filter= basics_df['titleType']=='movie'\n",
    "movie_filter"
   ]
  },
  {
   "cell_type": "code",
   "execution_count": 18,
   "id": "03e1412e",
   "metadata": {
    "hidden": true
   },
   "outputs": [
    {
     "data": {
      "text/html": [
       "<div>\n",
       "<style scoped>\n",
       "    .dataframe tbody tr th:only-of-type {\n",
       "        vertical-align: middle;\n",
       "    }\n",
       "\n",
       "    .dataframe tbody tr th {\n",
       "        vertical-align: top;\n",
       "    }\n",
       "\n",
       "    .dataframe thead th {\n",
       "        text-align: right;\n",
       "    }\n",
       "</style>\n",
       "<table border=\"1\" class=\"dataframe\">\n",
       "  <thead>\n",
       "    <tr style=\"text-align: right;\">\n",
       "      <th></th>\n",
       "      <th>tconst</th>\n",
       "      <th>titleType</th>\n",
       "      <th>primaryTitle</th>\n",
       "      <th>originalTitle</th>\n",
       "      <th>isAdult</th>\n",
       "      <th>startYear</th>\n",
       "      <th>endYear</th>\n",
       "      <th>runtimeMinutes</th>\n",
       "      <th>genres</th>\n",
       "    </tr>\n",
       "  </thead>\n",
       "  <tbody>\n",
       "    <tr>\n",
       "      <th>8</th>\n",
       "      <td>tt0000009</td>\n",
       "      <td>movie</td>\n",
       "      <td>Miss Jerry</td>\n",
       "      <td>Miss Jerry</td>\n",
       "      <td>0</td>\n",
       "      <td>1894</td>\n",
       "      <td>NaN</td>\n",
       "      <td>45</td>\n",
       "      <td>Romance</td>\n",
       "    </tr>\n",
       "    <tr>\n",
       "      <th>498</th>\n",
       "      <td>tt0000502</td>\n",
       "      <td>movie</td>\n",
       "      <td>Bohemios</td>\n",
       "      <td>Bohemios</td>\n",
       "      <td>0</td>\n",
       "      <td>1905</td>\n",
       "      <td>NaN</td>\n",
       "      <td>100</td>\n",
       "      <td>NaN</td>\n",
       "    </tr>\n",
       "    <tr>\n",
       "      <th>570</th>\n",
       "      <td>tt0000574</td>\n",
       "      <td>movie</td>\n",
       "      <td>The Story of the Kelly Gang</td>\n",
       "      <td>The Story of the Kelly Gang</td>\n",
       "      <td>0</td>\n",
       "      <td>1906</td>\n",
       "      <td>NaN</td>\n",
       "      <td>70</td>\n",
       "      <td>Action,Adventure,Biography</td>\n",
       "    </tr>\n",
       "    <tr>\n",
       "      <th>587</th>\n",
       "      <td>tt0000591</td>\n",
       "      <td>movie</td>\n",
       "      <td>The Prodigal Son</td>\n",
       "      <td>L'enfant prodigue</td>\n",
       "      <td>0</td>\n",
       "      <td>1907</td>\n",
       "      <td>NaN</td>\n",
       "      <td>90</td>\n",
       "      <td>Drama</td>\n",
       "    </tr>\n",
       "    <tr>\n",
       "      <th>610</th>\n",
       "      <td>tt0000615</td>\n",
       "      <td>movie</td>\n",
       "      <td>Robbery Under Arms</td>\n",
       "      <td>Robbery Under Arms</td>\n",
       "      <td>0</td>\n",
       "      <td>1907</td>\n",
       "      <td>NaN</td>\n",
       "      <td>NaN</td>\n",
       "      <td>Drama</td>\n",
       "    </tr>\n",
       "    <tr>\n",
       "      <th>...</th>\n",
       "      <td>...</td>\n",
       "      <td>...</td>\n",
       "      <td>...</td>\n",
       "      <td>...</td>\n",
       "      <td>...</td>\n",
       "      <td>...</td>\n",
       "      <td>...</td>\n",
       "      <td>...</td>\n",
       "      <td>...</td>\n",
       "    </tr>\n",
       "    <tr>\n",
       "      <th>9211607</th>\n",
       "      <td>tt9916622</td>\n",
       "      <td>movie</td>\n",
       "      <td>Rodolpho Teóphilo - O Legado de um Pioneiro</td>\n",
       "      <td>Rodolpho Teóphilo - O Legado de um Pioneiro</td>\n",
       "      <td>0</td>\n",
       "      <td>2015</td>\n",
       "      <td>NaN</td>\n",
       "      <td>57</td>\n",
       "      <td>Documentary</td>\n",
       "    </tr>\n",
       "    <tr>\n",
       "      <th>9211634</th>\n",
       "      <td>tt9916680</td>\n",
       "      <td>movie</td>\n",
       "      <td>De la ilusión al desconcierto: cine colombiano...</td>\n",
       "      <td>De la ilusión al desconcierto: cine colombiano...</td>\n",
       "      <td>0</td>\n",
       "      <td>2007</td>\n",
       "      <td>NaN</td>\n",
       "      <td>100</td>\n",
       "      <td>Documentary</td>\n",
       "    </tr>\n",
       "    <tr>\n",
       "      <th>9211646</th>\n",
       "      <td>tt9916706</td>\n",
       "      <td>movie</td>\n",
       "      <td>Dankyavar Danka</td>\n",
       "      <td>Dankyavar Danka</td>\n",
       "      <td>0</td>\n",
       "      <td>2013</td>\n",
       "      <td>NaN</td>\n",
       "      <td>NaN</td>\n",
       "      <td>Comedy</td>\n",
       "    </tr>\n",
       "    <tr>\n",
       "      <th>9211657</th>\n",
       "      <td>tt9916730</td>\n",
       "      <td>movie</td>\n",
       "      <td>6 Gunn</td>\n",
       "      <td>6 Gunn</td>\n",
       "      <td>0</td>\n",
       "      <td>2017</td>\n",
       "      <td>NaN</td>\n",
       "      <td>116</td>\n",
       "      <td>NaN</td>\n",
       "    </tr>\n",
       "    <tr>\n",
       "      <th>9211667</th>\n",
       "      <td>tt9916754</td>\n",
       "      <td>movie</td>\n",
       "      <td>Chico Albuquerque - Revelações</td>\n",
       "      <td>Chico Albuquerque - Revelações</td>\n",
       "      <td>0</td>\n",
       "      <td>2013</td>\n",
       "      <td>NaN</td>\n",
       "      <td>49</td>\n",
       "      <td>Documentary</td>\n",
       "    </tr>\n",
       "  </tbody>\n",
       "</table>\n",
       "<p>620719 rows × 9 columns</p>\n",
       "</div>"
      ],
      "text/plain": [
       "            tconst titleType  \\\n",
       "8        tt0000009     movie   \n",
       "498      tt0000502     movie   \n",
       "570      tt0000574     movie   \n",
       "587      tt0000591     movie   \n",
       "610      tt0000615     movie   \n",
       "...            ...       ...   \n",
       "9211607  tt9916622     movie   \n",
       "9211634  tt9916680     movie   \n",
       "9211646  tt9916706     movie   \n",
       "9211657  tt9916730     movie   \n",
       "9211667  tt9916754     movie   \n",
       "\n",
       "                                              primaryTitle  \\\n",
       "8                                               Miss Jerry   \n",
       "498                                               Bohemios   \n",
       "570                            The Story of the Kelly Gang   \n",
       "587                                       The Prodigal Son   \n",
       "610                                     Robbery Under Arms   \n",
       "...                                                    ...   \n",
       "9211607        Rodolpho Teóphilo - O Legado de um Pioneiro   \n",
       "9211634  De la ilusión al desconcierto: cine colombiano...   \n",
       "9211646                                    Dankyavar Danka   \n",
       "9211657                                             6 Gunn   \n",
       "9211667                     Chico Albuquerque - Revelações   \n",
       "\n",
       "                                             originalTitle isAdult startYear  \\\n",
       "8                                               Miss Jerry       0      1894   \n",
       "498                                               Bohemios       0      1905   \n",
       "570                            The Story of the Kelly Gang       0      1906   \n",
       "587                                      L'enfant prodigue       0      1907   \n",
       "610                                     Robbery Under Arms       0      1907   \n",
       "...                                                    ...     ...       ...   \n",
       "9211607        Rodolpho Teóphilo - O Legado de um Pioneiro       0      2015   \n",
       "9211634  De la ilusión al desconcierto: cine colombiano...       0      2007   \n",
       "9211646                                    Dankyavar Danka       0      2013   \n",
       "9211657                                             6 Gunn       0      2017   \n",
       "9211667                     Chico Albuquerque - Revelações       0      2013   \n",
       "\n",
       "        endYear runtimeMinutes                      genres  \n",
       "8           NaN             45                     Romance  \n",
       "498         NaN            100                         NaN  \n",
       "570         NaN             70  Action,Adventure,Biography  \n",
       "587         NaN             90                       Drama  \n",
       "610         NaN            NaN                       Drama  \n",
       "...         ...            ...                         ...  \n",
       "9211607     NaN             57                 Documentary  \n",
       "9211634     NaN            100                 Documentary  \n",
       "9211646     NaN            NaN                      Comedy  \n",
       "9211657     NaN            116                         NaN  \n",
       "9211667     NaN             49                 Documentary  \n",
       "\n",
       "[620719 rows x 9 columns]"
      ]
     },
     "execution_count": 18,
     "metadata": {},
     "output_type": "execute_result"
    }
   ],
   "source": [
    "basics_df[movie_filter]"
   ]
  },
  {
   "cell_type": "code",
   "execution_count": 19,
   "id": "9aee52a2",
   "metadata": {
    "hidden": true
   },
   "outputs": [
    {
     "data": {
      "text/html": [
       "<div>\n",
       "<style scoped>\n",
       "    .dataframe tbody tr th:only-of-type {\n",
       "        vertical-align: middle;\n",
       "    }\n",
       "\n",
       "    .dataframe tbody tr th {\n",
       "        vertical-align: top;\n",
       "    }\n",
       "\n",
       "    .dataframe thead th {\n",
       "        text-align: right;\n",
       "    }\n",
       "</style>\n",
       "<table border=\"1\" class=\"dataframe\">\n",
       "  <thead>\n",
       "    <tr style=\"text-align: right;\">\n",
       "      <th></th>\n",
       "      <th>tconst</th>\n",
       "      <th>titleType</th>\n",
       "      <th>primaryTitle</th>\n",
       "      <th>originalTitle</th>\n",
       "      <th>isAdult</th>\n",
       "      <th>startYear</th>\n",
       "      <th>endYear</th>\n",
       "      <th>runtimeMinutes</th>\n",
       "      <th>genres</th>\n",
       "    </tr>\n",
       "  </thead>\n",
       "  <tbody>\n",
       "    <tr>\n",
       "      <th>8</th>\n",
       "      <td>tt0000009</td>\n",
       "      <td>movie</td>\n",
       "      <td>Miss Jerry</td>\n",
       "      <td>Miss Jerry</td>\n",
       "      <td>0</td>\n",
       "      <td>1894</td>\n",
       "      <td>NaN</td>\n",
       "      <td>45</td>\n",
       "      <td>Romance</td>\n",
       "    </tr>\n",
       "    <tr>\n",
       "      <th>498</th>\n",
       "      <td>tt0000502</td>\n",
       "      <td>movie</td>\n",
       "      <td>Bohemios</td>\n",
       "      <td>Bohemios</td>\n",
       "      <td>0</td>\n",
       "      <td>1905</td>\n",
       "      <td>NaN</td>\n",
       "      <td>100</td>\n",
       "      <td>NaN</td>\n",
       "    </tr>\n",
       "    <tr>\n",
       "      <th>570</th>\n",
       "      <td>tt0000574</td>\n",
       "      <td>movie</td>\n",
       "      <td>The Story of the Kelly Gang</td>\n",
       "      <td>The Story of the Kelly Gang</td>\n",
       "      <td>0</td>\n",
       "      <td>1906</td>\n",
       "      <td>NaN</td>\n",
       "      <td>70</td>\n",
       "      <td>Action,Adventure,Biography</td>\n",
       "    </tr>\n",
       "    <tr>\n",
       "      <th>587</th>\n",
       "      <td>tt0000591</td>\n",
       "      <td>movie</td>\n",
       "      <td>The Prodigal Son</td>\n",
       "      <td>L'enfant prodigue</td>\n",
       "      <td>0</td>\n",
       "      <td>1907</td>\n",
       "      <td>NaN</td>\n",
       "      <td>90</td>\n",
       "      <td>Drama</td>\n",
       "    </tr>\n",
       "    <tr>\n",
       "      <th>610</th>\n",
       "      <td>tt0000615</td>\n",
       "      <td>movie</td>\n",
       "      <td>Robbery Under Arms</td>\n",
       "      <td>Robbery Under Arms</td>\n",
       "      <td>0</td>\n",
       "      <td>1907</td>\n",
       "      <td>NaN</td>\n",
       "      <td>NaN</td>\n",
       "      <td>Drama</td>\n",
       "    </tr>\n",
       "  </tbody>\n",
       "</table>\n",
       "</div>"
      ],
      "text/plain": [
       "        tconst titleType                 primaryTitle  \\\n",
       "8    tt0000009     movie                   Miss Jerry   \n",
       "498  tt0000502     movie                     Bohemios   \n",
       "570  tt0000574     movie  The Story of the Kelly Gang   \n",
       "587  tt0000591     movie             The Prodigal Son   \n",
       "610  tt0000615     movie           Robbery Under Arms   \n",
       "\n",
       "                   originalTitle isAdult startYear endYear runtimeMinutes  \\\n",
       "8                     Miss Jerry       0      1894     NaN             45   \n",
       "498                     Bohemios       0      1905     NaN            100   \n",
       "570  The Story of the Kelly Gang       0      1906     NaN             70   \n",
       "587            L'enfant prodigue       0      1907     NaN             90   \n",
       "610           Robbery Under Arms       0      1907     NaN            NaN   \n",
       "\n",
       "                         genres  \n",
       "8                       Romance  \n",
       "498                         NaN  \n",
       "570  Action,Adventure,Biography  \n",
       "587                       Drama  \n",
       "610                       Drama  "
      ]
     },
     "execution_count": 19,
     "metadata": {},
     "output_type": "execute_result"
    }
   ],
   "source": [
    "basics_movie_df= basics_df[basics_df['titleType']=='movie']\n",
    "basics_movie_df.head()"
   ]
  },
  {
   "cell_type": "markdown",
   "id": "ad07f5d3",
   "metadata": {
    "hidden": true
   },
   "source": [
    "## Eliminate movies that are null for runtime Minutes, genres, and movies that include 'Documentary' Type. \n",
    "\n"
   ]
  },
  {
   "cell_type": "code",
   "execution_count": 20,
   "id": "20dc80a9",
   "metadata": {
    "hidden": true
   },
   "outputs": [],
   "source": [
    "basics_movie_df = basics_movie_df.dropna(subset=['runtimeMinutes', 'genres'])"
   ]
  },
  {
   "cell_type": "code",
   "execution_count": 21,
   "id": "589efe28",
   "metadata": {
    "hidden": true
   },
   "outputs": [
    {
     "data": {
      "text/plain": [
       "tconst                 0\n",
       "titleType              0\n",
       "primaryTitle           0\n",
       "originalTitle          0\n",
       "isAdult                0\n",
       "startYear           5869\n",
       "endYear           367716\n",
       "runtimeMinutes         0\n",
       "genres                 0\n",
       "dtype: int64"
      ]
     },
     "execution_count": 21,
     "metadata": {},
     "output_type": "execute_result"
    }
   ],
   "source": [
    "basics_movie_df.isna().sum()"
   ]
  },
  {
   "cell_type": "code",
   "execution_count": 22,
   "id": "ca7f01e0",
   "metadata": {
    "hidden": true
   },
   "outputs": [],
   "source": [
    "is_documentary = basics_movie_df['genres'].str.contains('documentary',case=False)\n",
    "basics_movie_df = basics_movie_df[~is_documentary]"
   ]
  },
  {
   "cell_type": "code",
   "execution_count": 23,
   "id": "90738add",
   "metadata": {
    "hidden": true
   },
   "outputs": [
    {
     "data": {
      "text/plain": [
       "Drama                         68040\n",
       "Comedy                        28928\n",
       "Comedy,Drama                  10416\n",
       "Drama,Romance                  9794\n",
       "Horror                         7374\n",
       "                              ...  \n",
       "Crime,Film-Noir,Sport             1\n",
       "Adventure,Comedy,Game-Show        1\n",
       "History,Mystery,Sci-Fi            1\n",
       "Action,Fantasy,War                1\n",
       "Crime,Fantasy,Sci-Fi              1\n",
       "Name: genres, Length: 1158, dtype: int64"
      ]
     },
     "execution_count": 23,
     "metadata": {},
     "output_type": "execute_result"
    }
   ],
   "source": [
    "basics_movie_df['genres'].value_counts()"
   ]
  },
  {
   "cell_type": "code",
   "execution_count": 24,
   "id": "675c5dd3",
   "metadata": {
    "hidden": true
   },
   "outputs": [
    {
     "data": {
      "text/plain": [
       "movie    280075\n",
       "Name: titleType, dtype: int64"
      ]
     },
     "execution_count": 24,
     "metadata": {},
     "output_type": "execute_result"
    }
   ],
   "source": [
    "basics_movie_df['titleType'].value_counts()"
   ]
  },
  {
   "cell_type": "markdown",
   "id": "ea350c03",
   "metadata": {
    "hidden": true
   },
   "source": [
    "##keep start year 2000-2022"
   ]
  },
  {
   "cell_type": "code",
   "execution_count": 25,
   "id": "c3ea06d0",
   "metadata": {
    "hidden": true
   },
   "outputs": [
    {
     "data": {
      "text/plain": [
       "2018    9581\n",
       "2017    9402\n",
       "2019    9315\n",
       "2016    8997\n",
       "2015    8545\n",
       "        ... \n",
       "1906       1\n",
       "1903       1\n",
       "1908       1\n",
       "2027       1\n",
       "1894       1\n",
       "Name: startYear, Length: 124, dtype: int64"
      ]
     },
     "execution_count": 25,
     "metadata": {},
     "output_type": "execute_result"
    }
   ],
   "source": [
    "basics_movie_df['startYear'].value_counts()"
   ]
  },
  {
   "cell_type": "code",
   "execution_count": 26,
   "id": "9d1c304c",
   "metadata": {
    "hidden": true
   },
   "outputs": [],
   "source": [
    "basics_movie_df = basics_movie_df.dropna(subset=['startYear'])"
   ]
  },
  {
   "cell_type": "code",
   "execution_count": 27,
   "id": "c2f1e84c",
   "metadata": {
    "hidden": true
   },
   "outputs": [
    {
     "name": "stdout",
     "output_type": "stream",
     "text": [
      "tconst            object\n",
      "titleType         object\n",
      "primaryTitle      object\n",
      "originalTitle     object\n",
      "isAdult           object\n",
      "startYear          int64\n",
      "endYear           object\n",
      "runtimeMinutes    object\n",
      "genres            object\n",
      "dtype: object\n"
     ]
    }
   ],
   "source": [
    "basics_movie_df['startYear'] = basics_movie_df['startYear'].astype(int)\n",
    "print (basics_movie_df.dtypes)"
   ]
  },
  {
   "cell_type": "code",
   "execution_count": 28,
   "id": "3d870092",
   "metadata": {
    "hidden": true
   },
   "outputs": [
    {
     "data": {
      "text/html": [
       "<div>\n",
       "<style scoped>\n",
       "    .dataframe tbody tr th:only-of-type {\n",
       "        vertical-align: middle;\n",
       "    }\n",
       "\n",
       "    .dataframe tbody tr th {\n",
       "        vertical-align: top;\n",
       "    }\n",
       "\n",
       "    .dataframe thead th {\n",
       "        text-align: right;\n",
       "    }\n",
       "</style>\n",
       "<table border=\"1\" class=\"dataframe\">\n",
       "  <thead>\n",
       "    <tr style=\"text-align: right;\">\n",
       "      <th></th>\n",
       "      <th>tconst</th>\n",
       "      <th>titleType</th>\n",
       "      <th>primaryTitle</th>\n",
       "      <th>originalTitle</th>\n",
       "      <th>isAdult</th>\n",
       "      <th>startYear</th>\n",
       "      <th>endYear</th>\n",
       "      <th>runtimeMinutes</th>\n",
       "      <th>genres</th>\n",
       "    </tr>\n",
       "  </thead>\n",
       "  <tbody>\n",
       "    <tr>\n",
       "      <th>34792</th>\n",
       "      <td>tt0035423</td>\n",
       "      <td>movie</td>\n",
       "      <td>Kate &amp; Leopold</td>\n",
       "      <td>Kate &amp; Leopold</td>\n",
       "      <td>0</td>\n",
       "      <td>2001</td>\n",
       "      <td>NaN</td>\n",
       "      <td>118</td>\n",
       "      <td>Comedy,Fantasy,Romance</td>\n",
       "    </tr>\n",
       "    <tr>\n",
       "      <th>61093</th>\n",
       "      <td>tt0062336</td>\n",
       "      <td>movie</td>\n",
       "      <td>The Tango of the Widower and Its Distorting Mi...</td>\n",
       "      <td>El Tango del Viudo y Su Espejo Deformante</td>\n",
       "      <td>0</td>\n",
       "      <td>2020</td>\n",
       "      <td>NaN</td>\n",
       "      <td>70</td>\n",
       "      <td>Drama</td>\n",
       "    </tr>\n",
       "    <tr>\n",
       "      <th>67639</th>\n",
       "      <td>tt0069049</td>\n",
       "      <td>movie</td>\n",
       "      <td>The Other Side of the Wind</td>\n",
       "      <td>The Other Side of the Wind</td>\n",
       "      <td>0</td>\n",
       "      <td>2018</td>\n",
       "      <td>NaN</td>\n",
       "      <td>122</td>\n",
       "      <td>Drama</td>\n",
       "    </tr>\n",
       "    <tr>\n",
       "      <th>77933</th>\n",
       "      <td>tt0079644</td>\n",
       "      <td>movie</td>\n",
       "      <td>November 1828</td>\n",
       "      <td>November 1828</td>\n",
       "      <td>0</td>\n",
       "      <td>2001</td>\n",
       "      <td>NaN</td>\n",
       "      <td>140</td>\n",
       "      <td>Drama,War</td>\n",
       "    </tr>\n",
       "    <tr>\n",
       "      <th>86770</th>\n",
       "      <td>tt0088751</td>\n",
       "      <td>movie</td>\n",
       "      <td>The Naked Monster</td>\n",
       "      <td>The Naked Monster</td>\n",
       "      <td>0</td>\n",
       "      <td>2005</td>\n",
       "      <td>NaN</td>\n",
       "      <td>100</td>\n",
       "      <td>Comedy,Horror,Sci-Fi</td>\n",
       "    </tr>\n",
       "    <tr>\n",
       "      <th>...</th>\n",
       "      <td>...</td>\n",
       "      <td>...</td>\n",
       "      <td>...</td>\n",
       "      <td>...</td>\n",
       "      <td>...</td>\n",
       "      <td>...</td>\n",
       "      <td>...</td>\n",
       "      <td>...</td>\n",
       "      <td>...</td>\n",
       "    </tr>\n",
       "    <tr>\n",
       "      <th>9211389</th>\n",
       "      <td>tt9916170</td>\n",
       "      <td>movie</td>\n",
       "      <td>The Rehearsal</td>\n",
       "      <td>O Ensaio</td>\n",
       "      <td>0</td>\n",
       "      <td>2019</td>\n",
       "      <td>NaN</td>\n",
       "      <td>51</td>\n",
       "      <td>Drama</td>\n",
       "    </tr>\n",
       "    <tr>\n",
       "      <th>9211398</th>\n",
       "      <td>tt9916190</td>\n",
       "      <td>movie</td>\n",
       "      <td>Safeguard</td>\n",
       "      <td>Safeguard</td>\n",
       "      <td>0</td>\n",
       "      <td>2020</td>\n",
       "      <td>NaN</td>\n",
       "      <td>95</td>\n",
       "      <td>Action,Adventure,Thriller</td>\n",
       "    </tr>\n",
       "    <tr>\n",
       "      <th>9211437</th>\n",
       "      <td>tt9916270</td>\n",
       "      <td>movie</td>\n",
       "      <td>Il talento del calabrone</td>\n",
       "      <td>Il talento del calabrone</td>\n",
       "      <td>0</td>\n",
       "      <td>2020</td>\n",
       "      <td>NaN</td>\n",
       "      <td>84</td>\n",
       "      <td>Thriller</td>\n",
       "    </tr>\n",
       "    <tr>\n",
       "      <th>9211482</th>\n",
       "      <td>tt9916362</td>\n",
       "      <td>movie</td>\n",
       "      <td>Coven</td>\n",
       "      <td>Akelarre</td>\n",
       "      <td>0</td>\n",
       "      <td>2020</td>\n",
       "      <td>NaN</td>\n",
       "      <td>92</td>\n",
       "      <td>Drama,History</td>\n",
       "    </tr>\n",
       "    <tr>\n",
       "      <th>9211566</th>\n",
       "      <td>tt9916538</td>\n",
       "      <td>movie</td>\n",
       "      <td>Kuambil Lagi Hatiku</td>\n",
       "      <td>Kuambil Lagi Hatiku</td>\n",
       "      <td>0</td>\n",
       "      <td>2019</td>\n",
       "      <td>NaN</td>\n",
       "      <td>123</td>\n",
       "      <td>Drama</td>\n",
       "    </tr>\n",
       "  </tbody>\n",
       "</table>\n",
       "<p>143081 rows × 9 columns</p>\n",
       "</div>"
      ],
      "text/plain": [
       "            tconst titleType  \\\n",
       "34792    tt0035423     movie   \n",
       "61093    tt0062336     movie   \n",
       "67639    tt0069049     movie   \n",
       "77933    tt0079644     movie   \n",
       "86770    tt0088751     movie   \n",
       "...            ...       ...   \n",
       "9211389  tt9916170     movie   \n",
       "9211398  tt9916190     movie   \n",
       "9211437  tt9916270     movie   \n",
       "9211482  tt9916362     movie   \n",
       "9211566  tt9916538     movie   \n",
       "\n",
       "                                              primaryTitle  \\\n",
       "34792                                       Kate & Leopold   \n",
       "61093    The Tango of the Widower and Its Distorting Mi...   \n",
       "67639                           The Other Side of the Wind   \n",
       "77933                                        November 1828   \n",
       "86770                                    The Naked Monster   \n",
       "...                                                    ...   \n",
       "9211389                                      The Rehearsal   \n",
       "9211398                                          Safeguard   \n",
       "9211437                           Il talento del calabrone   \n",
       "9211482                                              Coven   \n",
       "9211566                                Kuambil Lagi Hatiku   \n",
       "\n",
       "                                     originalTitle isAdult  startYear endYear  \\\n",
       "34792                               Kate & Leopold       0       2001     NaN   \n",
       "61093    El Tango del Viudo y Su Espejo Deformante       0       2020     NaN   \n",
       "67639                   The Other Side of the Wind       0       2018     NaN   \n",
       "77933                                November 1828       0       2001     NaN   \n",
       "86770                            The Naked Monster       0       2005     NaN   \n",
       "...                                            ...     ...        ...     ...   \n",
       "9211389                                   O Ensaio       0       2019     NaN   \n",
       "9211398                                  Safeguard       0       2020     NaN   \n",
       "9211437                   Il talento del calabrone       0       2020     NaN   \n",
       "9211482                                   Akelarre       0       2020     NaN   \n",
       "9211566                        Kuambil Lagi Hatiku       0       2019     NaN   \n",
       "\n",
       "        runtimeMinutes                     genres  \n",
       "34792              118     Comedy,Fantasy,Romance  \n",
       "61093               70                      Drama  \n",
       "67639              122                      Drama  \n",
       "77933              140                  Drama,War  \n",
       "86770              100       Comedy,Horror,Sci-Fi  \n",
       "...                ...                        ...  \n",
       "9211389             51                      Drama  \n",
       "9211398             95  Action,Adventure,Thriller  \n",
       "9211437             84                   Thriller  \n",
       "9211482             92              Drama,History  \n",
       "9211566            123                      Drama  \n",
       "\n",
       "[143081 rows x 9 columns]"
      ]
     },
     "execution_count": 28,
     "metadata": {},
     "output_type": "execute_result"
    }
   ],
   "source": [
    "basics_movie_df.loc[basics_movie_df['startYear']>=2000]"
   ]
  },
  {
   "cell_type": "code",
   "execution_count": 29,
   "id": "bd0969cd",
   "metadata": {
    "hidden": true
   },
   "outputs": [
    {
     "data": {
      "text/html": [
       "<div>\n",
       "<style scoped>\n",
       "    .dataframe tbody tr th:only-of-type {\n",
       "        vertical-align: middle;\n",
       "    }\n",
       "\n",
       "    .dataframe tbody tr th {\n",
       "        vertical-align: top;\n",
       "    }\n",
       "\n",
       "    .dataframe thead th {\n",
       "        text-align: right;\n",
       "    }\n",
       "</style>\n",
       "<table border=\"1\" class=\"dataframe\">\n",
       "  <thead>\n",
       "    <tr style=\"text-align: right;\">\n",
       "      <th></th>\n",
       "      <th>tconst</th>\n",
       "      <th>titleType</th>\n",
       "      <th>primaryTitle</th>\n",
       "      <th>originalTitle</th>\n",
       "      <th>isAdult</th>\n",
       "      <th>startYear</th>\n",
       "      <th>endYear</th>\n",
       "      <th>runtimeMinutes</th>\n",
       "      <th>genres</th>\n",
       "    </tr>\n",
       "  </thead>\n",
       "  <tbody>\n",
       "    <tr>\n",
       "      <th>34792</th>\n",
       "      <td>tt0035423</td>\n",
       "      <td>movie</td>\n",
       "      <td>Kate &amp; Leopold</td>\n",
       "      <td>Kate &amp; Leopold</td>\n",
       "      <td>0</td>\n",
       "      <td>2001</td>\n",
       "      <td>NaN</td>\n",
       "      <td>118</td>\n",
       "      <td>Comedy,Fantasy,Romance</td>\n",
       "    </tr>\n",
       "    <tr>\n",
       "      <th>61093</th>\n",
       "      <td>tt0062336</td>\n",
       "      <td>movie</td>\n",
       "      <td>The Tango of the Widower and Its Distorting Mi...</td>\n",
       "      <td>El Tango del Viudo y Su Espejo Deformante</td>\n",
       "      <td>0</td>\n",
       "      <td>2020</td>\n",
       "      <td>NaN</td>\n",
       "      <td>70</td>\n",
       "      <td>Drama</td>\n",
       "    </tr>\n",
       "    <tr>\n",
       "      <th>67639</th>\n",
       "      <td>tt0069049</td>\n",
       "      <td>movie</td>\n",
       "      <td>The Other Side of the Wind</td>\n",
       "      <td>The Other Side of the Wind</td>\n",
       "      <td>0</td>\n",
       "      <td>2018</td>\n",
       "      <td>NaN</td>\n",
       "      <td>122</td>\n",
       "      <td>Drama</td>\n",
       "    </tr>\n",
       "    <tr>\n",
       "      <th>77933</th>\n",
       "      <td>tt0079644</td>\n",
       "      <td>movie</td>\n",
       "      <td>November 1828</td>\n",
       "      <td>November 1828</td>\n",
       "      <td>0</td>\n",
       "      <td>2001</td>\n",
       "      <td>NaN</td>\n",
       "      <td>140</td>\n",
       "      <td>Drama,War</td>\n",
       "    </tr>\n",
       "    <tr>\n",
       "      <th>86770</th>\n",
       "      <td>tt0088751</td>\n",
       "      <td>movie</td>\n",
       "      <td>The Naked Monster</td>\n",
       "      <td>The Naked Monster</td>\n",
       "      <td>0</td>\n",
       "      <td>2005</td>\n",
       "      <td>NaN</td>\n",
       "      <td>100</td>\n",
       "      <td>Comedy,Horror,Sci-Fi</td>\n",
       "    </tr>\n",
       "  </tbody>\n",
       "</table>\n",
       "</div>"
      ],
      "text/plain": [
       "          tconst titleType                                       primaryTitle  \\\n",
       "34792  tt0035423     movie                                     Kate & Leopold   \n",
       "61093  tt0062336     movie  The Tango of the Widower and Its Distorting Mi...   \n",
       "67639  tt0069049     movie                         The Other Side of the Wind   \n",
       "77933  tt0079644     movie                                      November 1828   \n",
       "86770  tt0088751     movie                                  The Naked Monster   \n",
       "\n",
       "                                   originalTitle isAdult  startYear endYear  \\\n",
       "34792                             Kate & Leopold       0       2001     NaN   \n",
       "61093  El Tango del Viudo y Su Espejo Deformante       0       2020     NaN   \n",
       "67639                 The Other Side of the Wind       0       2018     NaN   \n",
       "77933                              November 1828       0       2001     NaN   \n",
       "86770                          The Naked Monster       0       2005     NaN   \n",
       "\n",
       "      runtimeMinutes                  genres  \n",
       "34792            118  Comedy,Fantasy,Romance  \n",
       "61093             70                   Drama  \n",
       "67639            122                   Drama  \n",
       "77933            140               Drama,War  \n",
       "86770            100    Comedy,Horror,Sci-Fi  "
      ]
     },
     "execution_count": 29,
     "metadata": {},
     "output_type": "execute_result"
    }
   ],
   "source": [
    "basics_movie_df = basics_movie_df.loc[basics_movie_df['startYear']>=2000]\n",
    "basics_movie_df.head()"
   ]
  },
  {
   "cell_type": "code",
   "execution_count": 30,
   "id": "4ce8d741",
   "metadata": {
    "hidden": true
   },
   "outputs": [
    {
     "data": {
      "text/plain": [
       "2000"
      ]
     },
     "execution_count": 30,
     "metadata": {},
     "output_type": "execute_result"
    }
   ],
   "source": [
    "basics_movie_df['startYear'].min()"
   ]
  },
  {
   "cell_type": "code",
   "execution_count": 31,
   "id": "ceac9f3d",
   "metadata": {
    "hidden": true
   },
   "outputs": [
    {
     "data": {
      "text/plain": [
       "2027"
      ]
     },
     "execution_count": 31,
     "metadata": {},
     "output_type": "execute_result"
    }
   ],
   "source": [
    "basics_movie_df['startYear'].max()"
   ]
  },
  {
   "cell_type": "code",
   "execution_count": 32,
   "id": "b032748d",
   "metadata": {
    "hidden": true
   },
   "outputs": [],
   "source": [
    "basics_movie_df = basics_movie_df.loc[basics_movie_df['startYear']>=2000]\n",
    "basics_movie_df = basics_movie_df.loc[basics_movie_df['startYear']<=2022]\n",
    "\n"
   ]
  },
  {
   "cell_type": "code",
   "execution_count": 33,
   "id": "b8e4ec1f",
   "metadata": {
    "hidden": true
   },
   "outputs": [
    {
     "data": {
      "text/plain": [
       "tconst                            tt9916538\n",
       "titleType                             movie\n",
       "primaryTitle      è solo questione di tempo\n",
       "originalTitle     è solo questione di tempo\n",
       "isAdult                                   1\n",
       "startYear                              2022\n",
       "endYear                                None\n",
       "runtimeMinutes                          999\n",
       "genres                              Western\n",
       "dtype: object"
      ]
     },
     "execution_count": 33,
     "metadata": {},
     "output_type": "execute_result"
    }
   ],
   "source": [
    "basics_movie_df.max()"
   ]
  },
  {
   "cell_type": "code",
   "execution_count": 34,
   "id": "74f3e489",
   "metadata": {
    "hidden": true
   },
   "outputs": [
    {
     "data": {
      "text/plain": [
       "tconst                   tt0035423\n",
       "titleType                    movie\n",
       "primaryTitle      #1 Serial Killer\n",
       "originalTitle     #1 Serial Killer\n",
       "isAdult                          0\n",
       "startYear                     2000\n",
       "endYear                       None\n",
       "runtimeMinutes                   1\n",
       "genres                      Action\n",
       "dtype: object"
      ]
     },
     "execution_count": 34,
     "metadata": {},
     "output_type": "execute_result"
    }
   ],
   "source": [
    "basics_movie_df.min()"
   ]
  },
  {
   "cell_type": "code",
   "execution_count": 35,
   "id": "5fe59660",
   "metadata": {
    "hidden": true
   },
   "outputs": [
    {
     "data": {
      "text/html": [
       "<div>\n",
       "<style scoped>\n",
       "    .dataframe tbody tr th:only-of-type {\n",
       "        vertical-align: middle;\n",
       "    }\n",
       "\n",
       "    .dataframe tbody tr th {\n",
       "        vertical-align: top;\n",
       "    }\n",
       "\n",
       "    .dataframe thead th {\n",
       "        text-align: right;\n",
       "    }\n",
       "</style>\n",
       "<table border=\"1\" class=\"dataframe\">\n",
       "  <thead>\n",
       "    <tr style=\"text-align: right;\">\n",
       "      <th></th>\n",
       "      <th>tconst</th>\n",
       "      <th>titleType</th>\n",
       "      <th>primaryTitle</th>\n",
       "      <th>originalTitle</th>\n",
       "      <th>isAdult</th>\n",
       "      <th>startYear</th>\n",
       "      <th>endYear</th>\n",
       "      <th>runtimeMinutes</th>\n",
       "      <th>genres</th>\n",
       "    </tr>\n",
       "  </thead>\n",
       "  <tbody>\n",
       "    <tr>\n",
       "      <th>34792</th>\n",
       "      <td>tt0035423</td>\n",
       "      <td>movie</td>\n",
       "      <td>Kate &amp; Leopold</td>\n",
       "      <td>Kate &amp; Leopold</td>\n",
       "      <td>0</td>\n",
       "      <td>2001</td>\n",
       "      <td>NaN</td>\n",
       "      <td>118</td>\n",
       "      <td>Comedy,Fantasy,Romance</td>\n",
       "    </tr>\n",
       "    <tr>\n",
       "      <th>61093</th>\n",
       "      <td>tt0062336</td>\n",
       "      <td>movie</td>\n",
       "      <td>The Tango of the Widower and Its Distorting Mi...</td>\n",
       "      <td>El Tango del Viudo y Su Espejo Deformante</td>\n",
       "      <td>0</td>\n",
       "      <td>2020</td>\n",
       "      <td>NaN</td>\n",
       "      <td>70</td>\n",
       "      <td>Drama</td>\n",
       "    </tr>\n",
       "    <tr>\n",
       "      <th>67639</th>\n",
       "      <td>tt0069049</td>\n",
       "      <td>movie</td>\n",
       "      <td>The Other Side of the Wind</td>\n",
       "      <td>The Other Side of the Wind</td>\n",
       "      <td>0</td>\n",
       "      <td>2018</td>\n",
       "      <td>NaN</td>\n",
       "      <td>122</td>\n",
       "      <td>Drama</td>\n",
       "    </tr>\n",
       "    <tr>\n",
       "      <th>77933</th>\n",
       "      <td>tt0079644</td>\n",
       "      <td>movie</td>\n",
       "      <td>November 1828</td>\n",
       "      <td>November 1828</td>\n",
       "      <td>0</td>\n",
       "      <td>2001</td>\n",
       "      <td>NaN</td>\n",
       "      <td>140</td>\n",
       "      <td>Drama,War</td>\n",
       "    </tr>\n",
       "    <tr>\n",
       "      <th>86770</th>\n",
       "      <td>tt0088751</td>\n",
       "      <td>movie</td>\n",
       "      <td>The Naked Monster</td>\n",
       "      <td>The Naked Monster</td>\n",
       "      <td>0</td>\n",
       "      <td>2005</td>\n",
       "      <td>NaN</td>\n",
       "      <td>100</td>\n",
       "      <td>Comedy,Horror,Sci-Fi</td>\n",
       "    </tr>\n",
       "  </tbody>\n",
       "</table>\n",
       "</div>"
      ],
      "text/plain": [
       "          tconst titleType                                       primaryTitle  \\\n",
       "34792  tt0035423     movie                                     Kate & Leopold   \n",
       "61093  tt0062336     movie  The Tango of the Widower and Its Distorting Mi...   \n",
       "67639  tt0069049     movie                         The Other Side of the Wind   \n",
       "77933  tt0079644     movie                                      November 1828   \n",
       "86770  tt0088751     movie                                  The Naked Monster   \n",
       "\n",
       "                                   originalTitle isAdult  startYear endYear  \\\n",
       "34792                             Kate & Leopold       0       2001     NaN   \n",
       "61093  El Tango del Viudo y Su Espejo Deformante       0       2020     NaN   \n",
       "67639                 The Other Side of the Wind       0       2018     NaN   \n",
       "77933                              November 1828       0       2001     NaN   \n",
       "86770                          The Naked Monster       0       2005     NaN   \n",
       "\n",
       "      runtimeMinutes                  genres  \n",
       "34792            118  Comedy,Fantasy,Romance  \n",
       "61093             70                   Drama  \n",
       "67639            122                   Drama  \n",
       "77933            140               Drama,War  \n",
       "86770            100    Comedy,Horror,Sci-Fi  "
      ]
     },
     "execution_count": 35,
     "metadata": {},
     "output_type": "execute_result"
    }
   ],
   "source": [
    "basics_movie_df.head()"
   ]
  },
  {
   "cell_type": "code",
   "execution_count": 36,
   "id": "7e90c0e5",
   "metadata": {
    "hidden": true
   },
   "outputs": [
    {
     "name": "stdout",
     "output_type": "stream",
     "text": [
      "tconst            object\n",
      "titleType         object\n",
      "primaryTitle      object\n",
      "originalTitle     object\n",
      "isAdult           object\n",
      "startYear          int64\n",
      "endYear           object\n",
      "runtimeMinutes     int64\n",
      "genres            object\n",
      "dtype: object\n"
     ]
    }
   ],
   "source": [
    "basics_movie_df['runtimeMinutes'] = basics_movie_df['runtimeMinutes'].astype(int)\n",
    "print (basics_movie_df.dtypes)"
   ]
  },
  {
   "cell_type": "markdown",
   "id": "77039094",
   "metadata": {},
   "source": [
    "# Title AKA Dataframe"
   ]
  },
  {
   "cell_type": "code",
   "execution_count": 37,
   "id": "942da5ef",
   "metadata": {},
   "outputs": [
    {
     "data": {
      "text/html": [
       "<div>\n",
       "<style scoped>\n",
       "    .dataframe tbody tr th:only-of-type {\n",
       "        vertical-align: middle;\n",
       "    }\n",
       "\n",
       "    .dataframe tbody tr th {\n",
       "        vertical-align: top;\n",
       "    }\n",
       "\n",
       "    .dataframe thead th {\n",
       "        text-align: right;\n",
       "    }\n",
       "</style>\n",
       "<table border=\"1\" class=\"dataframe\">\n",
       "  <thead>\n",
       "    <tr style=\"text-align: right;\">\n",
       "      <th></th>\n",
       "      <th>titleId</th>\n",
       "      <th>ordering</th>\n",
       "      <th>title</th>\n",
       "      <th>region</th>\n",
       "      <th>language</th>\n",
       "      <th>types</th>\n",
       "      <th>attributes</th>\n",
       "      <th>isOriginalTitle</th>\n",
       "    </tr>\n",
       "  </thead>\n",
       "  <tbody>\n",
       "    <tr>\n",
       "      <th>0</th>\n",
       "      <td>tt0000001</td>\n",
       "      <td>1</td>\n",
       "      <td>Карменсіта</td>\n",
       "      <td>UA</td>\n",
       "      <td>\\N</td>\n",
       "      <td>imdbDisplay</td>\n",
       "      <td>\\N</td>\n",
       "      <td>0</td>\n",
       "    </tr>\n",
       "    <tr>\n",
       "      <th>1</th>\n",
       "      <td>tt0000001</td>\n",
       "      <td>2</td>\n",
       "      <td>Carmencita</td>\n",
       "      <td>DE</td>\n",
       "      <td>\\N</td>\n",
       "      <td>\\N</td>\n",
       "      <td>literal title</td>\n",
       "      <td>0</td>\n",
       "    </tr>\n",
       "    <tr>\n",
       "      <th>2</th>\n",
       "      <td>tt0000001</td>\n",
       "      <td>3</td>\n",
       "      <td>Carmencita - spanyol tánc</td>\n",
       "      <td>HU</td>\n",
       "      <td>\\N</td>\n",
       "      <td>imdbDisplay</td>\n",
       "      <td>\\N</td>\n",
       "      <td>0</td>\n",
       "    </tr>\n",
       "    <tr>\n",
       "      <th>3</th>\n",
       "      <td>tt0000001</td>\n",
       "      <td>4</td>\n",
       "      <td>Καρμενσίτα</td>\n",
       "      <td>GR</td>\n",
       "      <td>\\N</td>\n",
       "      <td>imdbDisplay</td>\n",
       "      <td>\\N</td>\n",
       "      <td>0</td>\n",
       "    </tr>\n",
       "    <tr>\n",
       "      <th>4</th>\n",
       "      <td>tt0000001</td>\n",
       "      <td>5</td>\n",
       "      <td>Карменсита</td>\n",
       "      <td>RU</td>\n",
       "      <td>\\N</td>\n",
       "      <td>imdbDisplay</td>\n",
       "      <td>\\N</td>\n",
       "      <td>0</td>\n",
       "    </tr>\n",
       "  </tbody>\n",
       "</table>\n",
       "</div>"
      ],
      "text/plain": [
       "     titleId  ordering                      title region language  \\\n",
       "0  tt0000001         1                 Карменсіта     UA       \\N   \n",
       "1  tt0000001         2                 Carmencita     DE       \\N   \n",
       "2  tt0000001         3  Carmencita - spanyol tánc     HU       \\N   \n",
       "3  tt0000001         4                 Καρμενσίτα     GR       \\N   \n",
       "4  tt0000001         5                 Карменсита     RU       \\N   \n",
       "\n",
       "         types     attributes isOriginalTitle  \n",
       "0  imdbDisplay             \\N               0  \n",
       "1           \\N  literal title               0  \n",
       "2  imdbDisplay             \\N               0  \n",
       "3  imdbDisplay             \\N               0  \n",
       "4  imdbDisplay             \\N               0  "
      ]
     },
     "execution_count": 37,
     "metadata": {},
     "output_type": "execute_result"
    }
   ],
   "source": [
    "aka_url='https://datasets.imdbws.com/title.akas.tsv.gz'\n",
    "aka_df = pd.read_csv(aka_url,sep='\\t', low_memory=False)\n",
    "aka_df.head()"
   ]
  },
  {
   "cell_type": "code",
   "execution_count": 38,
   "id": "70c74acb",
   "metadata": {},
   "outputs": [
    {
     "data": {
      "text/plain": [
       "(33132167, 8)"
      ]
     },
     "execution_count": 38,
     "metadata": {},
     "output_type": "execute_result"
    }
   ],
   "source": [
    "aka_df.shape"
   ]
  },
  {
   "cell_type": "code",
   "execution_count": 39,
   "id": "be40eca7",
   "metadata": {},
   "outputs": [],
   "source": [
    "aka_df = aka_df.replace({'\\\\N':np.nan})"
   ]
  },
  {
   "cell_type": "code",
   "execution_count": 40,
   "id": "f8b57dea",
   "metadata": {},
   "outputs": [
    {
     "data": {
      "text/plain": [
       "0"
      ]
     },
     "execution_count": 40,
     "metadata": {},
     "output_type": "execute_result"
    }
   ],
   "source": [
    "aka_df.duplicated().sum()"
   ]
  },
  {
   "cell_type": "code",
   "execution_count": 41,
   "id": "bffb50f8",
   "metadata": {},
   "outputs": [
    {
     "data": {
      "text/plain": [
       "titleId                   0\n",
       "ordering                  0\n",
       "title                     5\n",
       "region              1861946\n",
       "language            6246777\n",
       "types              27856463\n",
       "attributes         32885747\n",
       "isOriginalTitle        2187\n",
       "dtype: int64"
      ]
     },
     "execution_count": 41,
     "metadata": {},
     "output_type": "execute_result"
    }
   ],
   "source": [
    "aka_df.isna().sum()"
   ]
  },
  {
   "cell_type": "code",
   "execution_count": 42,
   "id": "25737e81",
   "metadata": {},
   "outputs": [
    {
     "data": {
      "text/plain": [
       "JP    3956184\n",
       "FR    3955915\n",
       "DE    3939101\n",
       "IN    3884811\n",
       "ES    3878899\n",
       "       ...   \n",
       "TV          1\n",
       "NU          1\n",
       "PW          1\n",
       "NR          1\n",
       "TC          1\n",
       "Name: region, Length: 247, dtype: int64"
      ]
     },
     "execution_count": 42,
     "metadata": {},
     "output_type": "execute_result"
    }
   ],
   "source": [
    "aka_df['region'].value_counts()"
   ]
  },
  {
   "cell_type": "code",
   "execution_count": 43,
   "id": "ff305735",
   "metadata": {},
   "outputs": [
    {
     "data": {
      "text/plain": [
       "JP    3956184\n",
       "FR    3955915\n",
       "DE    3939101\n",
       "IN    3884811\n",
       "ES    3878899\n",
       "       ...   \n",
       "TV          1\n",
       "NU          1\n",
       "PW          1\n",
       "NR          1\n",
       "TC          1\n",
       "Name: region, Length: 247, dtype: int64"
      ]
     },
     "execution_count": 43,
     "metadata": {},
     "output_type": "execute_result"
    }
   ],
   "source": [
    "aka_df['region'].value_counts()"
   ]
  },
  {
   "cell_type": "code",
   "execution_count": 44,
   "id": "859eea99",
   "metadata": {},
   "outputs": [
    {
     "data": {
      "text/html": [
       "<div>\n",
       "<style scoped>\n",
       "    .dataframe tbody tr th:only-of-type {\n",
       "        vertical-align: middle;\n",
       "    }\n",
       "\n",
       "    .dataframe tbody tr th {\n",
       "        vertical-align: top;\n",
       "    }\n",
       "\n",
       "    .dataframe thead th {\n",
       "        text-align: right;\n",
       "    }\n",
       "</style>\n",
       "<table border=\"1\" class=\"dataframe\">\n",
       "  <thead>\n",
       "    <tr style=\"text-align: right;\">\n",
       "      <th></th>\n",
       "      <th>titleId</th>\n",
       "      <th>ordering</th>\n",
       "      <th>title</th>\n",
       "      <th>region</th>\n",
       "      <th>language</th>\n",
       "      <th>types</th>\n",
       "      <th>attributes</th>\n",
       "      <th>isOriginalTitle</th>\n",
       "    </tr>\n",
       "  </thead>\n",
       "  <tbody>\n",
       "    <tr>\n",
       "      <th>5</th>\n",
       "      <td>tt0000001</td>\n",
       "      <td>6</td>\n",
       "      <td>Carmencita</td>\n",
       "      <td>US</td>\n",
       "      <td>NaN</td>\n",
       "      <td>imdbDisplay</td>\n",
       "      <td>NaN</td>\n",
       "      <td>0</td>\n",
       "    </tr>\n",
       "    <tr>\n",
       "      <th>14</th>\n",
       "      <td>tt0000002</td>\n",
       "      <td>7</td>\n",
       "      <td>The Clown and His Dogs</td>\n",
       "      <td>US</td>\n",
       "      <td>NaN</td>\n",
       "      <td>NaN</td>\n",
       "      <td>literal English title</td>\n",
       "      <td>0</td>\n",
       "    </tr>\n",
       "    <tr>\n",
       "      <th>33</th>\n",
       "      <td>tt0000005</td>\n",
       "      <td>10</td>\n",
       "      <td>Blacksmith Scene</td>\n",
       "      <td>US</td>\n",
       "      <td>NaN</td>\n",
       "      <td>imdbDisplay</td>\n",
       "      <td>NaN</td>\n",
       "      <td>0</td>\n",
       "    </tr>\n",
       "    <tr>\n",
       "      <th>36</th>\n",
       "      <td>tt0000005</td>\n",
       "      <td>1</td>\n",
       "      <td>Blacksmithing Scene</td>\n",
       "      <td>US</td>\n",
       "      <td>NaN</td>\n",
       "      <td>alternative</td>\n",
       "      <td>NaN</td>\n",
       "      <td>0</td>\n",
       "    </tr>\n",
       "    <tr>\n",
       "      <th>41</th>\n",
       "      <td>tt0000005</td>\n",
       "      <td>6</td>\n",
       "      <td>Blacksmith Scene #1</td>\n",
       "      <td>US</td>\n",
       "      <td>NaN</td>\n",
       "      <td>alternative</td>\n",
       "      <td>NaN</td>\n",
       "      <td>0</td>\n",
       "    </tr>\n",
       "    <tr>\n",
       "      <th>...</th>\n",
       "      <td>...</td>\n",
       "      <td>...</td>\n",
       "      <td>...</td>\n",
       "      <td>...</td>\n",
       "      <td>...</td>\n",
       "      <td>...</td>\n",
       "      <td>...</td>\n",
       "      <td>...</td>\n",
       "    </tr>\n",
       "    <tr>\n",
       "      <th>33131839</th>\n",
       "      <td>tt9916702</td>\n",
       "      <td>1</td>\n",
       "      <td>Loving London: The Playground</td>\n",
       "      <td>US</td>\n",
       "      <td>NaN</td>\n",
       "      <td>NaN</td>\n",
       "      <td>NaN</td>\n",
       "      <td>0</td>\n",
       "    </tr>\n",
       "    <tr>\n",
       "      <th>33131876</th>\n",
       "      <td>tt9916720</td>\n",
       "      <td>10</td>\n",
       "      <td>The Demonic Nun</td>\n",
       "      <td>US</td>\n",
       "      <td>NaN</td>\n",
       "      <td>tv</td>\n",
       "      <td>NaN</td>\n",
       "      <td>0</td>\n",
       "    </tr>\n",
       "    <tr>\n",
       "      <th>33131878</th>\n",
       "      <td>tt9916720</td>\n",
       "      <td>12</td>\n",
       "      <td>The Nun 2</td>\n",
       "      <td>US</td>\n",
       "      <td>NaN</td>\n",
       "      <td>imdbDisplay</td>\n",
       "      <td>NaN</td>\n",
       "      <td>0</td>\n",
       "    </tr>\n",
       "    <tr>\n",
       "      <th>33131895</th>\n",
       "      <td>tt9916756</td>\n",
       "      <td>1</td>\n",
       "      <td>Pretty Pretty Black Girl</td>\n",
       "      <td>US</td>\n",
       "      <td>NaN</td>\n",
       "      <td>imdbDisplay</td>\n",
       "      <td>NaN</td>\n",
       "      <td>0</td>\n",
       "    </tr>\n",
       "    <tr>\n",
       "      <th>33131911</th>\n",
       "      <td>tt9916764</td>\n",
       "      <td>1</td>\n",
       "      <td>38</td>\n",
       "      <td>US</td>\n",
       "      <td>NaN</td>\n",
       "      <td>imdbDisplay</td>\n",
       "      <td>NaN</td>\n",
       "      <td>0</td>\n",
       "    </tr>\n",
       "  </tbody>\n",
       "</table>\n",
       "<p>1347912 rows × 8 columns</p>\n",
       "</div>"
      ],
      "text/plain": [
       "            titleId  ordering                          title region language  \\\n",
       "5         tt0000001         6                     Carmencita     US      NaN   \n",
       "14        tt0000002         7         The Clown and His Dogs     US      NaN   \n",
       "33        tt0000005        10               Blacksmith Scene     US      NaN   \n",
       "36        tt0000005         1            Blacksmithing Scene     US      NaN   \n",
       "41        tt0000005         6            Blacksmith Scene #1     US      NaN   \n",
       "...             ...       ...                            ...    ...      ...   \n",
       "33131839  tt9916702         1  Loving London: The Playground     US      NaN   \n",
       "33131876  tt9916720        10                The Demonic Nun     US      NaN   \n",
       "33131878  tt9916720        12                      The Nun 2     US      NaN   \n",
       "33131895  tt9916756         1       Pretty Pretty Black Girl     US      NaN   \n",
       "33131911  tt9916764         1                             38     US      NaN   \n",
       "\n",
       "                types             attributes isOriginalTitle  \n",
       "5         imdbDisplay                    NaN               0  \n",
       "14                NaN  literal English title               0  \n",
       "33        imdbDisplay                    NaN               0  \n",
       "36        alternative                    NaN               0  \n",
       "41        alternative                    NaN               0  \n",
       "...               ...                    ...             ...  \n",
       "33131839          NaN                    NaN               0  \n",
       "33131876           tv                    NaN               0  \n",
       "33131878  imdbDisplay                    NaN               0  \n",
       "33131895  imdbDisplay                    NaN               0  \n",
       "33131911  imdbDisplay                    NaN               0  \n",
       "\n",
       "[1347912 rows x 8 columns]"
      ]
     },
     "execution_count": 44,
     "metadata": {},
     "output_type": "execute_result"
    }
   ],
   "source": [
    "aka_region_filter= aka_df['region']== 'US'\n",
    "aka_df[aka_region_filter]"
   ]
  },
  {
   "cell_type": "code",
   "execution_count": 45,
   "id": "923208d6",
   "metadata": {},
   "outputs": [
    {
     "data": {
      "text/html": [
       "<div>\n",
       "<style scoped>\n",
       "    .dataframe tbody tr th:only-of-type {\n",
       "        vertical-align: middle;\n",
       "    }\n",
       "\n",
       "    .dataframe tbody tr th {\n",
       "        vertical-align: top;\n",
       "    }\n",
       "\n",
       "    .dataframe thead th {\n",
       "        text-align: right;\n",
       "    }\n",
       "</style>\n",
       "<table border=\"1\" class=\"dataframe\">\n",
       "  <thead>\n",
       "    <tr style=\"text-align: right;\">\n",
       "      <th></th>\n",
       "      <th>titleId</th>\n",
       "      <th>ordering</th>\n",
       "      <th>title</th>\n",
       "      <th>region</th>\n",
       "      <th>language</th>\n",
       "      <th>types</th>\n",
       "      <th>attributes</th>\n",
       "      <th>isOriginalTitle</th>\n",
       "    </tr>\n",
       "  </thead>\n",
       "  <tbody>\n",
       "    <tr>\n",
       "      <th>5</th>\n",
       "      <td>tt0000001</td>\n",
       "      <td>6</td>\n",
       "      <td>Carmencita</td>\n",
       "      <td>US</td>\n",
       "      <td>NaN</td>\n",
       "      <td>imdbDisplay</td>\n",
       "      <td>NaN</td>\n",
       "      <td>0</td>\n",
       "    </tr>\n",
       "    <tr>\n",
       "      <th>14</th>\n",
       "      <td>tt0000002</td>\n",
       "      <td>7</td>\n",
       "      <td>The Clown and His Dogs</td>\n",
       "      <td>US</td>\n",
       "      <td>NaN</td>\n",
       "      <td>NaN</td>\n",
       "      <td>literal English title</td>\n",
       "      <td>0</td>\n",
       "    </tr>\n",
       "    <tr>\n",
       "      <th>33</th>\n",
       "      <td>tt0000005</td>\n",
       "      <td>10</td>\n",
       "      <td>Blacksmith Scene</td>\n",
       "      <td>US</td>\n",
       "      <td>NaN</td>\n",
       "      <td>imdbDisplay</td>\n",
       "      <td>NaN</td>\n",
       "      <td>0</td>\n",
       "    </tr>\n",
       "    <tr>\n",
       "      <th>36</th>\n",
       "      <td>tt0000005</td>\n",
       "      <td>1</td>\n",
       "      <td>Blacksmithing Scene</td>\n",
       "      <td>US</td>\n",
       "      <td>NaN</td>\n",
       "      <td>alternative</td>\n",
       "      <td>NaN</td>\n",
       "      <td>0</td>\n",
       "    </tr>\n",
       "    <tr>\n",
       "      <th>41</th>\n",
       "      <td>tt0000005</td>\n",
       "      <td>6</td>\n",
       "      <td>Blacksmith Scene #1</td>\n",
       "      <td>US</td>\n",
       "      <td>NaN</td>\n",
       "      <td>alternative</td>\n",
       "      <td>NaN</td>\n",
       "      <td>0</td>\n",
       "    </tr>\n",
       "  </tbody>\n",
       "</table>\n",
       "</div>"
      ],
      "text/plain": [
       "      titleId  ordering                   title region language        types  \\\n",
       "5   tt0000001         6              Carmencita     US      NaN  imdbDisplay   \n",
       "14  tt0000002         7  The Clown and His Dogs     US      NaN          NaN   \n",
       "33  tt0000005        10        Blacksmith Scene     US      NaN  imdbDisplay   \n",
       "36  tt0000005         1     Blacksmithing Scene     US      NaN  alternative   \n",
       "41  tt0000005         6     Blacksmith Scene #1     US      NaN  alternative   \n",
       "\n",
       "               attributes isOriginalTitle  \n",
       "5                     NaN               0  \n",
       "14  literal English title               0  \n",
       "33                    NaN               0  \n",
       "36                    NaN               0  \n",
       "41                    NaN               0  "
      ]
     },
     "execution_count": 45,
     "metadata": {},
     "output_type": "execute_result"
    }
   ],
   "source": [
    "akas_df= aka_df[aka_df['region']=='US']\n",
    "akas_df.head()"
   ]
  },
  {
   "cell_type": "code",
   "execution_count": 46,
   "id": "f3101960",
   "metadata": {},
   "outputs": [
    {
     "data": {
      "text/html": [
       "<div>\n",
       "<style scoped>\n",
       "    .dataframe tbody tr th:only-of-type {\n",
       "        vertical-align: middle;\n",
       "    }\n",
       "\n",
       "    .dataframe tbody tr th {\n",
       "        vertical-align: top;\n",
       "    }\n",
       "\n",
       "    .dataframe thead th {\n",
       "        text-align: right;\n",
       "    }\n",
       "</style>\n",
       "<table border=\"1\" class=\"dataframe\">\n",
       "  <thead>\n",
       "    <tr style=\"text-align: right;\">\n",
       "      <th></th>\n",
       "      <th>titleId</th>\n",
       "      <th>ordering</th>\n",
       "      <th>title</th>\n",
       "      <th>region</th>\n",
       "      <th>language</th>\n",
       "      <th>types</th>\n",
       "      <th>attributes</th>\n",
       "      <th>isOriginalTitle</th>\n",
       "    </tr>\n",
       "  </thead>\n",
       "  <tbody>\n",
       "    <tr>\n",
       "      <th>5</th>\n",
       "      <td>tt0000001</td>\n",
       "      <td>6</td>\n",
       "      <td>Carmencita</td>\n",
       "      <td>US</td>\n",
       "      <td>NaN</td>\n",
       "      <td>imdbDisplay</td>\n",
       "      <td>NaN</td>\n",
       "      <td>0</td>\n",
       "    </tr>\n",
       "    <tr>\n",
       "      <th>14</th>\n",
       "      <td>tt0000002</td>\n",
       "      <td>7</td>\n",
       "      <td>The Clown and His Dogs</td>\n",
       "      <td>US</td>\n",
       "      <td>NaN</td>\n",
       "      <td>NaN</td>\n",
       "      <td>literal English title</td>\n",
       "      <td>0</td>\n",
       "    </tr>\n",
       "    <tr>\n",
       "      <th>33</th>\n",
       "      <td>tt0000005</td>\n",
       "      <td>10</td>\n",
       "      <td>Blacksmith Scene</td>\n",
       "      <td>US</td>\n",
       "      <td>NaN</td>\n",
       "      <td>imdbDisplay</td>\n",
       "      <td>NaN</td>\n",
       "      <td>0</td>\n",
       "    </tr>\n",
       "    <tr>\n",
       "      <th>36</th>\n",
       "      <td>tt0000005</td>\n",
       "      <td>1</td>\n",
       "      <td>Blacksmithing Scene</td>\n",
       "      <td>US</td>\n",
       "      <td>NaN</td>\n",
       "      <td>alternative</td>\n",
       "      <td>NaN</td>\n",
       "      <td>0</td>\n",
       "    </tr>\n",
       "    <tr>\n",
       "      <th>41</th>\n",
       "      <td>tt0000005</td>\n",
       "      <td>6</td>\n",
       "      <td>Blacksmith Scene #1</td>\n",
       "      <td>US</td>\n",
       "      <td>NaN</td>\n",
       "      <td>alternative</td>\n",
       "      <td>NaN</td>\n",
       "      <td>0</td>\n",
       "    </tr>\n",
       "    <tr>\n",
       "      <th>...</th>\n",
       "      <td>...</td>\n",
       "      <td>...</td>\n",
       "      <td>...</td>\n",
       "      <td>...</td>\n",
       "      <td>...</td>\n",
       "      <td>...</td>\n",
       "      <td>...</td>\n",
       "      <td>...</td>\n",
       "    </tr>\n",
       "    <tr>\n",
       "      <th>33131839</th>\n",
       "      <td>tt9916702</td>\n",
       "      <td>1</td>\n",
       "      <td>Loving London: The Playground</td>\n",
       "      <td>US</td>\n",
       "      <td>NaN</td>\n",
       "      <td>NaN</td>\n",
       "      <td>NaN</td>\n",
       "      <td>0</td>\n",
       "    </tr>\n",
       "    <tr>\n",
       "      <th>33131876</th>\n",
       "      <td>tt9916720</td>\n",
       "      <td>10</td>\n",
       "      <td>The Demonic Nun</td>\n",
       "      <td>US</td>\n",
       "      <td>NaN</td>\n",
       "      <td>tv</td>\n",
       "      <td>NaN</td>\n",
       "      <td>0</td>\n",
       "    </tr>\n",
       "    <tr>\n",
       "      <th>33131878</th>\n",
       "      <td>tt9916720</td>\n",
       "      <td>12</td>\n",
       "      <td>The Nun 2</td>\n",
       "      <td>US</td>\n",
       "      <td>NaN</td>\n",
       "      <td>imdbDisplay</td>\n",
       "      <td>NaN</td>\n",
       "      <td>0</td>\n",
       "    </tr>\n",
       "    <tr>\n",
       "      <th>33131895</th>\n",
       "      <td>tt9916756</td>\n",
       "      <td>1</td>\n",
       "      <td>Pretty Pretty Black Girl</td>\n",
       "      <td>US</td>\n",
       "      <td>NaN</td>\n",
       "      <td>imdbDisplay</td>\n",
       "      <td>NaN</td>\n",
       "      <td>0</td>\n",
       "    </tr>\n",
       "    <tr>\n",
       "      <th>33131911</th>\n",
       "      <td>tt9916764</td>\n",
       "      <td>1</td>\n",
       "      <td>38</td>\n",
       "      <td>US</td>\n",
       "      <td>NaN</td>\n",
       "      <td>imdbDisplay</td>\n",
       "      <td>NaN</td>\n",
       "      <td>0</td>\n",
       "    </tr>\n",
       "  </tbody>\n",
       "</table>\n",
       "<p>1347912 rows × 8 columns</p>\n",
       "</div>"
      ],
      "text/plain": [
       "            titleId  ordering                          title region language  \\\n",
       "5         tt0000001         6                     Carmencita     US      NaN   \n",
       "14        tt0000002         7         The Clown and His Dogs     US      NaN   \n",
       "33        tt0000005        10               Blacksmith Scene     US      NaN   \n",
       "36        tt0000005         1            Blacksmithing Scene     US      NaN   \n",
       "41        tt0000005         6            Blacksmith Scene #1     US      NaN   \n",
       "...             ...       ...                            ...    ...      ...   \n",
       "33131839  tt9916702         1  Loving London: The Playground     US      NaN   \n",
       "33131876  tt9916720        10                The Demonic Nun     US      NaN   \n",
       "33131878  tt9916720        12                      The Nun 2     US      NaN   \n",
       "33131895  tt9916756         1       Pretty Pretty Black Girl     US      NaN   \n",
       "33131911  tt9916764         1                             38     US      NaN   \n",
       "\n",
       "                types             attributes isOriginalTitle  \n",
       "5         imdbDisplay                    NaN               0  \n",
       "14                NaN  literal English title               0  \n",
       "33        imdbDisplay                    NaN               0  \n",
       "36        alternative                    NaN               0  \n",
       "41        alternative                    NaN               0  \n",
       "...               ...                    ...             ...  \n",
       "33131839          NaN                    NaN               0  \n",
       "33131876           tv                    NaN               0  \n",
       "33131878  imdbDisplay                    NaN               0  \n",
       "33131895  imdbDisplay                    NaN               0  \n",
       "33131911  imdbDisplay                    NaN               0  \n",
       "\n",
       "[1347912 rows x 8 columns]"
      ]
     },
     "execution_count": 46,
     "metadata": {},
     "output_type": "execute_result"
    }
   ],
   "source": [
    "aka_df[aka_df['region'] == 'US']"
   ]
  },
  {
   "cell_type": "code",
   "execution_count": 47,
   "id": "c7324d71",
   "metadata": {},
   "outputs": [
    {
     "data": {
      "text/plain": [
       "US    1347912\n",
       "Name: region, dtype: int64"
      ]
     },
     "execution_count": 47,
     "metadata": {},
     "output_type": "execute_result"
    }
   ],
   "source": [
    "akas_df['region'].value_counts()"
   ]
  },
  {
   "cell_type": "markdown",
   "id": "f793d5f6",
   "metadata": {
    "heading_collapsed": true
   },
   "source": [
    "# Title Ratings DF"
   ]
  },
  {
   "cell_type": "code",
   "execution_count": 48,
   "id": "7ebcab40",
   "metadata": {
    "hidden": true
   },
   "outputs": [
    {
     "data": {
      "text/html": [
       "<div>\n",
       "<style scoped>\n",
       "    .dataframe tbody tr th:only-of-type {\n",
       "        vertical-align: middle;\n",
       "    }\n",
       "\n",
       "    .dataframe tbody tr th {\n",
       "        vertical-align: top;\n",
       "    }\n",
       "\n",
       "    .dataframe thead th {\n",
       "        text-align: right;\n",
       "    }\n",
       "</style>\n",
       "<table border=\"1\" class=\"dataframe\">\n",
       "  <thead>\n",
       "    <tr style=\"text-align: right;\">\n",
       "      <th></th>\n",
       "      <th>tconst</th>\n",
       "      <th>averageRating</th>\n",
       "      <th>numVotes</th>\n",
       "    </tr>\n",
       "  </thead>\n",
       "  <tbody>\n",
       "    <tr>\n",
       "      <th>0</th>\n",
       "      <td>tt0000001</td>\n",
       "      <td>5.7</td>\n",
       "      <td>1910</td>\n",
       "    </tr>\n",
       "    <tr>\n",
       "      <th>1</th>\n",
       "      <td>tt0000002</td>\n",
       "      <td>5.8</td>\n",
       "      <td>256</td>\n",
       "    </tr>\n",
       "    <tr>\n",
       "      <th>2</th>\n",
       "      <td>tt0000003</td>\n",
       "      <td>6.5</td>\n",
       "      <td>1712</td>\n",
       "    </tr>\n",
       "    <tr>\n",
       "      <th>3</th>\n",
       "      <td>tt0000004</td>\n",
       "      <td>5.6</td>\n",
       "      <td>169</td>\n",
       "    </tr>\n",
       "    <tr>\n",
       "      <th>4</th>\n",
       "      <td>tt0000005</td>\n",
       "      <td>6.2</td>\n",
       "      <td>2527</td>\n",
       "    </tr>\n",
       "  </tbody>\n",
       "</table>\n",
       "</div>"
      ],
      "text/plain": [
       "      tconst  averageRating  numVotes\n",
       "0  tt0000001            5.7      1910\n",
       "1  tt0000002            5.8       256\n",
       "2  tt0000003            6.5      1712\n",
       "3  tt0000004            5.6       169\n",
       "4  tt0000005            6.2      2527"
      ]
     },
     "execution_count": 48,
     "metadata": {},
     "output_type": "execute_result"
    }
   ],
   "source": [
    "ratings_url='https://datasets.imdbws.com/title.ratings.tsv.gz'\n",
    "ratings_df = pd.read_csv(ratings_url,sep='\\t', low_memory=False)\n",
    "ratings_df.head()"
   ]
  },
  {
   "cell_type": "code",
   "execution_count": 49,
   "id": "5212f5b8",
   "metadata": {
    "hidden": true
   },
   "outputs": [],
   "source": [
    "ratings_df = ratings_df.replace({'\\\\N':np.nan})"
   ]
  },
  {
   "cell_type": "code",
   "execution_count": 50,
   "id": "dfb1e377",
   "metadata": {
    "hidden": true
   },
   "outputs": [
    {
     "data": {
      "text/html": [
       "<div>\n",
       "<style scoped>\n",
       "    .dataframe tbody tr th:only-of-type {\n",
       "        vertical-align: middle;\n",
       "    }\n",
       "\n",
       "    .dataframe tbody tr th {\n",
       "        vertical-align: top;\n",
       "    }\n",
       "\n",
       "    .dataframe thead th {\n",
       "        text-align: right;\n",
       "    }\n",
       "</style>\n",
       "<table border=\"1\" class=\"dataframe\">\n",
       "  <thead>\n",
       "    <tr style=\"text-align: right;\">\n",
       "      <th></th>\n",
       "      <th>tconst</th>\n",
       "      <th>averageRating</th>\n",
       "      <th>numVotes</th>\n",
       "    </tr>\n",
       "  </thead>\n",
       "  <tbody>\n",
       "    <tr>\n",
       "      <th>0</th>\n",
       "      <td>tt0000001</td>\n",
       "      <td>5.7</td>\n",
       "      <td>1910</td>\n",
       "    </tr>\n",
       "    <tr>\n",
       "      <th>1</th>\n",
       "      <td>tt0000002</td>\n",
       "      <td>5.8</td>\n",
       "      <td>256</td>\n",
       "    </tr>\n",
       "    <tr>\n",
       "      <th>2</th>\n",
       "      <td>tt0000003</td>\n",
       "      <td>6.5</td>\n",
       "      <td>1712</td>\n",
       "    </tr>\n",
       "    <tr>\n",
       "      <th>3</th>\n",
       "      <td>tt0000004</td>\n",
       "      <td>5.6</td>\n",
       "      <td>169</td>\n",
       "    </tr>\n",
       "    <tr>\n",
       "      <th>4</th>\n",
       "      <td>tt0000005</td>\n",
       "      <td>6.2</td>\n",
       "      <td>2527</td>\n",
       "    </tr>\n",
       "  </tbody>\n",
       "</table>\n",
       "</div>"
      ],
      "text/plain": [
       "      tconst  averageRating  numVotes\n",
       "0  tt0000001            5.7      1910\n",
       "1  tt0000002            5.8       256\n",
       "2  tt0000003            6.5      1712\n",
       "3  tt0000004            5.6       169\n",
       "4  tt0000005            6.2      2527"
      ]
     },
     "execution_count": 50,
     "metadata": {},
     "output_type": "execute_result"
    }
   ],
   "source": [
    "ratings_df.head()"
   ]
  },
  {
   "cell_type": "markdown",
   "id": "bdd4fad0",
   "metadata": {},
   "source": [
    "# Filtering one dataframe based on another - basics  and akas DF."
   ]
  },
  {
   "cell_type": "code",
   "execution_count": 51,
   "id": "81af768c",
   "metadata": {},
   "outputs": [
    {
     "data": {
      "text/plain": [
       "34792       True\n",
       "61093       True\n",
       "67639       True\n",
       "77933      False\n",
       "86770       True\n",
       "           ...  \n",
       "9211389     True\n",
       "9211398     True\n",
       "9211437    False\n",
       "9211482     True\n",
       "9211566    False\n",
       "Name: tconst, Length: 142744, dtype: bool"
      ]
     },
     "execution_count": 51,
     "metadata": {},
     "output_type": "execute_result"
    }
   ],
   "source": [
    "keepers = basics_movie_df['tconst'].isin(akas_df['titleId'])\n",
    "keepers"
   ]
  },
  {
   "cell_type": "code",
   "execution_count": 52,
   "id": "df158e5e",
   "metadata": {},
   "outputs": [
    {
     "data": {
      "text/html": [
       "<div>\n",
       "<style scoped>\n",
       "    .dataframe tbody tr th:only-of-type {\n",
       "        vertical-align: middle;\n",
       "    }\n",
       "\n",
       "    .dataframe tbody tr th {\n",
       "        vertical-align: top;\n",
       "    }\n",
       "\n",
       "    .dataframe thead th {\n",
       "        text-align: right;\n",
       "    }\n",
       "</style>\n",
       "<table border=\"1\" class=\"dataframe\">\n",
       "  <thead>\n",
       "    <tr style=\"text-align: right;\">\n",
       "      <th></th>\n",
       "      <th>tconst</th>\n",
       "      <th>titleType</th>\n",
       "      <th>primaryTitle</th>\n",
       "      <th>originalTitle</th>\n",
       "      <th>isAdult</th>\n",
       "      <th>startYear</th>\n",
       "      <th>endYear</th>\n",
       "      <th>runtimeMinutes</th>\n",
       "      <th>genres</th>\n",
       "    </tr>\n",
       "  </thead>\n",
       "  <tbody>\n",
       "    <tr>\n",
       "      <th>34792</th>\n",
       "      <td>tt0035423</td>\n",
       "      <td>movie</td>\n",
       "      <td>Kate &amp; Leopold</td>\n",
       "      <td>Kate &amp; Leopold</td>\n",
       "      <td>0</td>\n",
       "      <td>2001</td>\n",
       "      <td>NaN</td>\n",
       "      <td>118</td>\n",
       "      <td>Comedy,Fantasy,Romance</td>\n",
       "    </tr>\n",
       "    <tr>\n",
       "      <th>61093</th>\n",
       "      <td>tt0062336</td>\n",
       "      <td>movie</td>\n",
       "      <td>The Tango of the Widower and Its Distorting Mi...</td>\n",
       "      <td>El Tango del Viudo y Su Espejo Deformante</td>\n",
       "      <td>0</td>\n",
       "      <td>2020</td>\n",
       "      <td>NaN</td>\n",
       "      <td>70</td>\n",
       "      <td>Drama</td>\n",
       "    </tr>\n",
       "    <tr>\n",
       "      <th>67639</th>\n",
       "      <td>tt0069049</td>\n",
       "      <td>movie</td>\n",
       "      <td>The Other Side of the Wind</td>\n",
       "      <td>The Other Side of the Wind</td>\n",
       "      <td>0</td>\n",
       "      <td>2018</td>\n",
       "      <td>NaN</td>\n",
       "      <td>122</td>\n",
       "      <td>Drama</td>\n",
       "    </tr>\n",
       "    <tr>\n",
       "      <th>86770</th>\n",
       "      <td>tt0088751</td>\n",
       "      <td>movie</td>\n",
       "      <td>The Naked Monster</td>\n",
       "      <td>The Naked Monster</td>\n",
       "      <td>0</td>\n",
       "      <td>2005</td>\n",
       "      <td>NaN</td>\n",
       "      <td>100</td>\n",
       "      <td>Comedy,Horror,Sci-Fi</td>\n",
       "    </tr>\n",
       "    <tr>\n",
       "      <th>93906</th>\n",
       "      <td>tt0096056</td>\n",
       "      <td>movie</td>\n",
       "      <td>Crime and Punishment</td>\n",
       "      <td>Crime and Punishment</td>\n",
       "      <td>0</td>\n",
       "      <td>2002</td>\n",
       "      <td>NaN</td>\n",
       "      <td>126</td>\n",
       "      <td>Drama</td>\n",
       "    </tr>\n",
       "    <tr>\n",
       "      <th>...</th>\n",
       "      <td>...</td>\n",
       "      <td>...</td>\n",
       "      <td>...</td>\n",
       "      <td>...</td>\n",
       "      <td>...</td>\n",
       "      <td>...</td>\n",
       "      <td>...</td>\n",
       "      <td>...</td>\n",
       "      <td>...</td>\n",
       "    </tr>\n",
       "    <tr>\n",
       "      <th>9210853</th>\n",
       "      <td>tt9914942</td>\n",
       "      <td>movie</td>\n",
       "      <td>Life Without Sara Amat</td>\n",
       "      <td>La vida sense la Sara Amat</td>\n",
       "      <td>0</td>\n",
       "      <td>2019</td>\n",
       "      <td>NaN</td>\n",
       "      <td>74</td>\n",
       "      <td>Drama</td>\n",
       "    </tr>\n",
       "    <tr>\n",
       "      <th>9211249</th>\n",
       "      <td>tt9915872</td>\n",
       "      <td>movie</td>\n",
       "      <td>The Last White Witch</td>\n",
       "      <td>My Girlfriend is a Wizard</td>\n",
       "      <td>0</td>\n",
       "      <td>2019</td>\n",
       "      <td>NaN</td>\n",
       "      <td>97</td>\n",
       "      <td>Comedy,Drama,Fantasy</td>\n",
       "    </tr>\n",
       "    <tr>\n",
       "      <th>9211389</th>\n",
       "      <td>tt9916170</td>\n",
       "      <td>movie</td>\n",
       "      <td>The Rehearsal</td>\n",
       "      <td>O Ensaio</td>\n",
       "      <td>0</td>\n",
       "      <td>2019</td>\n",
       "      <td>NaN</td>\n",
       "      <td>51</td>\n",
       "      <td>Drama</td>\n",
       "    </tr>\n",
       "    <tr>\n",
       "      <th>9211398</th>\n",
       "      <td>tt9916190</td>\n",
       "      <td>movie</td>\n",
       "      <td>Safeguard</td>\n",
       "      <td>Safeguard</td>\n",
       "      <td>0</td>\n",
       "      <td>2020</td>\n",
       "      <td>NaN</td>\n",
       "      <td>95</td>\n",
       "      <td>Action,Adventure,Thriller</td>\n",
       "    </tr>\n",
       "    <tr>\n",
       "      <th>9211482</th>\n",
       "      <td>tt9916362</td>\n",
       "      <td>movie</td>\n",
       "      <td>Coven</td>\n",
       "      <td>Akelarre</td>\n",
       "      <td>0</td>\n",
       "      <td>2020</td>\n",
       "      <td>NaN</td>\n",
       "      <td>92</td>\n",
       "      <td>Drama,History</td>\n",
       "    </tr>\n",
       "  </tbody>\n",
       "</table>\n",
       "<p>82441 rows × 9 columns</p>\n",
       "</div>"
      ],
      "text/plain": [
       "            tconst titleType  \\\n",
       "34792    tt0035423     movie   \n",
       "61093    tt0062336     movie   \n",
       "67639    tt0069049     movie   \n",
       "86770    tt0088751     movie   \n",
       "93906    tt0096056     movie   \n",
       "...            ...       ...   \n",
       "9210853  tt9914942     movie   \n",
       "9211249  tt9915872     movie   \n",
       "9211389  tt9916170     movie   \n",
       "9211398  tt9916190     movie   \n",
       "9211482  tt9916362     movie   \n",
       "\n",
       "                                              primaryTitle  \\\n",
       "34792                                       Kate & Leopold   \n",
       "61093    The Tango of the Widower and Its Distorting Mi...   \n",
       "67639                           The Other Side of the Wind   \n",
       "86770                                    The Naked Monster   \n",
       "93906                                 Crime and Punishment   \n",
       "...                                                    ...   \n",
       "9210853                             Life Without Sara Amat   \n",
       "9211249                               The Last White Witch   \n",
       "9211389                                      The Rehearsal   \n",
       "9211398                                          Safeguard   \n",
       "9211482                                              Coven   \n",
       "\n",
       "                                     originalTitle isAdult  startYear endYear  \\\n",
       "34792                               Kate & Leopold       0       2001     NaN   \n",
       "61093    El Tango del Viudo y Su Espejo Deformante       0       2020     NaN   \n",
       "67639                   The Other Side of the Wind       0       2018     NaN   \n",
       "86770                            The Naked Monster       0       2005     NaN   \n",
       "93906                         Crime and Punishment       0       2002     NaN   \n",
       "...                                            ...     ...        ...     ...   \n",
       "9210853                 La vida sense la Sara Amat       0       2019     NaN   \n",
       "9211249                  My Girlfriend is a Wizard       0       2019     NaN   \n",
       "9211389                                   O Ensaio       0       2019     NaN   \n",
       "9211398                                  Safeguard       0       2020     NaN   \n",
       "9211482                                   Akelarre       0       2020     NaN   \n",
       "\n",
       "         runtimeMinutes                     genres  \n",
       "34792               118     Comedy,Fantasy,Romance  \n",
       "61093                70                      Drama  \n",
       "67639               122                      Drama  \n",
       "86770               100       Comedy,Horror,Sci-Fi  \n",
       "93906               126                      Drama  \n",
       "...                 ...                        ...  \n",
       "9210853              74                      Drama  \n",
       "9211249              97       Comedy,Drama,Fantasy  \n",
       "9211389              51                      Drama  \n",
       "9211398              95  Action,Adventure,Thriller  \n",
       "9211482              92              Drama,History  \n",
       "\n",
       "[82441 rows x 9 columns]"
      ]
     },
     "execution_count": 52,
     "metadata": {},
     "output_type": "execute_result"
    }
   ],
   "source": [
    "basics = basics_movie_df[keepers]\n",
    "basics"
   ]
  },
  {
   "cell_type": "code",
   "execution_count": 53,
   "id": "875e97e8",
   "metadata": {},
   "outputs": [
    {
     "data": {
      "text/plain": [
       "0           True\n",
       "1           True\n",
       "2          False\n",
       "3          False\n",
       "4           True\n",
       "           ...  \n",
       "1258949    False\n",
       "1258950     True\n",
       "1258951    False\n",
       "1258952    False\n",
       "1258953    False\n",
       "Name: tconst, Length: 1258954, dtype: bool"
      ]
     },
     "execution_count": 53,
     "metadata": {},
     "output_type": "execute_result"
    }
   ],
   "source": [
    "keepers = ratings_df['tconst'].isin(akas_df['titleId'])\n",
    "ratings_df = ratings_df[keepers]\n",
    "keepers"
   ]
  },
  {
   "cell_type": "markdown",
   "id": "b18a14d1",
   "metadata": {},
   "source": [
    "saving_clean_files"
   ]
  },
  {
   "cell_type": "code",
   "execution_count": 54,
   "id": "eaeaf396",
   "metadata": {},
   "outputs": [
    {
     "name": "stdout",
     "output_type": "stream",
     "text": [
      "<class 'pandas.core.frame.DataFrame'>\n",
      "Int64Index: 142744 entries, 34792 to 9211566\n",
      "Data columns (total 9 columns):\n",
      " #   Column          Non-Null Count   Dtype \n",
      "---  ------          --------------   ----- \n",
      " 0   tconst          142744 non-null  object\n",
      " 1   titleType       142744 non-null  object\n",
      " 2   primaryTitle    142744 non-null  object\n",
      " 3   originalTitle   142744 non-null  object\n",
      " 4   isAdult         142744 non-null  object\n",
      " 5   startYear       142744 non-null  int64 \n",
      " 6   endYear         0 non-null       object\n",
      " 7   runtimeMinutes  142744 non-null  int64 \n",
      " 8   genres          142744 non-null  object\n",
      "dtypes: int64(2), object(7)\n",
      "memory usage: 10.9+ MB\n"
     ]
    }
   ],
   "source": [
    "basics_movie_df.info()"
   ]
  },
  {
   "cell_type": "code",
   "execution_count": 55,
   "id": "bab7f849",
   "metadata": {},
   "outputs": [
    {
     "name": "stdout",
     "output_type": "stream",
     "text": [
      "<class 'pandas.core.frame.DataFrame'>\n",
      "Int64Index: 1347912 entries, 5 to 33131911\n",
      "Data columns (total 8 columns):\n",
      " #   Column           Non-Null Count    Dtype \n",
      "---  ------           --------------    ----- \n",
      " 0   titleId          1347912 non-null  object\n",
      " 1   ordering         1347912 non-null  int64 \n",
      " 2   title            1347912 non-null  object\n",
      " 3   region           1347912 non-null  object\n",
      " 4   language         3699 non-null     object\n",
      " 5   types            963901 non-null   object\n",
      " 6   attributes       44903 non-null    object\n",
      " 7   isOriginalTitle  1346537 non-null  object\n",
      "dtypes: int64(1), object(7)\n",
      "memory usage: 92.6+ MB\n"
     ]
    }
   ],
   "source": [
    "akas_df.info()"
   ]
  },
  {
   "cell_type": "code",
   "execution_count": 56,
   "id": "55e41f1d",
   "metadata": {},
   "outputs": [
    {
     "name": "stdout",
     "output_type": "stream",
     "text": [
      "<class 'pandas.core.frame.DataFrame'>\n",
      "Int64Index: 475803 entries, 0 to 1258950\n",
      "Data columns (total 3 columns):\n",
      " #   Column         Non-Null Count   Dtype  \n",
      "---  ------         --------------   -----  \n",
      " 0   tconst         475803 non-null  object \n",
      " 1   averageRating  475803 non-null  float64\n",
      " 2   numVotes       475803 non-null  int64  \n",
      "dtypes: float64(1), int64(1), object(1)\n",
      "memory usage: 14.5+ MB\n"
     ]
    }
   ],
   "source": [
    "ratings_df.info()"
   ]
  },
  {
   "cell_type": "code",
   "execution_count": 57,
   "id": "07634f21",
   "metadata": {},
   "outputs": [
    {
     "name": "stdout",
     "output_type": "stream",
     "text": [
      "<class 'pandas.core.frame.DataFrame'>\n",
      "Int64Index: 82441 entries, 34792 to 9211482\n",
      "Data columns (total 9 columns):\n",
      " #   Column          Non-Null Count  Dtype \n",
      "---  ------          --------------  ----- \n",
      " 0   tconst          82441 non-null  object\n",
      " 1   titleType       82441 non-null  object\n",
      " 2   primaryTitle    82441 non-null  object\n",
      " 3   originalTitle   82441 non-null  object\n",
      " 4   isAdult         82441 non-null  object\n",
      " 5   startYear       82441 non-null  int64 \n",
      " 6   endYear         0 non-null      object\n",
      " 7   runtimeMinutes  82441 non-null  int64 \n",
      " 8   genres          82441 non-null  object\n",
      "dtypes: int64(2), object(7)\n",
      "memory usage: 6.3+ MB\n"
     ]
    }
   ],
   "source": [
    "basics.info()"
   ]
  },
  {
   "cell_type": "code",
   "execution_count": 58,
   "id": "51801a50",
   "metadata": {},
   "outputs": [],
   "source": [
    "import os\n",
    "basics.to_csv(\"Data/title_basics.csv.gz\",compression='gzip',index=False)"
   ]
  },
  {
   "cell_type": "code",
   "execution_count": 59,
   "id": "77ef4fe4",
   "metadata": {},
   "outputs": [
    {
     "data": {
      "text/html": [
       "<div>\n",
       "<style scoped>\n",
       "    .dataframe tbody tr th:only-of-type {\n",
       "        vertical-align: middle;\n",
       "    }\n",
       "\n",
       "    .dataframe tbody tr th {\n",
       "        vertical-align: top;\n",
       "    }\n",
       "\n",
       "    .dataframe thead th {\n",
       "        text-align: right;\n",
       "    }\n",
       "</style>\n",
       "<table border=\"1\" class=\"dataframe\">\n",
       "  <thead>\n",
       "    <tr style=\"text-align: right;\">\n",
       "      <th></th>\n",
       "      <th>tconst</th>\n",
       "      <th>titleType</th>\n",
       "      <th>primaryTitle</th>\n",
       "      <th>originalTitle</th>\n",
       "      <th>isAdult</th>\n",
       "      <th>startYear</th>\n",
       "      <th>endYear</th>\n",
       "      <th>runtimeMinutes</th>\n",
       "      <th>genres</th>\n",
       "    </tr>\n",
       "  </thead>\n",
       "  <tbody>\n",
       "    <tr>\n",
       "      <th>0</th>\n",
       "      <td>tt0035423</td>\n",
       "      <td>movie</td>\n",
       "      <td>Kate &amp; Leopold</td>\n",
       "      <td>Kate &amp; Leopold</td>\n",
       "      <td>0</td>\n",
       "      <td>2001</td>\n",
       "      <td>NaN</td>\n",
       "      <td>118</td>\n",
       "      <td>Comedy,Fantasy,Romance</td>\n",
       "    </tr>\n",
       "    <tr>\n",
       "      <th>1</th>\n",
       "      <td>tt0062336</td>\n",
       "      <td>movie</td>\n",
       "      <td>The Tango of the Widower and Its Distorting Mi...</td>\n",
       "      <td>El Tango del Viudo y Su Espejo Deformante</td>\n",
       "      <td>0</td>\n",
       "      <td>2020</td>\n",
       "      <td>NaN</td>\n",
       "      <td>70</td>\n",
       "      <td>Drama</td>\n",
       "    </tr>\n",
       "    <tr>\n",
       "      <th>2</th>\n",
       "      <td>tt0069049</td>\n",
       "      <td>movie</td>\n",
       "      <td>The Other Side of the Wind</td>\n",
       "      <td>The Other Side of the Wind</td>\n",
       "      <td>0</td>\n",
       "      <td>2018</td>\n",
       "      <td>NaN</td>\n",
       "      <td>122</td>\n",
       "      <td>Drama</td>\n",
       "    </tr>\n",
       "    <tr>\n",
       "      <th>3</th>\n",
       "      <td>tt0088751</td>\n",
       "      <td>movie</td>\n",
       "      <td>The Naked Monster</td>\n",
       "      <td>The Naked Monster</td>\n",
       "      <td>0</td>\n",
       "      <td>2005</td>\n",
       "      <td>NaN</td>\n",
       "      <td>100</td>\n",
       "      <td>Comedy,Horror,Sci-Fi</td>\n",
       "    </tr>\n",
       "    <tr>\n",
       "      <th>4</th>\n",
       "      <td>tt0096056</td>\n",
       "      <td>movie</td>\n",
       "      <td>Crime and Punishment</td>\n",
       "      <td>Crime and Punishment</td>\n",
       "      <td>0</td>\n",
       "      <td>2002</td>\n",
       "      <td>NaN</td>\n",
       "      <td>126</td>\n",
       "      <td>Drama</td>\n",
       "    </tr>\n",
       "  </tbody>\n",
       "</table>\n",
       "</div>"
      ],
      "text/plain": [
       "      tconst titleType                                       primaryTitle  \\\n",
       "0  tt0035423     movie                                     Kate & Leopold   \n",
       "1  tt0062336     movie  The Tango of the Widower and Its Distorting Mi...   \n",
       "2  tt0069049     movie                         The Other Side of the Wind   \n",
       "3  tt0088751     movie                                  The Naked Monster   \n",
       "4  tt0096056     movie                               Crime and Punishment   \n",
       "\n",
       "                               originalTitle  isAdult  startYear  endYear  \\\n",
       "0                             Kate & Leopold        0       2001      NaN   \n",
       "1  El Tango del Viudo y Su Espejo Deformante        0       2020      NaN   \n",
       "2                 The Other Side of the Wind        0       2018      NaN   \n",
       "3                          The Naked Monster        0       2005      NaN   \n",
       "4                       Crime and Punishment        0       2002      NaN   \n",
       "\n",
       "   runtimeMinutes                  genres  \n",
       "0             118  Comedy,Fantasy,Romance  \n",
       "1              70                   Drama  \n",
       "2             122                   Drama  \n",
       "3             100    Comedy,Horror,Sci-Fi  \n",
       "4             126                   Drama  "
      ]
     },
     "execution_count": 59,
     "metadata": {},
     "output_type": "execute_result"
    }
   ],
   "source": [
    "basics = pd.read_csv(\"Data/title_basics.csv.gz\", low_memory = False)\n",
    "basics.head()"
   ]
  },
  {
   "cell_type": "code",
   "execution_count": 60,
   "id": "5dd41d6d",
   "metadata": {},
   "outputs": [
    {
     "data": {
      "text/html": [
       "<div>\n",
       "<style scoped>\n",
       "    .dataframe tbody tr th:only-of-type {\n",
       "        vertical-align: middle;\n",
       "    }\n",
       "\n",
       "    .dataframe tbody tr th {\n",
       "        vertical-align: top;\n",
       "    }\n",
       "\n",
       "    .dataframe thead th {\n",
       "        text-align: right;\n",
       "    }\n",
       "</style>\n",
       "<table border=\"1\" class=\"dataframe\">\n",
       "  <thead>\n",
       "    <tr style=\"text-align: right;\">\n",
       "      <th></th>\n",
       "      <th>tconst</th>\n",
       "      <th>averageRating</th>\n",
       "      <th>numVotes</th>\n",
       "    </tr>\n",
       "  </thead>\n",
       "  <tbody>\n",
       "    <tr>\n",
       "      <th>0</th>\n",
       "      <td>tt0000001</td>\n",
       "      <td>5.7</td>\n",
       "      <td>1905</td>\n",
       "    </tr>\n",
       "    <tr>\n",
       "      <th>1</th>\n",
       "      <td>tt0000002</td>\n",
       "      <td>5.8</td>\n",
       "      <td>256</td>\n",
       "    </tr>\n",
       "    <tr>\n",
       "      <th>2</th>\n",
       "      <td>tt0000005</td>\n",
       "      <td>6.2</td>\n",
       "      <td>2519</td>\n",
       "    </tr>\n",
       "    <tr>\n",
       "      <th>3</th>\n",
       "      <td>tt0000006</td>\n",
       "      <td>5.1</td>\n",
       "      <td>173</td>\n",
       "    </tr>\n",
       "    <tr>\n",
       "      <th>4</th>\n",
       "      <td>tt0000007</td>\n",
       "      <td>5.4</td>\n",
       "      <td>783</td>\n",
       "    </tr>\n",
       "  </tbody>\n",
       "</table>\n",
       "</div>"
      ],
      "text/plain": [
       "      tconst  averageRating  numVotes\n",
       "0  tt0000001            5.7      1905\n",
       "1  tt0000002            5.8       256\n",
       "2  tt0000005            6.2      2519\n",
       "3  tt0000006            5.1       173\n",
       "4  tt0000007            5.4       783"
      ]
     },
     "execution_count": 60,
     "metadata": {},
     "output_type": "execute_result"
    }
   ],
   "source": [
    "ratings_df = pd.read_csv(\"Data/title_title.title.ratings.tsv.gz\", low_memory = False)\n",
    "ratings_df.head()"
   ]
  },
  {
   "cell_type": "code",
   "execution_count": 61,
   "id": "a244ce8c",
   "metadata": {},
   "outputs": [],
   "source": [
    "ratings_df.to_csv(\"Data/title_title.title.ratings.tsv.gz\",compression='gzip',index=False)"
   ]
  },
  {
   "cell_type": "code",
   "execution_count": 62,
   "id": "ea3f9c17",
   "metadata": {},
   "outputs": [],
   "source": [
    "akas_df.to_csv(\"Data/title_title.title.akas.tsv.gz\",compression='gzip',index=False)"
   ]
  },
  {
   "cell_type": "code",
   "execution_count": 63,
   "id": "19621ec4",
   "metadata": {},
   "outputs": [
    {
     "data": {
      "text/html": [
       "<div>\n",
       "<style scoped>\n",
       "    .dataframe tbody tr th:only-of-type {\n",
       "        vertical-align: middle;\n",
       "    }\n",
       "\n",
       "    .dataframe tbody tr th {\n",
       "        vertical-align: top;\n",
       "    }\n",
       "\n",
       "    .dataframe thead th {\n",
       "        text-align: right;\n",
       "    }\n",
       "</style>\n",
       "<table border=\"1\" class=\"dataframe\">\n",
       "  <thead>\n",
       "    <tr style=\"text-align: right;\">\n",
       "      <th></th>\n",
       "      <th>tconst</th>\n",
       "      <th>averageRating</th>\n",
       "      <th>numVotes</th>\n",
       "    </tr>\n",
       "  </thead>\n",
       "  <tbody>\n",
       "    <tr>\n",
       "      <th>0</th>\n",
       "      <td>tt0000001</td>\n",
       "      <td>5.7</td>\n",
       "      <td>1905</td>\n",
       "    </tr>\n",
       "    <tr>\n",
       "      <th>1</th>\n",
       "      <td>tt0000002</td>\n",
       "      <td>5.8</td>\n",
       "      <td>256</td>\n",
       "    </tr>\n",
       "    <tr>\n",
       "      <th>2</th>\n",
       "      <td>tt0000005</td>\n",
       "      <td>6.2</td>\n",
       "      <td>2519</td>\n",
       "    </tr>\n",
       "    <tr>\n",
       "      <th>3</th>\n",
       "      <td>tt0000006</td>\n",
       "      <td>5.1</td>\n",
       "      <td>173</td>\n",
       "    </tr>\n",
       "    <tr>\n",
       "      <th>4</th>\n",
       "      <td>tt0000007</td>\n",
       "      <td>5.4</td>\n",
       "      <td>783</td>\n",
       "    </tr>\n",
       "  </tbody>\n",
       "</table>\n",
       "</div>"
      ],
      "text/plain": [
       "      tconst  averageRating  numVotes\n",
       "0  tt0000001            5.7      1905\n",
       "1  tt0000002            5.8       256\n",
       "2  tt0000005            6.2      2519\n",
       "3  tt0000006            5.1       173\n",
       "4  tt0000007            5.4       783"
      ]
     },
     "execution_count": 63,
     "metadata": {},
     "output_type": "execute_result"
    }
   ],
   "source": [
    "akas_df = pd.read_csv(\"Data/title_title.title.akas.tsv.gz\", low_memory = False)\n",
    "ratings_df.head()"
   ]
  },
  {
   "cell_type": "markdown",
   "id": "e1e5eaf4",
   "metadata": {
    "heading_collapsed": true
   },
   "source": [
    "# Using  Json , API , tmdb\n"
   ]
  },
  {
   "cell_type": "code",
   "execution_count": 64,
   "id": "7f0dc7f8",
   "metadata": {
    "hidden": true
   },
   "outputs": [],
   "source": [
    "with open('/users/daviankalopez/.secret/tmdb_api.json') as f:\n",
    "    login = json.load(f)\n",
    "    \n",
    "    login.keys()"
   ]
  },
  {
   "cell_type": "code",
   "execution_count": 194,
   "id": "7e05c5b6",
   "metadata": {
    "hidden": true
   },
   "outputs": [],
   "source": [
    "import tmdbsimple as tmdb\n",
    "tmdb.API_KEY = login['api-key']"
   ]
  },
  {
   "cell_type": "code",
   "execution_count": 195,
   "id": "295fb4eb",
   "metadata": {
    "hidden": true
   },
   "outputs": [],
   "source": [
    "movie = tmdb.Movies(603)"
   ]
  },
  {
   "cell_type": "code",
   "execution_count": 196,
   "id": "1555d29f",
   "metadata": {
    "hidden": true
   },
   "outputs": [
    {
     "data": {
      "text/plain": [
       "<tmdbsimple.movies.Movies at 0x2bce0e220>"
      ]
     },
     "execution_count": 196,
     "metadata": {},
     "output_type": "execute_result"
    }
   ],
   "source": [
    "tmdb.Movies(603)"
   ]
  },
  {
   "cell_type": "code",
   "execution_count": 197,
   "id": "ba920e32",
   "metadata": {
    "hidden": true
   },
   "outputs": [
    {
     "data": {
      "text/plain": [
       "{'adult': False,\n",
       " 'backdrop_path': '/n2nm4aZRmXyJ9LT4xQX9X6ThcP7.jpg',\n",
       " 'belongs_to_collection': {'id': 2344,\n",
       "  'name': 'The Matrix Collection',\n",
       "  'poster_path': '/bV9qTVHTVf0gkW0j7p7M0ILD4pG.jpg',\n",
       "  'backdrop_path': '/bRm2DEgUiYciDw3myHuYFInD7la.jpg'},\n",
       " 'budget': 63000000,\n",
       " 'genres': [{'id': 28, 'name': 'Action'},\n",
       "  {'id': 878, 'name': 'Science Fiction'}],\n",
       " 'homepage': 'http://www.warnerbros.com/matrix',\n",
       " 'id': 603,\n",
       " 'imdb_id': 'tt0133093',\n",
       " 'original_language': 'en',\n",
       " 'original_title': 'The Matrix',\n",
       " 'overview': 'Set in the 22nd century, The Matrix tells the story of a computer hacker who joins a group of underground insurgents fighting the vast and powerful computers who now rule the earth.',\n",
       " 'popularity': 68.051,\n",
       " 'poster_path': '/f89U3ADr1oiB1s9GkdPOEpXUk5H.jpg',\n",
       " 'production_companies': [{'id': 79,\n",
       "   'logo_path': '/tpFpsqbleCzEE2p5EgvUq6ozfCA.png',\n",
       "   'name': 'Village Roadshow Pictures',\n",
       "   'origin_country': 'US'},\n",
       "  {'id': 174,\n",
       "   'logo_path': '/IuAlhI9eVC9Z8UQWOIDdWRKSEJ.png',\n",
       "   'name': 'Warner Bros. Pictures',\n",
       "   'origin_country': 'US'},\n",
       "  {'id': 372,\n",
       "   'logo_path': None,\n",
       "   'name': 'Groucho II Film Partnership',\n",
       "   'origin_country': ''},\n",
       "  {'id': 1885,\n",
       "   'logo_path': '/tXMFoE8AtNdnFzWOW0aCLwl7xxS.png',\n",
       "   'name': 'Silver Pictures',\n",
       "   'origin_country': 'US'}],\n",
       " 'production_countries': [{'iso_3166_1': 'US',\n",
       "   'name': 'United States of America'}],\n",
       " 'release_date': '1999-03-30',\n",
       " 'revenue': 463517383,\n",
       " 'runtime': 136,\n",
       " 'spoken_languages': [{'english_name': 'English',\n",
       "   'iso_639_1': 'en',\n",
       "   'name': 'English'}],\n",
       " 'status': 'Released',\n",
       " 'tagline': 'Welcome to the Real World.',\n",
       " 'title': 'The Matrix',\n",
       " 'video': False,\n",
       " 'vote_average': 8.19,\n",
       " 'vote_count': 22034}"
      ]
     },
     "execution_count": 197,
     "metadata": {},
     "output_type": "execute_result"
    }
   ],
   "source": [
    "info = movie.info()\n",
    "info"
   ]
  },
  {
   "cell_type": "code",
   "execution_count": 199,
   "id": "ba448393",
   "metadata": {
    "hidden": true
   },
   "outputs": [
    {
     "data": {
      "text/plain": [
       "63000000"
      ]
     },
     "execution_count": 199,
     "metadata": {},
     "output_type": "execute_result"
    }
   ],
   "source": [
    "info['budget']"
   ]
  },
  {
   "cell_type": "code",
   "execution_count": 200,
   "id": "605a2295",
   "metadata": {
    "hidden": true
   },
   "outputs": [
    {
     "data": {
      "text/plain": [
       "463517383"
      ]
     },
     "execution_count": 200,
     "metadata": {},
     "output_type": "execute_result"
    }
   ],
   "source": [
    "info['revenue']"
   ]
  },
  {
   "cell_type": "code",
   "execution_count": 201,
   "id": "dcb2d43d",
   "metadata": {
    "hidden": true
   },
   "outputs": [
    {
     "data": {
      "text/plain": [
       "'tt0133093'"
      ]
     },
     "execution_count": 201,
     "metadata": {},
     "output_type": "execute_result"
    }
   ],
   "source": [
    "info['imdb_id']"
   ]
  },
  {
   "cell_type": "code",
   "execution_count": 202,
   "id": "aa3e79bb",
   "metadata": {
    "hidden": true,
    "scrolled": true
   },
   "outputs": [
    {
     "name": "stdout",
     "output_type": "stream",
     "text": [
      "R\n",
      "R\n"
     ]
    }
   ],
   "source": [
    "#find certification\n",
    "#example from package README\n",
    "response = movie.releases()\n",
    "for c in movie.countries:\n",
    "    if c['iso_3166_1'] == 'US':\n",
    "         print(c['certification'])\n",
    "        "
   ]
  },
  {
   "cell_type": "markdown",
   "id": "93d54b8f",
   "metadata": {
    "heading_collapsed": true
   },
   "source": [
    "# Get the movie object for the current id\n",
    "movie = tmdb.Movies()\n",
    "# save the .info .releases dictionaries\n",
    "info = movie.info()\n",
    "releases = movie.releases()\n",
    "# Loop through countries in releases\n",
    "for c in releases['countries']:\n",
    "    # if the country abbreviation==US\n",
    "    if c['iso_3166_1' ] =='US':\n",
    "        ## save a \"certification\" key in the info dict with the certification\n",
    "       info['certification'] = c['certification']"
   ]
  },
  {
   "cell_type": "code",
   "execution_count": 214,
   "id": "f498341e",
   "metadata": {
    "hidden": true
   },
   "outputs": [],
   "source": [
    "#create the function\n",
    "def get_movie_with_rating(movie_id):\n",
    "    # Get the movie object for the current id\n",
    "    movie = tmdb.Movies(movie_id)\n",
    "# save the .info .releases dictionaries\n",
    "    info = movie.info()\n",
    "    releases = movie.releases()\n",
    "# Loop through countries in releases\n",
    "    for c in releases['countries']:\n",
    "    # if the country abbreviation==US\n",
    "        if c['iso_3166_1' ] =='US':\n",
    "        ## save a \"certification\" key in the info dict with the certification\n",
    "           info['certification'] = c['certification']\n",
    "    return info"
   ]
  },
  {
   "cell_type": "code",
   "execution_count": 215,
   "id": "951b2294",
   "metadata": {
    "hidden": true
   },
   "outputs": [
    {
     "data": {
      "text/plain": [
       "{'adult': False,\n",
       " 'backdrop_path': '/9BBTo63ANSmhC4e6r62OJFuK2GL.jpg',\n",
       " 'belongs_to_collection': {'id': 86311,\n",
       "  'name': 'The Avengers Collection',\n",
       "  'poster_path': '/yFSIUVTCvgYrpalUktulvk3Gi5Y.jpg',\n",
       "  'backdrop_path': '/zuW6fOiusv4X9nnW3paHGfXcSll.jpg'},\n",
       " 'budget': 220000000,\n",
       " 'genres': [{'id': 878, 'name': 'Science Fiction'},\n",
       "  {'id': 28, 'name': 'Action'},\n",
       "  {'id': 12, 'name': 'Adventure'}],\n",
       " 'homepage': 'https://www.marvel.com/movies/the-avengers',\n",
       " 'id': 24428,\n",
       " 'imdb_id': 'tt0848228',\n",
       " 'original_language': 'en',\n",
       " 'original_title': 'The Avengers',\n",
       " 'overview': 'When an unexpected enemy emerges and threatens global safety and security, Nick Fury, director of the international peacekeeping agency known as S.H.I.E.L.D., finds himself in need of a team to pull the world back from the brink of disaster. Spanning the globe, a daring recruitment effort begins!',\n",
       " 'popularity': 196.797,\n",
       " 'poster_path': '/RYMX2wcKCBAr24UyPD7xwmjaTn.jpg',\n",
       " 'production_companies': [{'id': 420,\n",
       "   'logo_path': '/hUzeosd33nzE5MCNsZxCGEKTXaQ.png',\n",
       "   'name': 'Marvel Studios',\n",
       "   'origin_country': 'US'}],\n",
       " 'production_countries': [{'iso_3166_1': 'US',\n",
       "   'name': 'United States of America'}],\n",
       " 'release_date': '2012-04-25',\n",
       " 'revenue': 1518815515,\n",
       " 'runtime': 143,\n",
       " 'spoken_languages': [{'english_name': 'English',\n",
       "   'iso_639_1': 'en',\n",
       "   'name': 'English'},\n",
       "  {'english_name': 'Hindi', 'iso_639_1': 'hi', 'name': 'हिन्दी'},\n",
       "  {'english_name': 'Russian', 'iso_639_1': 'ru', 'name': 'Pусский'}],\n",
       " 'status': 'Released',\n",
       " 'tagline': 'Some assembly required.',\n",
       " 'title': 'The Avengers',\n",
       " 'video': False,\n",
       " 'vote_average': 7.706,\n",
       " 'vote_count': 27459,\n",
       " 'certification': 'PG-13'}"
      ]
     },
     "execution_count": 215,
     "metadata": {},
     "output_type": "execute_result"
    }
   ],
   "source": [
    "test = get_movie_with_rating('tt0848228') #put your function name here\n",
    "test\n"
   ]
  },
  {
   "cell_type": "markdown",
   "id": "266e8692",
   "metadata": {
    "heading_collapsed": true
   },
   "source": [
    "# Before the loops"
   ]
  },
  {
   "cell_type": "code",
   "execution_count": 65,
   "id": "faa384a8",
   "metadata": {
    "hidden": true
   },
   "outputs": [
    {
     "data": {
      "text/plain": [
       "['final_tmdb_data_2006.csv.gz',\n",
       " 'tmdb_api_results_2010.json',\n",
       " 'final_tmdb_data_2018.csv.gz',\n",
       " 'Two_Years_tmdb_combined_data.csv.gz',\n",
       " 'final_tmdb_data_2014.csv.gz',\n",
       " 'tmdb_api_results_2006.json',\n",
       " 'title_title.title.akas.tsv.gz',\n",
       " 'final_tmdb_data_2008.csv.gz',\n",
       " 'final_tmdb_data_2016.csv.gz',\n",
       " 'final_tmdb_data_2004.csv.gz',\n",
       " 'tmdb_api_results_2007.json',\n",
       " 'final_tmdb_data_2020.csv.gz',\n",
       " 'tmdb_api_results_2011.json',\n",
       " 'tmdb_api_results_2020.json',\n",
       " 'title_title.title.ratings.tsv.gz',\n",
       " 'tmdb_api_results_2016.json',\n",
       " 'tmdb_api_results_2000.json',\n",
       " 'final_tmdb_data_2000.csv.gz',\n",
       " 'final_tmdb_data_2012.csv.gz',\n",
       " 'tmdb_api_results_2001.json',\n",
       " 'final_tmdb_data_2010.csv.gz',\n",
       " 'final_tmdb_data_2002.csv.gz',\n",
       " 'title_basics.csv.gz',\n",
       " 'tmdb_api_results_2017.json',\n",
       " 'tmdb_api_results_2018.json',\n",
       " 'tmdb_api_results_2002.json',\n",
       " 'final_tmdb_data_2019.csv.gz',\n",
       " 'final_tmdb_data_2007.csv.gz',\n",
       " 'tmdb_api_results_2014.json',\n",
       " 'final_tmdb_data_2015.csv.gz',\n",
       " 'tmdb_api_results_2015.json',\n",
       " 'tmdb_api_results_2003.json',\n",
       " 'final_tmdb_data_2017.csv.gz',\n",
       " 'final_tmdb_data_2009.csv.gz',\n",
       " 'final_tmdb_data_2005.csv.gz',\n",
       " 'tmdb_api_results_2019.json',\n",
       " 'final_tmdb_data_2001.csv.gz',\n",
       " '.ipynb_checkpoints',\n",
       " 'final_tmdb_data_2013.csv.gz',\n",
       " 'tmdb_api_results_2004.json',\n",
       " 'tmdb_api_results_2012.json',\n",
       " 'tmdb_api_results_2008.json',\n",
       " 'tmdb_api_results_2009.json',\n",
       " 'tmdb_api_results_2013.json',\n",
       " 'final_tmdb_data_2011.csv.gz',\n",
       " 'final_tmdb_data_2003.csv.gz',\n",
       " 'tmdb_api_results_2005.json']"
      ]
     },
     "execution_count": 65,
     "metadata": {},
     "output_type": "execute_result"
    }
   ],
   "source": [
    "FOLDER= \"Data/\"\n",
    "os.makedirs(FOLDER, exist_ok = True)\n",
    "os.listdir(FOLDER)"
   ]
  },
  {
   "cell_type": "code",
   "execution_count": 66,
   "id": "510f34dc",
   "metadata": {
    "hidden": true
   },
   "outputs": [],
   "source": [
    "#using \n",
    "#YEARS_TO_GET = [2003,2004 ,2005 , 2006, 2007 , 2008, 2009, 2010]"
   ]
  },
  {
   "cell_type": "code",
   "execution_count": 67,
   "id": "f9fc01ed",
   "metadata": {
    "hidden": true
   },
   "outputs": [],
   "source": [
    "#YEARS_TO_GET = [2011,2012,2013,2014,2015,2016, 2017, 2018, 2019, 2020]\n",
    "YEARS_TO_GET = [2020]"
   ]
  },
  {
   "cell_type": "markdown",
   "id": "cf18f777",
   "metadata": {
    "heading_collapsed": true,
    "hidden": true
   },
   "source": [
    "## Querying Movies by ID"
   ]
  },
  {
   "cell_type": "code",
   "execution_count": 230,
   "id": "52865405",
   "metadata": {
    "hidden": true
   },
   "outputs": [
    {
     "data": {
      "text/html": [
       "<div>\n",
       "<style scoped>\n",
       "    .dataframe tbody tr th:only-of-type {\n",
       "        vertical-align: middle;\n",
       "    }\n",
       "\n",
       "    .dataframe tbody tr th {\n",
       "        vertical-align: top;\n",
       "    }\n",
       "\n",
       "    .dataframe thead th {\n",
       "        text-align: right;\n",
       "    }\n",
       "</style>\n",
       "<table border=\"1\" class=\"dataframe\">\n",
       "  <thead>\n",
       "    <tr style=\"text-align: right;\">\n",
       "      <th></th>\n",
       "      <th>tconst</th>\n",
       "      <th>titleType</th>\n",
       "      <th>primaryTitle</th>\n",
       "      <th>originalTitle</th>\n",
       "      <th>isAdult</th>\n",
       "      <th>startYear</th>\n",
       "      <th>endYear</th>\n",
       "      <th>runtimeMinutes</th>\n",
       "      <th>genres</th>\n",
       "    </tr>\n",
       "  </thead>\n",
       "  <tbody>\n",
       "    <tr>\n",
       "      <th>0</th>\n",
       "      <td>tt0035423</td>\n",
       "      <td>movie</td>\n",
       "      <td>Kate &amp; Leopold</td>\n",
       "      <td>Kate &amp; Leopold</td>\n",
       "      <td>0</td>\n",
       "      <td>2001</td>\n",
       "      <td>NaN</td>\n",
       "      <td>118</td>\n",
       "      <td>Comedy,Fantasy,Romance</td>\n",
       "    </tr>\n",
       "    <tr>\n",
       "      <th>1</th>\n",
       "      <td>tt0062336</td>\n",
       "      <td>movie</td>\n",
       "      <td>The Tango of the Widower and Its Distorting Mi...</td>\n",
       "      <td>El Tango del Viudo y Su Espejo Deformante</td>\n",
       "      <td>0</td>\n",
       "      <td>2020</td>\n",
       "      <td>NaN</td>\n",
       "      <td>70</td>\n",
       "      <td>Drama</td>\n",
       "    </tr>\n",
       "    <tr>\n",
       "      <th>2</th>\n",
       "      <td>tt0069049</td>\n",
       "      <td>movie</td>\n",
       "      <td>The Other Side of the Wind</td>\n",
       "      <td>The Other Side of the Wind</td>\n",
       "      <td>0</td>\n",
       "      <td>2018</td>\n",
       "      <td>NaN</td>\n",
       "      <td>122</td>\n",
       "      <td>Drama</td>\n",
       "    </tr>\n",
       "    <tr>\n",
       "      <th>3</th>\n",
       "      <td>tt0088751</td>\n",
       "      <td>movie</td>\n",
       "      <td>The Naked Monster</td>\n",
       "      <td>The Naked Monster</td>\n",
       "      <td>0</td>\n",
       "      <td>2005</td>\n",
       "      <td>NaN</td>\n",
       "      <td>100</td>\n",
       "      <td>Comedy,Horror,Sci-Fi</td>\n",
       "    </tr>\n",
       "    <tr>\n",
       "      <th>4</th>\n",
       "      <td>tt0096056</td>\n",
       "      <td>movie</td>\n",
       "      <td>Crime and Punishment</td>\n",
       "      <td>Crime and Punishment</td>\n",
       "      <td>0</td>\n",
       "      <td>2002</td>\n",
       "      <td>NaN</td>\n",
       "      <td>126</td>\n",
       "      <td>Drama</td>\n",
       "    </tr>\n",
       "  </tbody>\n",
       "</table>\n",
       "</div>"
      ],
      "text/plain": [
       "      tconst titleType                                       primaryTitle  \\\n",
       "0  tt0035423     movie                                     Kate & Leopold   \n",
       "1  tt0062336     movie  The Tango of the Widower and Its Distorting Mi...   \n",
       "2  tt0069049     movie                         The Other Side of the Wind   \n",
       "3  tt0088751     movie                                  The Naked Monster   \n",
       "4  tt0096056     movie                               Crime and Punishment   \n",
       "\n",
       "                               originalTitle  isAdult  startYear  endYear  \\\n",
       "0                             Kate & Leopold        0       2001      NaN   \n",
       "1  El Tango del Viudo y Su Espejo Deformante        0       2020      NaN   \n",
       "2                 The Other Side of the Wind        0       2018      NaN   \n",
       "3                          The Naked Monster        0       2005      NaN   \n",
       "4                       Crime and Punishment        0       2002      NaN   \n",
       "\n",
       "   runtimeMinutes                  genres  \n",
       "0             118  Comedy,Fantasy,Romance  \n",
       "1              70                   Drama  \n",
       "2             122                   Drama  \n",
       "3             100    Comedy,Horror,Sci-Fi  \n",
       "4             126                   Drama  "
      ]
     },
     "execution_count": 230,
     "metadata": {},
     "output_type": "execute_result"
    }
   ],
   "source": [
    "#Load in the dataframe from project part 1 as basics\n",
    "basics = pd.read_csv('data/title_basics.csv.gz')\n",
    "basics.head()"
   ]
  },
  {
   "cell_type": "code",
   "execution_count": 231,
   "id": "da4d87a9",
   "metadata": {
    "hidden": true
   },
   "outputs": [],
   "source": [
    "def write_json(new_data, filename): \n",
    "    \"\"\"Adapted from: https://www.geeksforgeeks.org/append-to-json-file-using-python/\"\"\"    \n",
    "    \n",
    "    with open(filename,'r+') as file:\n",
    "        # First we load existing data into a dict.\n",
    "        file_data = json.load(file)\n",
    "        ## Choose extend or append\n",
    "        if (type(new_data) == list) & (type(file_data) == list):\n",
    "            file_data.extend(new_data)\n",
    "        else:\n",
    "             file_data.append(new_data)\n",
    "        # Sets file's current position at offset.\n",
    "        file.seek(0)\n",
    "        # convert back to json.\n",
    "        json.dump(file_data, file)"
   ]
  },
  {
   "cell_type": "code",
   "execution_count": 242,
   "id": "0d04711b",
   "metadata": {
    "hidden": true
   },
   "outputs": [
    {
     "data": {
      "application/vnd.jupyter.widget-view+json": {
       "model_id": "668c553be33e4432a96f8d3dbfe7b6dc",
       "version_major": 2,
       "version_minor": 0
      },
      "text/plain": [
       "YEARS:   0%|          | 0/1 [00:00<?, ?it/s]"
      ]
     },
     "metadata": {},
     "output_type": "display_data"
    },
    {
     "data": {
      "application/vnd.jupyter.widget-view+json": {
       "model_id": "620426eea0d944d0b665ec1390614c4d",
       "version_major": 2,
       "version_minor": 0
      },
      "text/plain": [
       "Movies from 2020:   0%|          | 0/2288 [00:00<?, ?it/s]"
      ]
     },
     "metadata": {},
     "output_type": "display_data"
    }
   ],
   "source": [
    "for YEAR in tqdm_notebook(YEARS_TO_GET,desc='YEARS', position = 0):\n",
    "    #DEFINING the JSON file to store results for year\n",
    "    JSON_FILE = f'{FOLDER}tmdb_api_results_{YEAR}.json'\n",
    "    #CHECK IF THE FILE EXISTS    \n",
    "    file_exists = os.path.isfile(JSON_FILE)\n",
    "\n",
    "    #IF IT DOESN'T EXIST, CREATE IT.\n",
    "    if file_exists == False:\n",
    "        #save an empty dict with just \"imdb_id\" to the new json file.\n",
    "        with open(JSON_FILE, 'w') as f:\n",
    "            json.dump([{'imdb_id':0}],f)\n",
    "\n",
    "    #Saving new Year as the current df\n",
    "    df=basics.loc[basics['startYear']==YEAR].copy()\n",
    "\n",
    "    #SAVING MOVIE ID'S TO LIST\n",
    "    movie_ids= df['tconst'].copy()#to_list()\n",
    "    movie_ids\n",
    "\n",
    "    #LOAD EXISTING DATA FROM JSON INTO A DF CALLED 'PREVIOUS_DF'\n",
    "    previous_df = pd.read_json(JSON_FILE)\n",
    "    previous_df\n",
    "\n",
    "    #Filter out any IDs that are already in the JSON_FILE\n",
    "    movie_ids_to_get= movie_ids[~movie_ids.isin(previous_df['imdb_id'])]\n",
    "\n",
    "    #Get index and movie id from list\n",
    "    # INNER Loop\n",
    "    for movie_id in tqdm_notebook(movie_ids_to_get,\n",
    "                                      desc=f'Movies from {YEAR}',\n",
    "                                      position=1,\n",
    "                                      leave=True):\n",
    "            # Attempt to retrieve then data for the movie id\n",
    "            try:\n",
    "                temp = get_movie_with_rating(movie_id)  #This uses your pre-made function\n",
    "                # Append/extend results to existing file using a pre-made function\n",
    "                write_json(temp,JSON_FILE)\n",
    "                # Short 20 ms sleep to prevent overwhelming server\n",
    "                time.sleep(0.02)\n",
    "\n",
    "            # If it fails,  make a dict with just the id and None for certification.\n",
    "            except Exception as e:\n",
    "                #print(e)\n",
    "                continue\n",
    "\n",
    "    final_year_df = pd.read_json(JSON_FILE)\n",
    "    final_year_df.to_csv(f\"{FOLDER}final_tmdb_data_{YEAR}.csv.gz\", compression=\"gzip\", index=False)\n"
   ]
  },
  {
   "cell_type": "markdown",
   "id": "3b249ac7",
   "metadata": {},
   "source": [
    "# Exploratory data analysis "
   ]
  },
  {
   "cell_type": "code",
   "execution_count": 68,
   "id": "369f1537",
   "metadata": {},
   "outputs": [
    {
     "data": {
      "text/html": [
       "<div>\n",
       "<style scoped>\n",
       "    .dataframe tbody tr th:only-of-type {\n",
       "        vertical-align: middle;\n",
       "    }\n",
       "\n",
       "    .dataframe tbody tr th {\n",
       "        vertical-align: top;\n",
       "    }\n",
       "\n",
       "    .dataframe thead th {\n",
       "        text-align: right;\n",
       "    }\n",
       "</style>\n",
       "<table border=\"1\" class=\"dataframe\">\n",
       "  <thead>\n",
       "    <tr style=\"text-align: right;\">\n",
       "      <th></th>\n",
       "      <th>imdb_id</th>\n",
       "      <th>adult</th>\n",
       "      <th>backdrop_path</th>\n",
       "      <th>belongs_to_collection</th>\n",
       "      <th>budget</th>\n",
       "      <th>genres</th>\n",
       "      <th>homepage</th>\n",
       "      <th>id</th>\n",
       "      <th>original_language</th>\n",
       "      <th>original_title</th>\n",
       "      <th>...</th>\n",
       "      <th>revenue</th>\n",
       "      <th>runtime</th>\n",
       "      <th>spoken_languages</th>\n",
       "      <th>status</th>\n",
       "      <th>tagline</th>\n",
       "      <th>title</th>\n",
       "      <th>video</th>\n",
       "      <th>vote_average</th>\n",
       "      <th>vote_count</th>\n",
       "      <th>certification</th>\n",
       "    </tr>\n",
       "  </thead>\n",
       "  <tbody>\n",
       "    <tr>\n",
       "      <th>4347</th>\n",
       "      <td>tt6174238</td>\n",
       "      <td>0.0</td>\n",
       "      <td>NaN</td>\n",
       "      <td>{'id': 404302, 'name': 'Cold War Collection', ...</td>\n",
       "      <td>0.0</td>\n",
       "      <td>[{'id': 80, 'name': 'Crime'}]</td>\n",
       "      <td>NaN</td>\n",
       "      <td>223878.0</td>\n",
       "      <td>cn</td>\n",
       "      <td>冷战</td>\n",
       "      <td>...</td>\n",
       "      <td>0.0</td>\n",
       "      <td>0.0</td>\n",
       "      <td>[{'english_name': 'Cantonese', 'iso_639_1': 'c...</td>\n",
       "      <td>Released</td>\n",
       "      <td>NaN</td>\n",
       "      <td>Cold War</td>\n",
       "      <td>0.0</td>\n",
       "      <td>2.0</td>\n",
       "      <td>2.0</td>\n",
       "      <td>NaN</td>\n",
       "    </tr>\n",
       "    <tr>\n",
       "      <th>4348</th>\n",
       "      <td>tt7029820</td>\n",
       "      <td>0.0</td>\n",
       "      <td>NaN</td>\n",
       "      <td>NaN</td>\n",
       "      <td>0.0</td>\n",
       "      <td>[]</td>\n",
       "      <td>NaN</td>\n",
       "      <td>604889.0</td>\n",
       "      <td>en</td>\n",
       "      <td>Scream For Christmas</td>\n",
       "      <td>...</td>\n",
       "      <td>0.0</td>\n",
       "      <td>80.0</td>\n",
       "      <td>[]</td>\n",
       "      <td>Released</td>\n",
       "      <td>NaN</td>\n",
       "      <td>Scream For Christmas</td>\n",
       "      <td>0.0</td>\n",
       "      <td>0.0</td>\n",
       "      <td>0.0</td>\n",
       "      <td>NaN</td>\n",
       "    </tr>\n",
       "    <tr>\n",
       "      <th>4349</th>\n",
       "      <td>tt7197642</td>\n",
       "      <td>0.0</td>\n",
       "      <td>NaN</td>\n",
       "      <td>NaN</td>\n",
       "      <td>0.0</td>\n",
       "      <td>[{'id': 35, 'name': 'Comedy'}]</td>\n",
       "      <td>NaN</td>\n",
       "      <td>872676.0</td>\n",
       "      <td>en</td>\n",
       "      <td>Goodbye, Merry-Go-Round</td>\n",
       "      <td>...</td>\n",
       "      <td>0.0</td>\n",
       "      <td>90.0</td>\n",
       "      <td>[]</td>\n",
       "      <td>Released</td>\n",
       "      <td>NaN</td>\n",
       "      <td>Goodbye, Merry-Go-Round</td>\n",
       "      <td>0.0</td>\n",
       "      <td>0.0</td>\n",
       "      <td>0.0</td>\n",
       "      <td>NaN</td>\n",
       "    </tr>\n",
       "    <tr>\n",
       "      <th>4350</th>\n",
       "      <td>tt7631368</td>\n",
       "      <td>0.0</td>\n",
       "      <td>/sF0gUHE0YzZNXYugTB2LFxJIppf.jpg</td>\n",
       "      <td>NaN</td>\n",
       "      <td>10000000.0</td>\n",
       "      <td>[{'id': 27, 'name': 'Horror'}]</td>\n",
       "      <td>NaN</td>\n",
       "      <td>97186.0</td>\n",
       "      <td>fr</td>\n",
       "      <td>I, Vampire</td>\n",
       "      <td>...</td>\n",
       "      <td>0.0</td>\n",
       "      <td>85.0</td>\n",
       "      <td>[{'english_name': 'English', 'iso_639_1': 'en'...</td>\n",
       "      <td>Released</td>\n",
       "      <td>NaN</td>\n",
       "      <td>I, Vampire</td>\n",
       "      <td>0.0</td>\n",
       "      <td>6.4</td>\n",
       "      <td>4.0</td>\n",
       "      <td>NR</td>\n",
       "    </tr>\n",
       "    <tr>\n",
       "      <th>4351</th>\n",
       "      <td>tt7802790</td>\n",
       "      <td>0.0</td>\n",
       "      <td>/etxml2M8GQzb31jcH0cdA489WCX.jpg</td>\n",
       "      <td>NaN</td>\n",
       "      <td>0.0</td>\n",
       "      <td>[{'id': 35, 'name': 'Comedy'}, {'id': 80, 'nam...</td>\n",
       "      <td>NaN</td>\n",
       "      <td>610992.0</td>\n",
       "      <td>fa</td>\n",
       "      <td>مومیایی ۳</td>\n",
       "      <td>...</td>\n",
       "      <td>0.0</td>\n",
       "      <td>98.0</td>\n",
       "      <td>[{'english_name': 'Persian', 'iso_639_1': 'fa'...</td>\n",
       "      <td>Released</td>\n",
       "      <td>NaN</td>\n",
       "      <td>The Mummy 3</td>\n",
       "      <td>0.0</td>\n",
       "      <td>7.0</td>\n",
       "      <td>1.0</td>\n",
       "      <td>NaN</td>\n",
       "    </tr>\n",
       "  </tbody>\n",
       "</table>\n",
       "<p>5 rows × 26 columns</p>\n",
       "</div>"
      ],
      "text/plain": [
       "        imdb_id  adult                     backdrop_path  \\\n",
       "4347  tt6174238    0.0                               NaN   \n",
       "4348  tt7029820    0.0                               NaN   \n",
       "4349  tt7197642    0.0                               NaN   \n",
       "4350  tt7631368    0.0  /sF0gUHE0YzZNXYugTB2LFxJIppf.jpg   \n",
       "4351  tt7802790    0.0  /etxml2M8GQzb31jcH0cdA489WCX.jpg   \n",
       "\n",
       "                                  belongs_to_collection      budget  \\\n",
       "4347  {'id': 404302, 'name': 'Cold War Collection', ...         0.0   \n",
       "4348                                                NaN         0.0   \n",
       "4349                                                NaN         0.0   \n",
       "4350                                                NaN  10000000.0   \n",
       "4351                                                NaN         0.0   \n",
       "\n",
       "                                                 genres homepage        id  \\\n",
       "4347                      [{'id': 80, 'name': 'Crime'}]      NaN  223878.0   \n",
       "4348                                                 []      NaN  604889.0   \n",
       "4349                     [{'id': 35, 'name': 'Comedy'}]      NaN  872676.0   \n",
       "4350                     [{'id': 27, 'name': 'Horror'}]      NaN   97186.0   \n",
       "4351  [{'id': 35, 'name': 'Comedy'}, {'id': 80, 'nam...      NaN  610992.0   \n",
       "\n",
       "     original_language           original_title  ... revenue  runtime  \\\n",
       "4347                cn                       冷战  ...     0.0      0.0   \n",
       "4348                en     Scream For Christmas  ...     0.0     80.0   \n",
       "4349                en  Goodbye, Merry-Go-Round  ...     0.0     90.0   \n",
       "4350                fr               I, Vampire  ...     0.0     85.0   \n",
       "4351                fa                مومیایی ۳  ...     0.0     98.0   \n",
       "\n",
       "                                       spoken_languages    status tagline  \\\n",
       "4347  [{'english_name': 'Cantonese', 'iso_639_1': 'c...  Released     NaN   \n",
       "4348                                                 []  Released     NaN   \n",
       "4349                                                 []  Released     NaN   \n",
       "4350  [{'english_name': 'English', 'iso_639_1': 'en'...  Released     NaN   \n",
       "4351  [{'english_name': 'Persian', 'iso_639_1': 'fa'...  Released     NaN   \n",
       "\n",
       "                        title  video  vote_average vote_count certification  \n",
       "4347                 Cold War    0.0           2.0        2.0           NaN  \n",
       "4348     Scream For Christmas    0.0           0.0        0.0           NaN  \n",
       "4349  Goodbye, Merry-Go-Round    0.0           0.0        0.0           NaN  \n",
       "4350               I, Vampire    0.0           6.4        4.0            NR  \n",
       "4351              The Mummy 3    0.0           7.0        1.0           NaN  \n",
       "\n",
       "[5 rows x 26 columns]"
      ]
     },
     "execution_count": 68,
     "metadata": {},
     "output_type": "execute_result"
    }
   ],
   "source": [
    "df_2000=pd.read_csv('Data/final_tmdb_data_2000.csv.gz')\n",
    "df_2000.tail()"
   ]
  },
  {
   "cell_type": "code",
   "execution_count": 72,
   "id": "c312af1c",
   "metadata": {},
   "outputs": [
    {
     "data": {
      "text/html": [
       "<div>\n",
       "<style scoped>\n",
       "    .dataframe tbody tr th:only-of-type {\n",
       "        vertical-align: middle;\n",
       "    }\n",
       "\n",
       "    .dataframe tbody tr th {\n",
       "        vertical-align: top;\n",
       "    }\n",
       "\n",
       "    .dataframe thead th {\n",
       "        text-align: right;\n",
       "    }\n",
       "</style>\n",
       "<table border=\"1\" class=\"dataframe\">\n",
       "  <thead>\n",
       "    <tr style=\"text-align: right;\">\n",
       "      <th></th>\n",
       "      <th>imdb_id</th>\n",
       "      <th>adult</th>\n",
       "      <th>backdrop_path</th>\n",
       "      <th>belongs_to_collection</th>\n",
       "      <th>budget</th>\n",
       "      <th>genres</th>\n",
       "      <th>homepage</th>\n",
       "      <th>id</th>\n",
       "      <th>original_language</th>\n",
       "      <th>original_title</th>\n",
       "      <th>...</th>\n",
       "      <th>revenue</th>\n",
       "      <th>runtime</th>\n",
       "      <th>spoken_languages</th>\n",
       "      <th>status</th>\n",
       "      <th>tagline</th>\n",
       "      <th>title</th>\n",
       "      <th>video</th>\n",
       "      <th>vote_average</th>\n",
       "      <th>vote_count</th>\n",
       "      <th>certification</th>\n",
       "    </tr>\n",
       "  </thead>\n",
       "  <tbody>\n",
       "    <tr>\n",
       "      <th>4341</th>\n",
       "      <td>tt7797670</td>\n",
       "      <td>0.0</td>\n",
       "      <td>NaN</td>\n",
       "      <td>NaN</td>\n",
       "      <td>0.0</td>\n",
       "      <td>[{'id': 27, 'name': 'Horror'}]</td>\n",
       "      <td>NaN</td>\n",
       "      <td>956214.0</td>\n",
       "      <td>en</td>\n",
       "      <td>Edmund Kemper Part 2: La Mort C'est La Vie</td>\n",
       "      <td>...</td>\n",
       "      <td>0.0</td>\n",
       "      <td>91.0</td>\n",
       "      <td>[]</td>\n",
       "      <td>Released</td>\n",
       "      <td>NaN</td>\n",
       "      <td>Edmund Kemper Part 2: La Mort C'est La Vie</td>\n",
       "      <td>0.0</td>\n",
       "      <td>0.0</td>\n",
       "      <td>0.0</td>\n",
       "      <td>NaN</td>\n",
       "    </tr>\n",
       "    <tr>\n",
       "      <th>4342</th>\n",
       "      <td>tt7797790</td>\n",
       "      <td>0.0</td>\n",
       "      <td>NaN</td>\n",
       "      <td>NaN</td>\n",
       "      <td>0.0</td>\n",
       "      <td>[{'id': 27, 'name': 'Horror'}]</td>\n",
       "      <td>NaN</td>\n",
       "      <td>956219.0</td>\n",
       "      <td>en</td>\n",
       "      <td>Edmund Kemper Part 3: La mort sévit</td>\n",
       "      <td>...</td>\n",
       "      <td>0.0</td>\n",
       "      <td>72.0</td>\n",
       "      <td>[{'english_name': 'French', 'iso_639_1': 'fr',...</td>\n",
       "      <td>Released</td>\n",
       "      <td>NaN</td>\n",
       "      <td>Edmund Kemper Part 3: La mort sévit</td>\n",
       "      <td>0.0</td>\n",
       "      <td>0.0</td>\n",
       "      <td>0.0</td>\n",
       "      <td>NaN</td>\n",
       "    </tr>\n",
       "    <tr>\n",
       "      <th>4343</th>\n",
       "      <td>tt8665056</td>\n",
       "      <td>0.0</td>\n",
       "      <td>NaN</td>\n",
       "      <td>NaN</td>\n",
       "      <td>0.0</td>\n",
       "      <td>[{'id': 37, 'name': 'Western'}]</td>\n",
       "      <td>http://skeletoncreekproductions.com/p-movie-br...</td>\n",
       "      <td>885436.0</td>\n",
       "      <td>en</td>\n",
       "      <td>Guns Along The Bravo</td>\n",
       "      <td>...</td>\n",
       "      <td>0.0</td>\n",
       "      <td>85.0</td>\n",
       "      <td>[]</td>\n",
       "      <td>Released</td>\n",
       "      <td>Evil came to the Southwest until three blazing...</td>\n",
       "      <td>Guns Along The Bravo</td>\n",
       "      <td>0.0</td>\n",
       "      <td>0.0</td>\n",
       "      <td>0.0</td>\n",
       "      <td>NaN</td>\n",
       "    </tr>\n",
       "    <tr>\n",
       "      <th>4344</th>\n",
       "      <td>tt8795764</td>\n",
       "      <td>0.0</td>\n",
       "      <td>NaN</td>\n",
       "      <td>NaN</td>\n",
       "      <td>0.0</td>\n",
       "      <td>[{'id': 27, 'name': 'Horror'}]</td>\n",
       "      <td>https://www.utahwolf.com/films/coming-soon-new...</td>\n",
       "      <td>871624.0</td>\n",
       "      <td>en</td>\n",
       "      <td>New Breed</td>\n",
       "      <td>...</td>\n",
       "      <td>0.0</td>\n",
       "      <td>57.0</td>\n",
       "      <td>[{'english_name': 'English', 'iso_639_1': 'en'...</td>\n",
       "      <td>Released</td>\n",
       "      <td>NaN</td>\n",
       "      <td>New Breed</td>\n",
       "      <td>0.0</td>\n",
       "      <td>0.0</td>\n",
       "      <td>0.0</td>\n",
       "      <td>NR</td>\n",
       "    </tr>\n",
       "    <tr>\n",
       "      <th>4345</th>\n",
       "      <td>tt9071078</td>\n",
       "      <td>0.0</td>\n",
       "      <td>NaN</td>\n",
       "      <td>NaN</td>\n",
       "      <td>0.0</td>\n",
       "      <td>[{'id': 28, 'name': 'Action'}]</td>\n",
       "      <td>http://www.hkcinemagic.com/en/movie.asp?id=6627</td>\n",
       "      <td>201706.0</td>\n",
       "      <td>cn</td>\n",
       "      <td>致命密函</td>\n",
       "      <td>...</td>\n",
       "      <td>0.0</td>\n",
       "      <td>90.0</td>\n",
       "      <td>[{'english_name': 'Cantonese', 'iso_639_1': 'c...</td>\n",
       "      <td>Released</td>\n",
       "      <td>NaN</td>\n",
       "      <td>Chinese Heroes</td>\n",
       "      <td>0.0</td>\n",
       "      <td>3.0</td>\n",
       "      <td>2.0</td>\n",
       "      <td>NaN</td>\n",
       "    </tr>\n",
       "  </tbody>\n",
       "</table>\n",
       "<p>5 rows × 26 columns</p>\n",
       "</div>"
      ],
      "text/plain": [
       "        imdb_id  adult backdrop_path belongs_to_collection  budget  \\\n",
       "4341  tt7797670    0.0           NaN                   NaN     0.0   \n",
       "4342  tt7797790    0.0           NaN                   NaN     0.0   \n",
       "4343  tt8665056    0.0           NaN                   NaN     0.0   \n",
       "4344  tt8795764    0.0           NaN                   NaN     0.0   \n",
       "4345  tt9071078    0.0           NaN                   NaN     0.0   \n",
       "\n",
       "                               genres  \\\n",
       "4341   [{'id': 27, 'name': 'Horror'}]   \n",
       "4342   [{'id': 27, 'name': 'Horror'}]   \n",
       "4343  [{'id': 37, 'name': 'Western'}]   \n",
       "4344   [{'id': 27, 'name': 'Horror'}]   \n",
       "4345   [{'id': 28, 'name': 'Action'}]   \n",
       "\n",
       "                                               homepage        id  \\\n",
       "4341                                                NaN  956214.0   \n",
       "4342                                                NaN  956219.0   \n",
       "4343  http://skeletoncreekproductions.com/p-movie-br...  885436.0   \n",
       "4344  https://www.utahwolf.com/films/coming-soon-new...  871624.0   \n",
       "4345    http://www.hkcinemagic.com/en/movie.asp?id=6627  201706.0   \n",
       "\n",
       "     original_language                              original_title  ...  \\\n",
       "4341                en  Edmund Kemper Part 2: La Mort C'est La Vie  ...   \n",
       "4342                en         Edmund Kemper Part 3: La mort sévit  ...   \n",
       "4343                en                        Guns Along The Bravo  ...   \n",
       "4344                en                                   New Breed  ...   \n",
       "4345                cn                                        致命密函  ...   \n",
       "\n",
       "     revenue  runtime                                   spoken_languages  \\\n",
       "4341     0.0     91.0                                                 []   \n",
       "4342     0.0     72.0  [{'english_name': 'French', 'iso_639_1': 'fr',...   \n",
       "4343     0.0     85.0                                                 []   \n",
       "4344     0.0     57.0  [{'english_name': 'English', 'iso_639_1': 'en'...   \n",
       "4345     0.0     90.0  [{'english_name': 'Cantonese', 'iso_639_1': 'c...   \n",
       "\n",
       "        status                                            tagline  \\\n",
       "4341  Released                                                NaN   \n",
       "4342  Released                                                NaN   \n",
       "4343  Released  Evil came to the Southwest until three blazing...   \n",
       "4344  Released                                                NaN   \n",
       "4345  Released                                                NaN   \n",
       "\n",
       "                                           title  video  vote_average  \\\n",
       "4341  Edmund Kemper Part 2: La Mort C'est La Vie    0.0           0.0   \n",
       "4342         Edmund Kemper Part 3: La mort sévit    0.0           0.0   \n",
       "4343                        Guns Along The Bravo    0.0           0.0   \n",
       "4344                                   New Breed    0.0           0.0   \n",
       "4345                              Chinese Heroes    0.0           3.0   \n",
       "\n",
       "     vote_count certification  \n",
       "4341        0.0           NaN  \n",
       "4342        0.0           NaN  \n",
       "4343        0.0           NaN  \n",
       "4344        0.0            NR  \n",
       "4345        2.0           NaN  \n",
       "\n",
       "[5 rows x 26 columns]"
      ]
     },
     "execution_count": 72,
     "metadata": {},
     "output_type": "execute_result"
    }
   ],
   "source": [
    "df_2001 = pd.read_csv('Data/final_tmdb_data_2001.csv.gz')\n",
    "df_2001.tail()"
   ]
  },
  {
   "cell_type": "code",
   "execution_count": 73,
   "id": "a00ff7a4",
   "metadata": {},
   "outputs": [
    {
     "data": {
      "text/html": [
       "<div>\n",
       "<style scoped>\n",
       "    .dataframe tbody tr th:only-of-type {\n",
       "        vertical-align: middle;\n",
       "    }\n",
       "\n",
       "    .dataframe tbody tr th {\n",
       "        vertical-align: top;\n",
       "    }\n",
       "\n",
       "    .dataframe thead th {\n",
       "        text-align: right;\n",
       "    }\n",
       "</style>\n",
       "<table border=\"1\" class=\"dataframe\">\n",
       "  <thead>\n",
       "    <tr style=\"text-align: right;\">\n",
       "      <th></th>\n",
       "      <th>imdb_id</th>\n",
       "      <th>adult</th>\n",
       "      <th>backdrop_path</th>\n",
       "      <th>belongs_to_collection</th>\n",
       "      <th>budget</th>\n",
       "      <th>genres</th>\n",
       "      <th>homepage</th>\n",
       "      <th>id</th>\n",
       "      <th>original_language</th>\n",
       "      <th>original_title</th>\n",
       "      <th>...</th>\n",
       "      <th>revenue</th>\n",
       "      <th>runtime</th>\n",
       "      <th>spoken_languages</th>\n",
       "      <th>status</th>\n",
       "      <th>tagline</th>\n",
       "      <th>title</th>\n",
       "      <th>video</th>\n",
       "      <th>vote_average</th>\n",
       "      <th>vote_count</th>\n",
       "      <th>certification</th>\n",
       "    </tr>\n",
       "  </thead>\n",
       "  <tbody>\n",
       "    <tr>\n",
       "      <th>4264</th>\n",
       "      <td>tt6449044</td>\n",
       "      <td>0.0</td>\n",
       "      <td>/a9pkw8stijESGx1flSGPqcXLkHu.jpg</td>\n",
       "      <td>{'id': 957260, 'name': 'The Conman Collection'...</td>\n",
       "      <td>0.0</td>\n",
       "      <td>[{'id': 35, 'name': 'Comedy'}]</td>\n",
       "      <td>NaN</td>\n",
       "      <td>314105.0</td>\n",
       "      <td>cn</td>\n",
       "      <td>賭俠2002</td>\n",
       "      <td>...</td>\n",
       "      <td>0.0</td>\n",
       "      <td>97.0</td>\n",
       "      <td>[{'english_name': 'Cantonese', 'iso_639_1': 'c...</td>\n",
       "      <td>Released</td>\n",
       "      <td>NaN</td>\n",
       "      <td>The Conman 2002</td>\n",
       "      <td>0.0</td>\n",
       "      <td>6.0</td>\n",
       "      <td>2.0</td>\n",
       "      <td>NaN</td>\n",
       "    </tr>\n",
       "    <tr>\n",
       "      <th>4265</th>\n",
       "      <td>tt6694126</td>\n",
       "      <td>0.0</td>\n",
       "      <td>/sXjVpTZyDvwzPVZve3AmyCUBeHk.jpg</td>\n",
       "      <td>NaN</td>\n",
       "      <td>0.0</td>\n",
       "      <td>[{'id': 35, 'name': 'Comedy'}, {'id': 18, 'nam...</td>\n",
       "      <td>NaN</td>\n",
       "      <td>819174.0</td>\n",
       "      <td>fa</td>\n",
       "      <td>عروس خوش‌قدم</td>\n",
       "      <td>...</td>\n",
       "      <td>0.0</td>\n",
       "      <td>101.0</td>\n",
       "      <td>[{'english_name': 'Persian', 'iso_639_1': 'fa'...</td>\n",
       "      <td>Released</td>\n",
       "      <td>NaN</td>\n",
       "      <td>The Lucky Bride</td>\n",
       "      <td>0.0</td>\n",
       "      <td>0.0</td>\n",
       "      <td>0.0</td>\n",
       "      <td>NaN</td>\n",
       "    </tr>\n",
       "    <tr>\n",
       "      <th>4266</th>\n",
       "      <td>tt8302928</td>\n",
       "      <td>0.0</td>\n",
       "      <td>NaN</td>\n",
       "      <td>NaN</td>\n",
       "      <td>0.0</td>\n",
       "      <td>[{'id': 16, 'name': 'Animation'}, {'id': 12, '...</td>\n",
       "      <td>NaN</td>\n",
       "      <td>866533.0</td>\n",
       "      <td>el</td>\n",
       "      <td>Movie Toons: Treasure Island</td>\n",
       "      <td>...</td>\n",
       "      <td>0.0</td>\n",
       "      <td>0.0</td>\n",
       "      <td>[]</td>\n",
       "      <td>Released</td>\n",
       "      <td>NaN</td>\n",
       "      <td>Movie Toons: Treasure Island</td>\n",
       "      <td>0.0</td>\n",
       "      <td>0.0</td>\n",
       "      <td>0.0</td>\n",
       "      <td>NaN</td>\n",
       "    </tr>\n",
       "    <tr>\n",
       "      <th>4267</th>\n",
       "      <td>tt8474326</td>\n",
       "      <td>0.0</td>\n",
       "      <td>NaN</td>\n",
       "      <td>NaN</td>\n",
       "      <td>0.0</td>\n",
       "      <td>[]</td>\n",
       "      <td>NaN</td>\n",
       "      <td>292027.0</td>\n",
       "      <td>en</td>\n",
       "      <td>Skin Eating Jungle Vampires</td>\n",
       "      <td>...</td>\n",
       "      <td>0.0</td>\n",
       "      <td>0.0</td>\n",
       "      <td>[]</td>\n",
       "      <td>Released</td>\n",
       "      <td>NaN</td>\n",
       "      <td>Skin Eating Jungle Vampires</td>\n",
       "      <td>0.0</td>\n",
       "      <td>0.0</td>\n",
       "      <td>0.0</td>\n",
       "      <td>NaN</td>\n",
       "    </tr>\n",
       "    <tr>\n",
       "      <th>4268</th>\n",
       "      <td>tt8825252</td>\n",
       "      <td>0.0</td>\n",
       "      <td>NaN</td>\n",
       "      <td>NaN</td>\n",
       "      <td>0.0</td>\n",
       "      <td>[]</td>\n",
       "      <td>NaN</td>\n",
       "      <td>989195.0</td>\n",
       "      <td>en</td>\n",
       "      <td>Circle of Fire: The Dark Lord Kylnor</td>\n",
       "      <td>...</td>\n",
       "      <td>0.0</td>\n",
       "      <td>45.0</td>\n",
       "      <td>[]</td>\n",
       "      <td>Released</td>\n",
       "      <td>NaN</td>\n",
       "      <td>Circle of Fire: The Dark Lord Kylnor</td>\n",
       "      <td>0.0</td>\n",
       "      <td>0.0</td>\n",
       "      <td>0.0</td>\n",
       "      <td>NaN</td>\n",
       "    </tr>\n",
       "  </tbody>\n",
       "</table>\n",
       "<p>5 rows × 26 columns</p>\n",
       "</div>"
      ],
      "text/plain": [
       "        imdb_id  adult                     backdrop_path  \\\n",
       "4264  tt6449044    0.0  /a9pkw8stijESGx1flSGPqcXLkHu.jpg   \n",
       "4265  tt6694126    0.0  /sXjVpTZyDvwzPVZve3AmyCUBeHk.jpg   \n",
       "4266  tt8302928    0.0                               NaN   \n",
       "4267  tt8474326    0.0                               NaN   \n",
       "4268  tt8825252    0.0                               NaN   \n",
       "\n",
       "                                  belongs_to_collection  budget  \\\n",
       "4264  {'id': 957260, 'name': 'The Conman Collection'...     0.0   \n",
       "4265                                                NaN     0.0   \n",
       "4266                                                NaN     0.0   \n",
       "4267                                                NaN     0.0   \n",
       "4268                                                NaN     0.0   \n",
       "\n",
       "                                                 genres homepage        id  \\\n",
       "4264                     [{'id': 35, 'name': 'Comedy'}]      NaN  314105.0   \n",
       "4265  [{'id': 35, 'name': 'Comedy'}, {'id': 18, 'nam...      NaN  819174.0   \n",
       "4266  [{'id': 16, 'name': 'Animation'}, {'id': 12, '...      NaN  866533.0   \n",
       "4267                                                 []      NaN  292027.0   \n",
       "4268                                                 []      NaN  989195.0   \n",
       "\n",
       "     original_language                        original_title  ... revenue  \\\n",
       "4264                cn                                賭俠2002  ...     0.0   \n",
       "4265                fa                          عروس خوش‌قدم  ...     0.0   \n",
       "4266                el          Movie Toons: Treasure Island  ...     0.0   \n",
       "4267                en           Skin Eating Jungle Vampires  ...     0.0   \n",
       "4268                en  Circle of Fire: The Dark Lord Kylnor  ...     0.0   \n",
       "\n",
       "      runtime                                   spoken_languages    status  \\\n",
       "4264     97.0  [{'english_name': 'Cantonese', 'iso_639_1': 'c...  Released   \n",
       "4265    101.0  [{'english_name': 'Persian', 'iso_639_1': 'fa'...  Released   \n",
       "4266      0.0                                                 []  Released   \n",
       "4267      0.0                                                 []  Released   \n",
       "4268     45.0                                                 []  Released   \n",
       "\n",
       "     tagline                                 title  video  vote_average  \\\n",
       "4264     NaN                       The Conman 2002    0.0           6.0   \n",
       "4265     NaN                       The Lucky Bride    0.0           0.0   \n",
       "4266     NaN          Movie Toons: Treasure Island    0.0           0.0   \n",
       "4267     NaN           Skin Eating Jungle Vampires    0.0           0.0   \n",
       "4268     NaN  Circle of Fire: The Dark Lord Kylnor    0.0           0.0   \n",
       "\n",
       "     vote_count certification  \n",
       "4264        2.0           NaN  \n",
       "4265        0.0           NaN  \n",
       "4266        0.0           NaN  \n",
       "4267        0.0           NaN  \n",
       "4268        0.0           NaN  \n",
       "\n",
       "[5 rows x 26 columns]"
      ]
     },
     "execution_count": 73,
     "metadata": {},
     "output_type": "execute_result"
    }
   ],
   "source": [
    "df_2002 = pd.read_csv('Data/final_tmdb_data_2002.csv.gz')\n",
    "df_2002.tail()"
   ]
  },
  {
   "cell_type": "code",
   "execution_count": 74,
   "id": "c13bb3c8",
   "metadata": {},
   "outputs": [
    {
     "data": {
      "text/plain": [
       "Index(['tconst', 'titleType', 'primaryTitle', 'originalTitle', 'isAdult',\n",
       "       'startYear', 'endYear', 'runtimeMinutes', 'genres'],\n",
       "      dtype='object')"
      ]
     },
     "execution_count": 74,
     "metadata": {},
     "output_type": "execute_result"
    }
   ],
   "source": [
    "basics.columns"
   ]
  },
  {
   "cell_type": "code",
   "execution_count": 75,
   "id": "16358ef1",
   "metadata": {},
   "outputs": [
    {
     "name": "stdout",
     "output_type": "stream",
     "text": [
      "<class 'pandas.core.frame.DataFrame'>\n",
      "Int64Index: 8698 entries, 0 to 4345\n",
      "Data columns (total 26 columns):\n",
      " #   Column                 Non-Null Count  Dtype  \n",
      "---  ------                 --------------  -----  \n",
      " 0   imdb_id                8698 non-null   object \n",
      " 1   adult                  8696 non-null   float64\n",
      " 2   backdrop_path          7498 non-null   object \n",
      " 3   belongs_to_collection  197 non-null    object \n",
      " 4   budget                 8696 non-null   float64\n",
      " 5   genres                 8696 non-null   object \n",
      " 6   homepage               6377 non-null   object \n",
      " 7   id                     8696 non-null   float64\n",
      " 8   original_language      8696 non-null   object \n",
      " 9   original_title         8696 non-null   object \n",
      " 10  overview               8646 non-null   object \n",
      " 11  popularity             8696 non-null   float64\n",
      " 12  poster_path            8403 non-null   object \n",
      " 13  production_companies   8696 non-null   object \n",
      " 14  production_countries   8696 non-null   object \n",
      " 15  release_date           8677 non-null   object \n",
      " 16  revenue                8696 non-null   float64\n",
      " 17  runtime                8696 non-null   float64\n",
      " 18  spoken_languages       8696 non-null   object \n",
      " 19  status                 8696 non-null   object \n",
      " 20  tagline                7244 non-null   object \n",
      " 21  title                  8696 non-null   object \n",
      " 22  video                  8696 non-null   float64\n",
      " 23  vote_average           8696 non-null   float64\n",
      " 24  vote_count             8696 non-null   float64\n",
      " 25  certification          6995 non-null   object \n",
      "dtypes: float64(9), object(17)\n",
      "memory usage: 1.8+ MB\n"
     ]
    }
   ],
   "source": [
    "test_df = [df_2000, df_2001]\n",
    "df = pd.concat(test_df)\n",
    "\n",
    "df.info()"
   ]
  },
  {
   "cell_type": "code",
   "execution_count": 76,
   "id": "ad0ea3ba",
   "metadata": {},
   "outputs": [],
   "source": [
    "df.to_csv(\"Data/Two_Years_tmdb_combined_data.csv.gz\", compression=\"gzip\", index=False)"
   ]
  },
  {
   "cell_type": "code",
   "execution_count": 77,
   "id": "6895a755",
   "metadata": {},
   "outputs": [
    {
     "data": {
      "text/html": [
       "<div>\n",
       "<style scoped>\n",
       "    .dataframe tbody tr th:only-of-type {\n",
       "        vertical-align: middle;\n",
       "    }\n",
       "\n",
       "    .dataframe tbody tr th {\n",
       "        vertical-align: top;\n",
       "    }\n",
       "\n",
       "    .dataframe thead th {\n",
       "        text-align: right;\n",
       "    }\n",
       "</style>\n",
       "<table border=\"1\" class=\"dataframe\">\n",
       "  <thead>\n",
       "    <tr style=\"text-align: right;\">\n",
       "      <th></th>\n",
       "      <th>title</th>\n",
       "      <th>budget</th>\n",
       "      <th>revenue</th>\n",
       "    </tr>\n",
       "  </thead>\n",
       "  <tbody>\n",
       "    <tr>\n",
       "      <th>0</th>\n",
       "      <td>NaN</td>\n",
       "      <td>NaN</td>\n",
       "      <td>NaN</td>\n",
       "    </tr>\n",
       "    <tr>\n",
       "      <th>1</th>\n",
       "      <td>Tom &amp; Jerry</td>\n",
       "      <td>50000000.0</td>\n",
       "      <td>132000000.0</td>\n",
       "    </tr>\n",
       "    <tr>\n",
       "      <th>2</th>\n",
       "      <td>Tom &amp; Jerry</td>\n",
       "      <td>50000000.0</td>\n",
       "      <td>132000000.0</td>\n",
       "    </tr>\n",
       "    <tr>\n",
       "      <th>3</th>\n",
       "      <td>Tom &amp; Jerry</td>\n",
       "      <td>50000000.0</td>\n",
       "      <td>132000000.0</td>\n",
       "    </tr>\n",
       "    <tr>\n",
       "      <th>4</th>\n",
       "      <td>Tom &amp; Jerry</td>\n",
       "      <td>50000000.0</td>\n",
       "      <td>132000000.0</td>\n",
       "    </tr>\n",
       "  </tbody>\n",
       "</table>\n",
       "</div>"
      ],
      "text/plain": [
       "         title      budget      revenue\n",
       "0          NaN         NaN          NaN\n",
       "1  Tom & Jerry  50000000.0  132000000.0\n",
       "2  Tom & Jerry  50000000.0  132000000.0\n",
       "3  Tom & Jerry  50000000.0  132000000.0\n",
       "4  Tom & Jerry  50000000.0  132000000.0"
      ]
     },
     "execution_count": 77,
     "metadata": {},
     "output_type": "execute_result"
    }
   ],
   "source": [
    "financials = df[['title', 'budget', 'revenue']]\n",
    "financial_filter = financials.groupby(['budget', 'revenue'])\n",
    "financials.head()"
   ]
  },
  {
   "cell_type": "code",
   "execution_count": 78,
   "id": "cd077518",
   "metadata": {},
   "outputs": [],
   "source": [
    "budget_fil = df['budget'] > 0\n",
    "revenue_fil = df['revenue'] >0"
   ]
  },
  {
   "cell_type": "code",
   "execution_count": 79,
   "id": "d2f439f0",
   "metadata": {},
   "outputs": [
    {
     "data": {
      "text/html": [
       "<div>\n",
       "<style scoped>\n",
       "    .dataframe tbody tr th:only-of-type {\n",
       "        vertical-align: middle;\n",
       "    }\n",
       "\n",
       "    .dataframe tbody tr th {\n",
       "        vertical-align: top;\n",
       "    }\n",
       "\n",
       "    .dataframe thead th {\n",
       "        text-align: right;\n",
       "    }\n",
       "</style>\n",
       "<table border=\"1\" class=\"dataframe\">\n",
       "  <thead>\n",
       "    <tr style=\"text-align: right;\">\n",
       "      <th></th>\n",
       "      <th>imdb_id</th>\n",
       "      <th>adult</th>\n",
       "      <th>backdrop_path</th>\n",
       "      <th>belongs_to_collection</th>\n",
       "      <th>budget</th>\n",
       "      <th>genres</th>\n",
       "      <th>homepage</th>\n",
       "      <th>id</th>\n",
       "      <th>original_language</th>\n",
       "      <th>original_title</th>\n",
       "      <th>...</th>\n",
       "      <th>revenue</th>\n",
       "      <th>runtime</th>\n",
       "      <th>spoken_languages</th>\n",
       "      <th>status</th>\n",
       "      <th>tagline</th>\n",
       "      <th>title</th>\n",
       "      <th>video</th>\n",
       "      <th>vote_average</th>\n",
       "      <th>vote_count</th>\n",
       "      <th>certification</th>\n",
       "    </tr>\n",
       "  </thead>\n",
       "  <tbody>\n",
       "    <tr>\n",
       "      <th>1</th>\n",
       "      <td>tt1361336</td>\n",
       "      <td>0.0</td>\n",
       "      <td>/9ns9463dwOeo1CK1JU2wirL5Yi1.jpg</td>\n",
       "      <td>NaN</td>\n",
       "      <td>50000000.0</td>\n",
       "      <td>[{'id': 35, 'name': 'Comedy'}, {'id': 10751, '...</td>\n",
       "      <td>https://www.tomandjerrymovie.com</td>\n",
       "      <td>587807.0</td>\n",
       "      <td>en</td>\n",
       "      <td>Tom &amp; Jerry</td>\n",
       "      <td>...</td>\n",
       "      <td>132000000.0</td>\n",
       "      <td>101.0</td>\n",
       "      <td>[{'english_name': 'English', 'iso_639_1': 'en'...</td>\n",
       "      <td>Released</td>\n",
       "      <td>Best of enemies. Worst of friends.</td>\n",
       "      <td>Tom &amp; Jerry</td>\n",
       "      <td>0.0</td>\n",
       "      <td>6.975</td>\n",
       "      <td>2069.0</td>\n",
       "      <td>PG</td>\n",
       "    </tr>\n",
       "    <tr>\n",
       "      <th>2</th>\n",
       "      <td>tt1361336</td>\n",
       "      <td>0.0</td>\n",
       "      <td>/9ns9463dwOeo1CK1JU2wirL5Yi1.jpg</td>\n",
       "      <td>NaN</td>\n",
       "      <td>50000000.0</td>\n",
       "      <td>[{'id': 35, 'name': 'Comedy'}, {'id': 10751, '...</td>\n",
       "      <td>https://www.tomandjerrymovie.com</td>\n",
       "      <td>587807.0</td>\n",
       "      <td>en</td>\n",
       "      <td>Tom &amp; Jerry</td>\n",
       "      <td>...</td>\n",
       "      <td>132000000.0</td>\n",
       "      <td>101.0</td>\n",
       "      <td>[{'english_name': 'English', 'iso_639_1': 'en'...</td>\n",
       "      <td>Released</td>\n",
       "      <td>Best of enemies. Worst of friends.</td>\n",
       "      <td>Tom &amp; Jerry</td>\n",
       "      <td>0.0</td>\n",
       "      <td>6.975</td>\n",
       "      <td>2069.0</td>\n",
       "      <td>PG</td>\n",
       "    </tr>\n",
       "    <tr>\n",
       "      <th>3</th>\n",
       "      <td>tt1361336</td>\n",
       "      <td>0.0</td>\n",
       "      <td>/9ns9463dwOeo1CK1JU2wirL5Yi1.jpg</td>\n",
       "      <td>NaN</td>\n",
       "      <td>50000000.0</td>\n",
       "      <td>[{'id': 35, 'name': 'Comedy'}, {'id': 10751, '...</td>\n",
       "      <td>https://www.tomandjerrymovie.com</td>\n",
       "      <td>587807.0</td>\n",
       "      <td>en</td>\n",
       "      <td>Tom &amp; Jerry</td>\n",
       "      <td>...</td>\n",
       "      <td>132000000.0</td>\n",
       "      <td>101.0</td>\n",
       "      <td>[{'english_name': 'English', 'iso_639_1': 'en'...</td>\n",
       "      <td>Released</td>\n",
       "      <td>Best of enemies. Worst of friends.</td>\n",
       "      <td>Tom &amp; Jerry</td>\n",
       "      <td>0.0</td>\n",
       "      <td>6.975</td>\n",
       "      <td>2069.0</td>\n",
       "      <td>PG</td>\n",
       "    </tr>\n",
       "    <tr>\n",
       "      <th>4</th>\n",
       "      <td>tt1361336</td>\n",
       "      <td>0.0</td>\n",
       "      <td>/9ns9463dwOeo1CK1JU2wirL5Yi1.jpg</td>\n",
       "      <td>NaN</td>\n",
       "      <td>50000000.0</td>\n",
       "      <td>[{'id': 35, 'name': 'Comedy'}, {'id': 10751, '...</td>\n",
       "      <td>https://www.tomandjerrymovie.com</td>\n",
       "      <td>587807.0</td>\n",
       "      <td>en</td>\n",
       "      <td>Tom &amp; Jerry</td>\n",
       "      <td>...</td>\n",
       "      <td>132000000.0</td>\n",
       "      <td>101.0</td>\n",
       "      <td>[{'english_name': 'English', 'iso_639_1': 'en'...</td>\n",
       "      <td>Released</td>\n",
       "      <td>Best of enemies. Worst of friends.</td>\n",
       "      <td>Tom &amp; Jerry</td>\n",
       "      <td>0.0</td>\n",
       "      <td>6.975</td>\n",
       "      <td>2069.0</td>\n",
       "      <td>PG</td>\n",
       "    </tr>\n",
       "    <tr>\n",
       "      <th>5</th>\n",
       "      <td>tt1361336</td>\n",
       "      <td>0.0</td>\n",
       "      <td>/9ns9463dwOeo1CK1JU2wirL5Yi1.jpg</td>\n",
       "      <td>NaN</td>\n",
       "      <td>50000000.0</td>\n",
       "      <td>[{'id': 35, 'name': 'Comedy'}, {'id': 10751, '...</td>\n",
       "      <td>https://www.tomandjerrymovie.com</td>\n",
       "      <td>587807.0</td>\n",
       "      <td>en</td>\n",
       "      <td>Tom &amp; Jerry</td>\n",
       "      <td>...</td>\n",
       "      <td>132000000.0</td>\n",
       "      <td>101.0</td>\n",
       "      <td>[{'english_name': 'English', 'iso_639_1': 'en'...</td>\n",
       "      <td>Released</td>\n",
       "      <td>Best of enemies. Worst of friends.</td>\n",
       "      <td>Tom &amp; Jerry</td>\n",
       "      <td>0.0</td>\n",
       "      <td>6.975</td>\n",
       "      <td>2069.0</td>\n",
       "      <td>PG</td>\n",
       "    </tr>\n",
       "    <tr>\n",
       "      <th>...</th>\n",
       "      <td>...</td>\n",
       "      <td>...</td>\n",
       "      <td>...</td>\n",
       "      <td>...</td>\n",
       "      <td>...</td>\n",
       "      <td>...</td>\n",
       "      <td>...</td>\n",
       "      <td>...</td>\n",
       "      <td>...</td>\n",
       "      <td>...</td>\n",
       "      <td>...</td>\n",
       "      <td>...</td>\n",
       "      <td>...</td>\n",
       "      <td>...</td>\n",
       "      <td>...</td>\n",
       "      <td>...</td>\n",
       "      <td>...</td>\n",
       "      <td>...</td>\n",
       "      <td>...</td>\n",
       "      <td>...</td>\n",
       "      <td>...</td>\n",
       "    </tr>\n",
       "    <tr>\n",
       "      <th>4285</th>\n",
       "      <td>tt0445841</td>\n",
       "      <td>0.0</td>\n",
       "      <td>NaN</td>\n",
       "      <td>NaN</td>\n",
       "      <td>12500000.0</td>\n",
       "      <td>[{'id': 35, 'name': 'Comedy'}, {'id': 18, 'nam...</td>\n",
       "      <td>NaN</td>\n",
       "      <td>233308.0</td>\n",
       "      <td>zh</td>\n",
       "      <td>一个烂赌的传说</td>\n",
       "      <td>...</td>\n",
       "      <td>123021750.0</td>\n",
       "      <td>94.0</td>\n",
       "      <td>[{'english_name': 'Cantonese', 'iso_639_1': 'c...</td>\n",
       "      <td>Released</td>\n",
       "      <td>NaN</td>\n",
       "      <td>A Gambler's Story</td>\n",
       "      <td>0.0</td>\n",
       "      <td>6.800</td>\n",
       "      <td>3.0</td>\n",
       "      <td>NaN</td>\n",
       "    </tr>\n",
       "    <tr>\n",
       "      <th>4301</th>\n",
       "      <td>tt0867181</td>\n",
       "      <td>0.0</td>\n",
       "      <td>NaN</td>\n",
       "      <td>NaN</td>\n",
       "      <td>5000.0</td>\n",
       "      <td>[{'id': 53, 'name': 'Thriller'}]</td>\n",
       "      <td>NaN</td>\n",
       "      <td>749151.0</td>\n",
       "      <td>en</td>\n",
       "      <td>Patient</td>\n",
       "      <td>...</td>\n",
       "      <td>0.0</td>\n",
       "      <td>88.0</td>\n",
       "      <td>[{'english_name': 'English', 'iso_639_1': 'en'...</td>\n",
       "      <td>Released</td>\n",
       "      <td>Only a miracle can save Sean now</td>\n",
       "      <td>Patient</td>\n",
       "      <td>0.0</td>\n",
       "      <td>0.000</td>\n",
       "      <td>0.0</td>\n",
       "      <td>NaN</td>\n",
       "    </tr>\n",
       "    <tr>\n",
       "      <th>4303</th>\n",
       "      <td>tt1039952</td>\n",
       "      <td>0.0</td>\n",
       "      <td>/yTGmGjAd0gfpVK0ezoqWgx7AJkp.jpg</td>\n",
       "      <td>NaN</td>\n",
       "      <td>500000.0</td>\n",
       "      <td>[{'id': 18, 'name': 'Drama'}, {'id': 28, 'name...</td>\n",
       "      <td>NaN</td>\n",
       "      <td>69399.0</td>\n",
       "      <td>ta</td>\n",
       "      <td>சிட்டிசன்</td>\n",
       "      <td>...</td>\n",
       "      <td>500000.0</td>\n",
       "      <td>157.0</td>\n",
       "      <td>[{'english_name': 'Tamil', 'iso_639_1': 'ta', ...</td>\n",
       "      <td>Released</td>\n",
       "      <td>NaN</td>\n",
       "      <td>Citizen</td>\n",
       "      <td>0.0</td>\n",
       "      <td>6.500</td>\n",
       "      <td>12.0</td>\n",
       "      <td>NaN</td>\n",
       "    </tr>\n",
       "    <tr>\n",
       "      <th>4315</th>\n",
       "      <td>tt1764172</td>\n",
       "      <td>0.0</td>\n",
       "      <td>NaN</td>\n",
       "      <td>NaN</td>\n",
       "      <td>250000.0</td>\n",
       "      <td>[{'id': 53, 'name': 'Thriller'}]</td>\n",
       "      <td>NaN</td>\n",
       "      <td>228977.0</td>\n",
       "      <td>en</td>\n",
       "      <td>Among Thieves</td>\n",
       "      <td>...</td>\n",
       "      <td>0.0</td>\n",
       "      <td>0.0</td>\n",
       "      <td>[{'english_name': 'English', 'iso_639_1': 'en'...</td>\n",
       "      <td>Released</td>\n",
       "      <td>NaN</td>\n",
       "      <td>Among Thieves</td>\n",
       "      <td>0.0</td>\n",
       "      <td>0.000</td>\n",
       "      <td>0.0</td>\n",
       "      <td>NaN</td>\n",
       "    </tr>\n",
       "    <tr>\n",
       "      <th>4326</th>\n",
       "      <td>tt2957918</td>\n",
       "      <td>0.0</td>\n",
       "      <td>NaN</td>\n",
       "      <td>NaN</td>\n",
       "      <td>2000.0</td>\n",
       "      <td>[{'id': 35, 'name': 'Comedy'}]</td>\n",
       "      <td>NaN</td>\n",
       "      <td>602589.0</td>\n",
       "      <td>en</td>\n",
       "      <td>Toaster</td>\n",
       "      <td>...</td>\n",
       "      <td>0.0</td>\n",
       "      <td>85.0</td>\n",
       "      <td>[{'english_name': 'English', 'iso_639_1': 'en'...</td>\n",
       "      <td>Released</td>\n",
       "      <td>Now is not the time for toast.</td>\n",
       "      <td>Toaster</td>\n",
       "      <td>0.0</td>\n",
       "      <td>0.000</td>\n",
       "      <td>0.0</td>\n",
       "      <td>NaN</td>\n",
       "    </tr>\n",
       "  </tbody>\n",
       "</table>\n",
       "<p>6825 rows × 26 columns</p>\n",
       "</div>"
      ],
      "text/plain": [
       "        imdb_id  adult                     backdrop_path  \\\n",
       "1     tt1361336    0.0  /9ns9463dwOeo1CK1JU2wirL5Yi1.jpg   \n",
       "2     tt1361336    0.0  /9ns9463dwOeo1CK1JU2wirL5Yi1.jpg   \n",
       "3     tt1361336    0.0  /9ns9463dwOeo1CK1JU2wirL5Yi1.jpg   \n",
       "4     tt1361336    0.0  /9ns9463dwOeo1CK1JU2wirL5Yi1.jpg   \n",
       "5     tt1361336    0.0  /9ns9463dwOeo1CK1JU2wirL5Yi1.jpg   \n",
       "...         ...    ...                               ...   \n",
       "4285  tt0445841    0.0                               NaN   \n",
       "4301  tt0867181    0.0                               NaN   \n",
       "4303  tt1039952    0.0  /yTGmGjAd0gfpVK0ezoqWgx7AJkp.jpg   \n",
       "4315  tt1764172    0.0                               NaN   \n",
       "4326  tt2957918    0.0                               NaN   \n",
       "\n",
       "     belongs_to_collection      budget  \\\n",
       "1                      NaN  50000000.0   \n",
       "2                      NaN  50000000.0   \n",
       "3                      NaN  50000000.0   \n",
       "4                      NaN  50000000.0   \n",
       "5                      NaN  50000000.0   \n",
       "...                    ...         ...   \n",
       "4285                   NaN  12500000.0   \n",
       "4301                   NaN      5000.0   \n",
       "4303                   NaN    500000.0   \n",
       "4315                   NaN    250000.0   \n",
       "4326                   NaN      2000.0   \n",
       "\n",
       "                                                 genres  \\\n",
       "1     [{'id': 35, 'name': 'Comedy'}, {'id': 10751, '...   \n",
       "2     [{'id': 35, 'name': 'Comedy'}, {'id': 10751, '...   \n",
       "3     [{'id': 35, 'name': 'Comedy'}, {'id': 10751, '...   \n",
       "4     [{'id': 35, 'name': 'Comedy'}, {'id': 10751, '...   \n",
       "5     [{'id': 35, 'name': 'Comedy'}, {'id': 10751, '...   \n",
       "...                                                 ...   \n",
       "4285  [{'id': 35, 'name': 'Comedy'}, {'id': 18, 'nam...   \n",
       "4301                   [{'id': 53, 'name': 'Thriller'}]   \n",
       "4303  [{'id': 18, 'name': 'Drama'}, {'id': 28, 'name...   \n",
       "4315                   [{'id': 53, 'name': 'Thriller'}]   \n",
       "4326                     [{'id': 35, 'name': 'Comedy'}]   \n",
       "\n",
       "                              homepage        id original_language  \\\n",
       "1     https://www.tomandjerrymovie.com  587807.0                en   \n",
       "2     https://www.tomandjerrymovie.com  587807.0                en   \n",
       "3     https://www.tomandjerrymovie.com  587807.0                en   \n",
       "4     https://www.tomandjerrymovie.com  587807.0                en   \n",
       "5     https://www.tomandjerrymovie.com  587807.0                en   \n",
       "...                                ...       ...               ...   \n",
       "4285                               NaN  233308.0                zh   \n",
       "4301                               NaN  749151.0                en   \n",
       "4303                               NaN   69399.0                ta   \n",
       "4315                               NaN  228977.0                en   \n",
       "4326                               NaN  602589.0                en   \n",
       "\n",
       "     original_title  ...      revenue  runtime  \\\n",
       "1       Tom & Jerry  ...  132000000.0    101.0   \n",
       "2       Tom & Jerry  ...  132000000.0    101.0   \n",
       "3       Tom & Jerry  ...  132000000.0    101.0   \n",
       "4       Tom & Jerry  ...  132000000.0    101.0   \n",
       "5       Tom & Jerry  ...  132000000.0    101.0   \n",
       "...             ...  ...          ...      ...   \n",
       "4285        一个烂赌的传说  ...  123021750.0     94.0   \n",
       "4301        Patient  ...          0.0     88.0   \n",
       "4303      சிட்டிசன்  ...     500000.0    157.0   \n",
       "4315  Among Thieves  ...          0.0      0.0   \n",
       "4326        Toaster  ...          0.0     85.0   \n",
       "\n",
       "                                       spoken_languages    status  \\\n",
       "1     [{'english_name': 'English', 'iso_639_1': 'en'...  Released   \n",
       "2     [{'english_name': 'English', 'iso_639_1': 'en'...  Released   \n",
       "3     [{'english_name': 'English', 'iso_639_1': 'en'...  Released   \n",
       "4     [{'english_name': 'English', 'iso_639_1': 'en'...  Released   \n",
       "5     [{'english_name': 'English', 'iso_639_1': 'en'...  Released   \n",
       "...                                                 ...       ...   \n",
       "4285  [{'english_name': 'Cantonese', 'iso_639_1': 'c...  Released   \n",
       "4301  [{'english_name': 'English', 'iso_639_1': 'en'...  Released   \n",
       "4303  [{'english_name': 'Tamil', 'iso_639_1': 'ta', ...  Released   \n",
       "4315  [{'english_name': 'English', 'iso_639_1': 'en'...  Released   \n",
       "4326  [{'english_name': 'English', 'iso_639_1': 'en'...  Released   \n",
       "\n",
       "                                 tagline              title  video  \\\n",
       "1     Best of enemies. Worst of friends.        Tom & Jerry    0.0   \n",
       "2     Best of enemies. Worst of friends.        Tom & Jerry    0.0   \n",
       "3     Best of enemies. Worst of friends.        Tom & Jerry    0.0   \n",
       "4     Best of enemies. Worst of friends.        Tom & Jerry    0.0   \n",
       "5     Best of enemies. Worst of friends.        Tom & Jerry    0.0   \n",
       "...                                  ...                ...    ...   \n",
       "4285                                 NaN  A Gambler's Story    0.0   \n",
       "4301    Only a miracle can save Sean now            Patient    0.0   \n",
       "4303                                 NaN            Citizen    0.0   \n",
       "4315                                 NaN      Among Thieves    0.0   \n",
       "4326      Now is not the time for toast.            Toaster    0.0   \n",
       "\n",
       "      vote_average vote_count certification  \n",
       "1            6.975     2069.0            PG  \n",
       "2            6.975     2069.0            PG  \n",
       "3            6.975     2069.0            PG  \n",
       "4            6.975     2069.0            PG  \n",
       "5            6.975     2069.0            PG  \n",
       "...            ...        ...           ...  \n",
       "4285         6.800        3.0           NaN  \n",
       "4301         0.000        0.0           NaN  \n",
       "4303         6.500       12.0           NaN  \n",
       "4315         0.000        0.0           NaN  \n",
       "4326         0.000        0.0           NaN  \n",
       "\n",
       "[6825 rows x 26 columns]"
      ]
     },
     "execution_count": 79,
     "metadata": {},
     "output_type": "execute_result"
    }
   ],
   "source": [
    "financials= df.loc[budget_fil | revenue_fil, :]\n",
    "financials"
   ]
  },
  {
   "cell_type": "code",
   "execution_count": 80,
   "id": "1a5a7838",
   "metadata": {},
   "outputs": [
    {
     "name": "stdout",
     "output_type": "stream",
     "text": [
      "<class 'pandas.core.frame.DataFrame'>\n",
      "Int64Index: 6825 entries, 1 to 4326\n",
      "Data columns (total 26 columns):\n",
      " #   Column                 Non-Null Count  Dtype  \n",
      "---  ------                 --------------  -----  \n",
      " 0   imdb_id                6825 non-null   object \n",
      " 1   adult                  6825 non-null   float64\n",
      " 2   backdrop_path          6724 non-null   object \n",
      " 3   belongs_to_collection  102 non-null    object \n",
      " 4   budget                 6825 non-null   float64\n",
      " 5   genres                 6825 non-null   object \n",
      " 6   homepage               6283 non-null   object \n",
      " 7   id                     6825 non-null   float64\n",
      " 8   original_language      6825 non-null   object \n",
      " 9   original_title         6825 non-null   object \n",
      " 10  overview               6822 non-null   object \n",
      " 11  popularity             6825 non-null   float64\n",
      " 12  poster_path            6804 non-null   object \n",
      " 13  production_companies   6825 non-null   object \n",
      " 14  production_countries   6825 non-null   object \n",
      " 15  release_date           6825 non-null   object \n",
      " 16  revenue                6825 non-null   float64\n",
      " 17  runtime                6825 non-null   float64\n",
      " 18  spoken_languages       6825 non-null   object \n",
      " 19  status                 6825 non-null   object \n",
      " 20  tagline                6681 non-null   object \n",
      " 21  title                  6825 non-null   object \n",
      " 22  video                  6825 non-null   float64\n",
      " 23  vote_average           6825 non-null   float64\n",
      " 24  vote_count             6825 non-null   float64\n",
      " 25  certification          6627 non-null   object \n",
      "dtypes: float64(9), object(17)\n",
      "memory usage: 1.4+ MB\n"
     ]
    }
   ],
   "source": [
    "financials.info()"
   ]
  },
  {
   "cell_type": "code",
   "execution_count": 82,
   "id": "fff6fa4c",
   "metadata": {},
   "outputs": [],
   "source": [
    "budget_filter = financials['budget'] > 0\n",
    "revenue_filter = financials['revenue'] >0"
   ]
  },
  {
   "cell_type": "code",
   "execution_count": 84,
   "id": "22aafbdb",
   "metadata": {},
   "outputs": [
    {
     "data": {
      "text/html": [
       "<div>\n",
       "<style scoped>\n",
       "    .dataframe tbody tr th:only-of-type {\n",
       "        vertical-align: middle;\n",
       "    }\n",
       "\n",
       "    .dataframe tbody tr th {\n",
       "        vertical-align: top;\n",
       "    }\n",
       "\n",
       "    .dataframe thead th {\n",
       "        text-align: right;\n",
       "    }\n",
       "</style>\n",
       "<table border=\"1\" class=\"dataframe\">\n",
       "  <thead>\n",
       "    <tr style=\"text-align: right;\">\n",
       "      <th></th>\n",
       "      <th>imdb_id</th>\n",
       "      <th>adult</th>\n",
       "      <th>backdrop_path</th>\n",
       "      <th>belongs_to_collection</th>\n",
       "      <th>budget</th>\n",
       "      <th>genres</th>\n",
       "      <th>homepage</th>\n",
       "      <th>id</th>\n",
       "      <th>original_language</th>\n",
       "      <th>original_title</th>\n",
       "      <th>...</th>\n",
       "      <th>revenue</th>\n",
       "      <th>runtime</th>\n",
       "      <th>spoken_languages</th>\n",
       "      <th>status</th>\n",
       "      <th>tagline</th>\n",
       "      <th>title</th>\n",
       "      <th>video</th>\n",
       "      <th>vote_average</th>\n",
       "      <th>vote_count</th>\n",
       "      <th>certification</th>\n",
       "    </tr>\n",
       "  </thead>\n",
       "  <tbody>\n",
       "    <tr>\n",
       "      <th>1</th>\n",
       "      <td>tt1361336</td>\n",
       "      <td>0.0</td>\n",
       "      <td>/9ns9463dwOeo1CK1JU2wirL5Yi1.jpg</td>\n",
       "      <td>NaN</td>\n",
       "      <td>50000000.0</td>\n",
       "      <td>[{'id': 35, 'name': 'Comedy'}, {'id': 10751, '...</td>\n",
       "      <td>https://www.tomandjerrymovie.com</td>\n",
       "      <td>587807.0</td>\n",
       "      <td>en</td>\n",
       "      <td>Tom &amp; Jerry</td>\n",
       "      <td>...</td>\n",
       "      <td>132000000.0</td>\n",
       "      <td>101.0</td>\n",
       "      <td>[{'english_name': 'English', 'iso_639_1': 'en'...</td>\n",
       "      <td>Released</td>\n",
       "      <td>Best of enemies. Worst of friends.</td>\n",
       "      <td>Tom &amp; Jerry</td>\n",
       "      <td>0.0</td>\n",
       "      <td>6.975</td>\n",
       "      <td>2069.0</td>\n",
       "      <td>PG</td>\n",
       "    </tr>\n",
       "    <tr>\n",
       "      <th>2</th>\n",
       "      <td>tt1361336</td>\n",
       "      <td>0.0</td>\n",
       "      <td>/9ns9463dwOeo1CK1JU2wirL5Yi1.jpg</td>\n",
       "      <td>NaN</td>\n",
       "      <td>50000000.0</td>\n",
       "      <td>[{'id': 35, 'name': 'Comedy'}, {'id': 10751, '...</td>\n",
       "      <td>https://www.tomandjerrymovie.com</td>\n",
       "      <td>587807.0</td>\n",
       "      <td>en</td>\n",
       "      <td>Tom &amp; Jerry</td>\n",
       "      <td>...</td>\n",
       "      <td>132000000.0</td>\n",
       "      <td>101.0</td>\n",
       "      <td>[{'english_name': 'English', 'iso_639_1': 'en'...</td>\n",
       "      <td>Released</td>\n",
       "      <td>Best of enemies. Worst of friends.</td>\n",
       "      <td>Tom &amp; Jerry</td>\n",
       "      <td>0.0</td>\n",
       "      <td>6.975</td>\n",
       "      <td>2069.0</td>\n",
       "      <td>PG</td>\n",
       "    </tr>\n",
       "    <tr>\n",
       "      <th>3</th>\n",
       "      <td>tt1361336</td>\n",
       "      <td>0.0</td>\n",
       "      <td>/9ns9463dwOeo1CK1JU2wirL5Yi1.jpg</td>\n",
       "      <td>NaN</td>\n",
       "      <td>50000000.0</td>\n",
       "      <td>[{'id': 35, 'name': 'Comedy'}, {'id': 10751, '...</td>\n",
       "      <td>https://www.tomandjerrymovie.com</td>\n",
       "      <td>587807.0</td>\n",
       "      <td>en</td>\n",
       "      <td>Tom &amp; Jerry</td>\n",
       "      <td>...</td>\n",
       "      <td>132000000.0</td>\n",
       "      <td>101.0</td>\n",
       "      <td>[{'english_name': 'English', 'iso_639_1': 'en'...</td>\n",
       "      <td>Released</td>\n",
       "      <td>Best of enemies. Worst of friends.</td>\n",
       "      <td>Tom &amp; Jerry</td>\n",
       "      <td>0.0</td>\n",
       "      <td>6.975</td>\n",
       "      <td>2069.0</td>\n",
       "      <td>PG</td>\n",
       "    </tr>\n",
       "    <tr>\n",
       "      <th>4</th>\n",
       "      <td>tt1361336</td>\n",
       "      <td>0.0</td>\n",
       "      <td>/9ns9463dwOeo1CK1JU2wirL5Yi1.jpg</td>\n",
       "      <td>NaN</td>\n",
       "      <td>50000000.0</td>\n",
       "      <td>[{'id': 35, 'name': 'Comedy'}, {'id': 10751, '...</td>\n",
       "      <td>https://www.tomandjerrymovie.com</td>\n",
       "      <td>587807.0</td>\n",
       "      <td>en</td>\n",
       "      <td>Tom &amp; Jerry</td>\n",
       "      <td>...</td>\n",
       "      <td>132000000.0</td>\n",
       "      <td>101.0</td>\n",
       "      <td>[{'english_name': 'English', 'iso_639_1': 'en'...</td>\n",
       "      <td>Released</td>\n",
       "      <td>Best of enemies. Worst of friends.</td>\n",
       "      <td>Tom &amp; Jerry</td>\n",
       "      <td>0.0</td>\n",
       "      <td>6.975</td>\n",
       "      <td>2069.0</td>\n",
       "      <td>PG</td>\n",
       "    </tr>\n",
       "    <tr>\n",
       "      <th>5</th>\n",
       "      <td>tt1361336</td>\n",
       "      <td>0.0</td>\n",
       "      <td>/9ns9463dwOeo1CK1JU2wirL5Yi1.jpg</td>\n",
       "      <td>NaN</td>\n",
       "      <td>50000000.0</td>\n",
       "      <td>[{'id': 35, 'name': 'Comedy'}, {'id': 10751, '...</td>\n",
       "      <td>https://www.tomandjerrymovie.com</td>\n",
       "      <td>587807.0</td>\n",
       "      <td>en</td>\n",
       "      <td>Tom &amp; Jerry</td>\n",
       "      <td>...</td>\n",
       "      <td>132000000.0</td>\n",
       "      <td>101.0</td>\n",
       "      <td>[{'english_name': 'English', 'iso_639_1': 'en'...</td>\n",
       "      <td>Released</td>\n",
       "      <td>Best of enemies. Worst of friends.</td>\n",
       "      <td>Tom &amp; Jerry</td>\n",
       "      <td>0.0</td>\n",
       "      <td>6.975</td>\n",
       "      <td>2069.0</td>\n",
       "      <td>PG</td>\n",
       "    </tr>\n",
       "  </tbody>\n",
       "</table>\n",
       "<p>5 rows × 26 columns</p>\n",
       "</div>"
      ],
      "text/plain": [
       "     imdb_id  adult                     backdrop_path belongs_to_collection  \\\n",
       "1  tt1361336    0.0  /9ns9463dwOeo1CK1JU2wirL5Yi1.jpg                   NaN   \n",
       "2  tt1361336    0.0  /9ns9463dwOeo1CK1JU2wirL5Yi1.jpg                   NaN   \n",
       "3  tt1361336    0.0  /9ns9463dwOeo1CK1JU2wirL5Yi1.jpg                   NaN   \n",
       "4  tt1361336    0.0  /9ns9463dwOeo1CK1JU2wirL5Yi1.jpg                   NaN   \n",
       "5  tt1361336    0.0  /9ns9463dwOeo1CK1JU2wirL5Yi1.jpg                   NaN   \n",
       "\n",
       "       budget                                             genres  \\\n",
       "1  50000000.0  [{'id': 35, 'name': 'Comedy'}, {'id': 10751, '...   \n",
       "2  50000000.0  [{'id': 35, 'name': 'Comedy'}, {'id': 10751, '...   \n",
       "3  50000000.0  [{'id': 35, 'name': 'Comedy'}, {'id': 10751, '...   \n",
       "4  50000000.0  [{'id': 35, 'name': 'Comedy'}, {'id': 10751, '...   \n",
       "5  50000000.0  [{'id': 35, 'name': 'Comedy'}, {'id': 10751, '...   \n",
       "\n",
       "                           homepage        id original_language  \\\n",
       "1  https://www.tomandjerrymovie.com  587807.0                en   \n",
       "2  https://www.tomandjerrymovie.com  587807.0                en   \n",
       "3  https://www.tomandjerrymovie.com  587807.0                en   \n",
       "4  https://www.tomandjerrymovie.com  587807.0                en   \n",
       "5  https://www.tomandjerrymovie.com  587807.0                en   \n",
       "\n",
       "  original_title  ...      revenue  runtime  \\\n",
       "1    Tom & Jerry  ...  132000000.0    101.0   \n",
       "2    Tom & Jerry  ...  132000000.0    101.0   \n",
       "3    Tom & Jerry  ...  132000000.0    101.0   \n",
       "4    Tom & Jerry  ...  132000000.0    101.0   \n",
       "5    Tom & Jerry  ...  132000000.0    101.0   \n",
       "\n",
       "                                    spoken_languages    status  \\\n",
       "1  [{'english_name': 'English', 'iso_639_1': 'en'...  Released   \n",
       "2  [{'english_name': 'English', 'iso_639_1': 'en'...  Released   \n",
       "3  [{'english_name': 'English', 'iso_639_1': 'en'...  Released   \n",
       "4  [{'english_name': 'English', 'iso_639_1': 'en'...  Released   \n",
       "5  [{'english_name': 'English', 'iso_639_1': 'en'...  Released   \n",
       "\n",
       "                              tagline        title  video  vote_average  \\\n",
       "1  Best of enemies. Worst of friends.  Tom & Jerry    0.0         6.975   \n",
       "2  Best of enemies. Worst of friends.  Tom & Jerry    0.0         6.975   \n",
       "3  Best of enemies. Worst of friends.  Tom & Jerry    0.0         6.975   \n",
       "4  Best of enemies. Worst of friends.  Tom & Jerry    0.0         6.975   \n",
       "5  Best of enemies. Worst of friends.  Tom & Jerry    0.0         6.975   \n",
       "\n",
       "  vote_count certification  \n",
       "1     2069.0            PG  \n",
       "2     2069.0            PG  \n",
       "3     2069.0            PG  \n",
       "4     2069.0            PG  \n",
       "5     2069.0            PG  \n",
       "\n",
       "[5 rows x 26 columns]"
      ]
     },
     "execution_count": 84,
     "metadata": {},
     "output_type": "execute_result"
    }
   ],
   "source": [
    "financials = financials.loc[budget_filter | revenue_filter, :]\n",
    "financials.head()"
   ]
  },
  {
   "cell_type": "code",
   "execution_count": 86,
   "id": "30c224c2",
   "metadata": {},
   "outputs": [
    {
     "name": "stdout",
     "output_type": "stream",
     "text": [
      "<class 'pandas.core.frame.DataFrame'>\n",
      "Int64Index: 6825 entries, 1 to 4326\n",
      "Data columns (total 26 columns):\n",
      " #   Column                 Non-Null Count  Dtype  \n",
      "---  ------                 --------------  -----  \n",
      " 0   imdb_id                6825 non-null   object \n",
      " 1   adult                  6825 non-null   float64\n",
      " 2   backdrop_path          6724 non-null   object \n",
      " 3   belongs_to_collection  102 non-null    object \n",
      " 4   budget                 6825 non-null   float64\n",
      " 5   genres                 6825 non-null   object \n",
      " 6   homepage               6283 non-null   object \n",
      " 7   id                     6825 non-null   float64\n",
      " 8   original_language      6825 non-null   object \n",
      " 9   original_title         6825 non-null   object \n",
      " 10  overview               6822 non-null   object \n",
      " 11  popularity             6825 non-null   float64\n",
      " 12  poster_path            6804 non-null   object \n",
      " 13  production_companies   6825 non-null   object \n",
      " 14  production_countries   6825 non-null   object \n",
      " 15  release_date           6825 non-null   object \n",
      " 16  revenue                6825 non-null   float64\n",
      " 17  runtime                6825 non-null   float64\n",
      " 18  spoken_languages       6825 non-null   object \n",
      " 19  status                 6825 non-null   object \n",
      " 20  tagline                6681 non-null   object \n",
      " 21  title                  6825 non-null   object \n",
      " 22  video                  6825 non-null   float64\n",
      " 23  vote_average           6825 non-null   float64\n",
      " 24  vote_count             6825 non-null   float64\n",
      " 25  certification          6627 non-null   object \n",
      "dtypes: float64(9), object(17)\n",
      "memory usage: 1.4+ MB\n"
     ]
    }
   ],
   "source": [
    "financials.info()"
   ]
  },
  {
   "cell_type": "code",
   "execution_count": 90,
   "id": "fa838a24",
   "metadata": {},
   "outputs": [
    {
     "data": {
      "text/plain": [
       "Text(0, 0.5, 'Count')"
      ]
     },
     "execution_count": 90,
     "metadata": {},
     "output_type": "execute_result"
    },
    {
     "data": {
      "image/png": "[encoded data removed]",
      "text/plain": [
       "<Figure size 640x480 with 1 Axes>"
      ]
     },
     "metadata": {},
     "output_type": "display_data"
    }
   ],
   "source": [
    "fig, ax = plt.subplots()\n",
    "financials['certification'].hist(bins = 5)\n",
    "ax.set_xlabel(\"Rating\")\n",
    "ax.set_ylabel(\"Count\")"
   ]
  },
  {
   "cell_type": "code",
   "execution_count": 94,
   "id": "5fbe550a",
   "metadata": {},
   "outputs": [
    {
     "data": {
      "text/plain": [
       "Text(0, 0.5, 'Count')"
      ]
     },
     "execution_count": 94,
     "metadata": {},
     "output_type": "execute_result"
    },
    {
     "data": {
      "image/png": "[encoded data removed]",
      "text/plain": [
       "<Figure size 640x480 with 1 Axes>"
      ]
     },
     "metadata": {},
     "output_type": "display_data"
    }
   ],
   "source": [
    "fig, ax = plt.subplots()\n",
    "financials['budget'].hist()\n",
    "financials['revenue'].hist()\n",
    "ax.set_xlabel(\"Amount budget or revenue in $\")\n",
    "ax.set_ylabel(\"Count\")"
   ]
  },
  {
   "cell_type": "markdown",
   "id": "760cf579",
   "metadata": {},
   "source": [
    "### Rated G"
   ]
  },
  {
   "cell_type": "code",
   "execution_count": 95,
   "id": "4a0c96c7",
   "metadata": {},
   "outputs": [
    {
     "name": "stdout",
     "output_type": "stream",
     "text": [
      "123708547.42857143\n",
      "40857142.85714286\n"
     ]
    }
   ],
   "source": [
    "financials_G = financials['certification'] == 'G'\n",
    "\n",
    "\n",
    "new_df1 = financials.loc[financials_G]\n",
    "\n",
    "avg_rev = new_df1['revenue'].mean()\n",
    "\n",
    "print(avg_rev)\n",
    "\n",
    "avg_budget = new_df1['budget'].mean()\n",
    "\n",
    "print(avg_budget)"
   ]
  },
  {
   "cell_type": "markdown",
   "id": "41b69c20",
   "metadata": {},
   "source": [
    "### Rated PG"
   ]
  },
  {
   "cell_type": "code",
   "execution_count": 96,
   "id": "350a6503",
   "metadata": {},
   "outputs": [
    {
     "name": "stdout",
     "output_type": "stream",
     "text": [
      "131889680.11814684\n",
      "49971825.90718179\n"
     ]
    }
   ],
   "source": [
    "financials_PG = financials['certification'] == 'PG'\n",
    "\n",
    "\n",
    "new_df2 = financials.loc[financials_PG]\n",
    "\n",
    "avg_rev = new_df2['revenue'].mean()\n",
    "\n",
    "print(avg_rev)\n",
    "\n",
    "avg_budget = new_df2['budget'].mean()\n",
    "\n",
    "print(avg_budget)"
   ]
  },
  {
   "cell_type": "markdown",
   "id": "c2edb9d4",
   "metadata": {},
   "source": [
    "### Rated PG_13"
   ]
  },
  {
   "cell_type": "code",
   "execution_count": 98,
   "id": "353927e2",
   "metadata": {},
   "outputs": [
    {
     "name": "stdout",
     "output_type": "stream",
     "text": [
      "99700843.23076923\n",
      "43483907.13076923\n"
     ]
    }
   ],
   "source": [
    "financials_PG_13 = financials['certification'] == 'PG-13'\n",
    "\n",
    "\n",
    "new_df3 = financials.loc[financials_PG_13]\n",
    "\n",
    "avg_rev = new_df3['revenue'].mean()\n",
    "\n",
    "print(avg_rev)\n",
    "\n",
    "avg_budget = new_df3['budget'].mean()\n",
    "\n",
    "print(avg_budget)"
   ]
  },
  {
   "cell_type": "markdown",
   "id": "b6d32ffa",
   "metadata": {},
   "source": [
    "### Rated R"
   ]
  },
  {
   "cell_type": "code",
   "execution_count": 100,
   "id": "d65830dd",
   "metadata": {},
   "outputs": [
    {
     "name": "stdout",
     "output_type": "stream",
     "text": [
      "33347149.90350877\n",
      "19822387.93859649\n"
     ]
    }
   ],
   "source": [
    "financials_R = financials['certification'] == 'R'\n",
    "\n",
    "\n",
    "new_df4 = financials.loc[financials_R]\n",
    "\n",
    "avg_rev = new_df4['revenue'].mean()\n",
    "\n",
    "print(avg_rev)\n",
    "\n",
    "avg_budget = new_df4['budget'].mean()\n",
    "\n",
    "print(avg_budget)"
   ]
  },
  {
   "cell_type": "markdown",
   "id": "8243e4fb",
   "metadata": {},
   "source": [
    "### NR"
   ]
  },
  {
   "cell_type": "code",
   "execution_count": 101,
   "id": "a79833fe",
   "metadata": {},
   "outputs": [
    {
     "name": "stdout",
     "output_type": "stream",
     "text": [
      "8887618.88235294\n",
      "6300005.529411765\n"
     ]
    }
   ],
   "source": [
    "financials_NR = financials['certification'] == 'NR'\n",
    "\n",
    "\n",
    "new_df5 = financials.loc[financials_NR]\n",
    "\n",
    "avg_rev = new_df5['revenue'].mean()\n",
    "\n",
    "print(avg_rev)\n",
    "\n",
    "avg_budget = new_df5['budget'].mean()\n",
    "\n",
    "print(avg_budget)"
   ]
  },
  {
   "cell_type": "code",
   "execution_count": 103,
   "id": "6b27e59f",
   "metadata": {},
   "outputs": [
    {
     "data": {
      "text/plain": [
       "Text(0, 0.5, 'Count')"
      ]
     },
     "execution_count": 103,
     "metadata": {},
     "output_type": "execute_result"
    },
    {
     "data": {
      "image/png": "[encoded data removed]",
      "text/plain": [
       "<Figure size 640x480 with 1 Axes>"
      ]
     },
     "metadata": {},
     "output_type": "display_data"
    }
   ],
   "source": [
    "0.0\n",
    "fig, ax = plt.subplots()\n",
    "new_df1['revenue'].hist(alpha = 0.5)\n",
    "new_df2['revenue'].hist(alpha = 0.5)\n",
    "new_df3['revenue'].hist(alpha = 0.5)\n",
    "new_df4['revenue'].hist(alpha = 0.5)\n",
    "new_df5['revenue'].hist(alpha = 0.5)\n",
    "ax.set_xlabel('Revenue in $')\n",
    "ax.set_ylabel(\"Count\")"
   ]
  },
  {
   "cell_type": "code",
   "execution_count": 105,
   "id": "83ff6ad3",
   "metadata": {},
   "outputs": [
    {
     "data": {
      "image/png": "[encoded data removed]",
      "text/plain": [
       "<Figure size 640x480 with 1 Axes>"
      ]
     },
     "metadata": {},
     "output_type": "display_data"
    }
   ],
   "source": [
    "ax = sns.barplot(data=financials, x='certification', y='revenue', ci=68)"
   ]
  },
  {
   "cell_type": "code",
   "execution_count": 106,
   "id": "ddaa12d9",
   "metadata": {},
   "outputs": [
    {
     "data": {
      "text/html": [
       "<div>\n",
       "<style scoped>\n",
       "    .dataframe tbody tr th:only-of-type {\n",
       "        vertical-align: middle;\n",
       "    }\n",
       "\n",
       "    .dataframe tbody tr th {\n",
       "        vertical-align: top;\n",
       "    }\n",
       "\n",
       "    .dataframe thead th {\n",
       "        text-align: right;\n",
       "    }\n",
       "</style>\n",
       "<table border=\"1\" class=\"dataframe\">\n",
       "  <thead>\n",
       "    <tr style=\"text-align: right;\">\n",
       "      <th></th>\n",
       "      <th>certification</th>\n",
       "      <th>revenue</th>\n",
       "    </tr>\n",
       "  </thead>\n",
       "  <tbody>\n",
       "    <tr>\n",
       "      <th>1</th>\n",
       "      <td>PG</td>\n",
       "      <td>132000000.0</td>\n",
       "    </tr>\n",
       "    <tr>\n",
       "      <th>2</th>\n",
       "      <td>PG</td>\n",
       "      <td>132000000.0</td>\n",
       "    </tr>\n",
       "    <tr>\n",
       "      <th>3</th>\n",
       "      <td>PG</td>\n",
       "      <td>132000000.0</td>\n",
       "    </tr>\n",
       "    <tr>\n",
       "      <th>4</th>\n",
       "      <td>PG</td>\n",
       "      <td>132000000.0</td>\n",
       "    </tr>\n",
       "    <tr>\n",
       "      <th>5</th>\n",
       "      <td>PG</td>\n",
       "      <td>132000000.0</td>\n",
       "    </tr>\n",
       "    <tr>\n",
       "      <th>...</th>\n",
       "      <td>...</td>\n",
       "      <td>...</td>\n",
       "    </tr>\n",
       "    <tr>\n",
       "      <th>4285</th>\n",
       "      <td>NaN</td>\n",
       "      <td>123021750.0</td>\n",
       "    </tr>\n",
       "    <tr>\n",
       "      <th>4301</th>\n",
       "      <td>NaN</td>\n",
       "      <td>0.0</td>\n",
       "    </tr>\n",
       "    <tr>\n",
       "      <th>4303</th>\n",
       "      <td>NaN</td>\n",
       "      <td>500000.0</td>\n",
       "    </tr>\n",
       "    <tr>\n",
       "      <th>4315</th>\n",
       "      <td>NaN</td>\n",
       "      <td>0.0</td>\n",
       "    </tr>\n",
       "    <tr>\n",
       "      <th>4326</th>\n",
       "      <td>NaN</td>\n",
       "      <td>0.0</td>\n",
       "    </tr>\n",
       "  </tbody>\n",
       "</table>\n",
       "<p>6825 rows × 2 columns</p>\n",
       "</div>"
      ],
      "text/plain": [
       "     certification      revenue\n",
       "1               PG  132000000.0\n",
       "2               PG  132000000.0\n",
       "3               PG  132000000.0\n",
       "4               PG  132000000.0\n",
       "5               PG  132000000.0\n",
       "...            ...          ...\n",
       "4285           NaN  123021750.0\n",
       "4301           NaN          0.0\n",
       "4303           NaN     500000.0\n",
       "4315           NaN          0.0\n",
       "4326           NaN          0.0\n",
       "\n",
       "[6825 rows x 2 columns]"
      ]
     },
     "execution_count": 106,
     "metadata": {},
     "output_type": "execute_result"
    }
   ],
   "source": [
    "needed_cols=['certification', 'revenue']\n",
    "financials[needed_cols]\n"
   ]
  },
  {
   "cell_type": "code",
   "execution_count": 108,
   "id": "1172c4d0",
   "metadata": {},
   "outputs": [
    {
     "data": {
      "text/plain": [
       "dict_keys(['PG', nan, 'R', 'G', 'PG-13', 'NR'])"
      ]
     },
     "execution_count": 108,
     "metadata": {},
     "output_type": "execute_result"
    }
   ],
   "source": [
    "groups = {}\n",
    "for certification in financials['certification'].unique():\n",
    "    temp=financials.loc[financials['certification']==certification, 'revenue']\n",
    "    groups[certification]= temp\n",
    "    \n",
    "    \n",
    "groups.keys()"
   ]
  },
  {
   "cell_type": "code",
   "execution_count": 110,
   "id": "7f1686a6",
   "metadata": {},
   "outputs": [
    {
     "data": {
      "text/plain": [
       "dict_items([('PG', 1       132000000.0\n",
       "2       132000000.0\n",
       "3       132000000.0\n",
       "4       132000000.0\n",
       "5       132000000.0\n",
       "           ...     \n",
       "3688     37317558.0\n",
       "3837     24516772.0\n",
       "3946     42776760.0\n",
       "3965            0.0\n",
       "3966     28023563.0\n",
       "Name: revenue, Length: 6238, dtype: float64), (nan, Series([], Name: revenue, dtype: float64)), ('R', 3151         0.0\n",
       "3156     14904.0\n",
       "3161    105983.0\n",
       "3170    327418.0\n",
       "3175         0.0\n",
       "          ...   \n",
       "3944         0.0\n",
       "3953    318451.0\n",
       "3996         0.0\n",
       "4186         0.0\n",
       "4251         0.0\n",
       "Name: revenue, Length: 228, dtype: float64), ('G', 3158    224834564.0\n",
       "3165    169327687.0\n",
       "3420     27965865.0\n",
       "3528     19748009.0\n",
       "3591    183611771.0\n",
       "3614    103291131.0\n",
       "3710     45554533.0\n",
       "3837     68411275.0\n",
       "3158    579707738.0\n",
       "3184       100202.0\n",
       "3457    165335153.0\n",
       "3643     44460850.0\n",
       "3677     80936232.0\n",
       "3745     18634654.0\n",
       "Name: revenue, dtype: float64), ('PG-13', 3162    546388105.0\n",
       "3163    296339527.0\n",
       "3190    127666415.0\n",
       "3195    123307945.0\n",
       "3199     34566746.0\n",
       "           ...     \n",
       "3726     50315140.0\n",
       "3795     92542418.0\n",
       "3866      1023156.0\n",
       "4040      4035192.0\n",
       "4215            0.0\n",
       "Name: revenue, Length: 130, dtype: float64), ('NR', 3348    47386287.0\n",
       "3537      268117.0\n",
       "3838           0.0\n",
       "3870      126783.0\n",
       "3899      326484.0\n",
       "4016    11068800.0\n",
       "4102    30600000.0\n",
       "4299           0.0\n",
       "4350           0.0\n",
       "3139       46352.0\n",
       "3178        9200.0\n",
       "3423    33616692.0\n",
       "3541     7640680.0\n",
       "3606         126.0\n",
       "3714           0.0\n",
       "3825    20000000.0\n",
       "4244           0.0\n",
       "Name: revenue, dtype: float64)])"
      ]
     },
     "execution_count": 110,
     "metadata": {},
     "output_type": "execute_result"
    }
   ],
   "source": [
    "groups.items()"
   ]
  },
  {
   "cell_type": "markdown",
   "id": "028352ea",
   "metadata": {},
   "source": [
    "## The stakeholder's first question is: does the MPAA rating of a movie (G/PG/PG-13/R) affect how much revenue the movie generates?\n",
    "\n"
   ]
  },
  {
   "cell_type": "markdown",
   "id": "38743185",
   "metadata": {},
   "source": [
    "1A. (Null Hypothesis): a movies' Ratings doesn't affect the revenue it generates\n",
    "\n",
    "1B. (Alternative Hypothesis): A movies' ratings can determine how much revenue a movie generates."
   ]
  },
  {
   "cell_type": "code",
   "execution_count": 112,
   "id": "67ebb1ad",
   "metadata": {},
   "outputs": [
    {
     "data": {
      "text/plain": [
       "False    6207\n",
       "True       31\n",
       "Name: revenue, dtype: int64"
      ]
     },
     "execution_count": 112,
     "metadata": {},
     "output_type": "execute_result"
    }
   ],
   "source": [
    "temp = np.abs(stats.zscore(groups['PG'])) > 3\n",
    "temp.value_counts()"
   ]
  },
  {
   "cell_type": "code",
   "execution_count": 114,
   "id": "36da020a",
   "metadata": {},
   "outputs": [
    {
     "name": "stdout",
     "output_type": "stream",
     "text": [
      "there were 31 outliers in the PG group\n",
      "there were 0 outliers in the nan group\n",
      "there were 5 outliers in the R group\n",
      "there were 1 outliers in the G group\n",
      "there were 2 outliers in the PG-13 group\n",
      "there were 0 outliers in the NR group\n"
     ]
    }
   ],
   "source": [
    "#loop  through group dict\n",
    "for certification,data in groups.items():\n",
    "    #determine if there are any outliers\n",
    "    outliers= np.abs(stats.zscore(data)) > 3\n",
    "    ##Print a statement about how many outliers for which group name\n",
    "    print(f'there were {outliers.sum()} outliers in the {certification} group')\n",
    "    ##Remove the outliers from data and overwrite the sector data in the dict\n",
    "    data = data.loc[~outliers]\n",
    "    groups[certification] = data "
   ]
  },
  {
   "cell_type": "code",
   "execution_count": 127,
   "id": "597c1cf0",
   "metadata": {},
   "outputs": [
    {
     "data": {
      "text/plain": [
       "0.0"
      ]
     },
     "execution_count": 127,
     "metadata": {},
     "output_type": "execute_result"
    }
   ],
   "source": [
    "stats.normaltest(groups['PG']).pvalue\n"
   ]
  },
  {
   "cell_type": "code",
   "execution_count": 126,
   "id": "842ba473",
   "metadata": {},
   "outputs": [
    {
     "data": {
      "text/plain": [
       "True"
      ]
     },
     "execution_count": 126,
     "metadata": {},
     "output_type": "execute_result"
    }
   ],
   "source": [
    "stats.normaltest(groups['R']).pvalue<0.5\n"
   ]
  },
  {
   "cell_type": "code",
   "execution_count": 125,
   "id": "9311d680",
   "metadata": {},
   "outputs": [
    {
     "data": {
      "text/plain": [
       "True"
      ]
     },
     "execution_count": 125,
     "metadata": {},
     "output_type": "execute_result"
    }
   ],
   "source": [
    "stats.normaltest(groups['PG-13']).pvalue<0.5\n"
   ]
  },
  {
   "cell_type": "code",
   "execution_count": 121,
   "id": "e5389540",
   "metadata": {},
   "outputs": [
    {
     "name": "stderr",
     "output_type": "stream",
     "text": [
      "/opt/homebrew/Caskroom/miniforge/base/envs/dojo-env/lib/python3.8/site-packages/scipy/stats/_stats_py.py:1477: UserWarning: kurtosistest only valid for n>=20 ... continuing anyway, n=13\n",
      "  warnings.warn(\"kurtosistest only valid for n>=20 ... continuing \"\n"
     ]
    },
    {
     "data": {
      "text/plain": [
       "True"
      ]
     },
     "execution_count": 121,
     "metadata": {},
     "output_type": "execute_result"
    }
   ],
   "source": [
    "stats.normaltest(groups['G']).pvalue<0.5\n"
   ]
  },
  {
   "cell_type": "code",
   "execution_count": 122,
   "id": "69dcb0bc",
   "metadata": {},
   "outputs": [
    {
     "name": "stderr",
     "output_type": "stream",
     "text": [
      "/opt/homebrew/Caskroom/miniforge/base/envs/dojo-env/lib/python3.8/site-packages/scipy/stats/_stats_py.py:1477: UserWarning: kurtosistest only valid for n>=20 ... continuing anyway, n=17\n",
      "  warnings.warn(\"kurtosistest only valid for n>=20 ... continuing \"\n"
     ]
    },
    {
     "data": {
      "text/plain": [
       "True"
      ]
     },
     "execution_count": 122,
     "metadata": {},
     "output_type": "execute_result"
    }
   ],
   "source": [
    "stats.normaltest(groups['NR']).pvalue<0.5\n"
   ]
  },
  {
   "cell_type": "markdown",
   "id": "2e336c8a",
   "metadata": {},
   "source": [
    "Reject the null hypothesis. A movies' ratings  affects how much revenue a movie generates."
   ]
  },
  {
   "cell_type": "code",
   "execution_count": 123,
   "id": "b86bd5ba",
   "metadata": {},
   "outputs": [
    {
     "data": {
      "image/png": "[encoded data removed]",
      "text/plain": [
       "<Figure size 640x480 with 1 Axes>"
      ]
     },
     "metadata": {},
     "output_type": "display_data"
    }
   ],
   "source": [
    "ax = sns.barplot(data=financials, x='certification', y='revenue', ci=68)"
   ]
  },
  {
   "cell_type": "markdown",
   "id": "d034e961",
   "metadata": {},
   "source": [
    "movies rated PG earned the most money in 2000 and 2001, thee P value is 0.0"
   ]
  },
  {
   "cell_type": "code",
   "execution_count": null,
   "id": "ea8f8cce",
   "metadata": {},
   "outputs": [],
   "source": []
  }
 ],
 "metadata": {
  "kernelspec": {
   "display_name": "Python (dojo-env)",
   "language": "python",
   "name": "dojo-env"
  },
  "language_info": {
   "codemirror_mode": {
    "name": "ipython",
    "version": 3
   },
   "file_extension": ".py",
   "mimetype": "text/x-python",
   "name": "python",
   "nbconvert_exporter": "python",
   "pygments_lexer": "ipython3",
   "version": "3.8.13"
  },
  "toc": {
   "base_numbering": 1,
   "nav_menu": {},
   "number_sections": false,
   "sideBar": true,
   "skip_h1_title": false,
   "title_cell": "Table of Contents",
   "title_sidebar": "Contents",
   "toc_cell": false,
   "toc_position": {},
   "toc_section_display": true,
   "toc_window_display": true
  }
 },
 "nbformat": 4,
 "nbformat_minor": 5
}
